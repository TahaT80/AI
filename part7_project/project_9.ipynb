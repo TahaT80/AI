{
 "cells": [
  {
   "cell_type": "code",
   "execution_count": 112,
   "id": "0dcfef85",
   "metadata": {},
   "outputs": [],
   "source": [
    "%matplotlib inline\n",
    "import numpy as np\n",
    "import pandas as pd\n",
    "import matplotlib.pyplot as plt\n",
    "import seaborn as sns\n",
    "from sklearn.linear_model import LogisticRegression\n",
    "from sklearn.model_selection import train_test_split\n",
    "from sklearn.preprocessing import PolynomialFeatures\n",
    "from sklearn.datasets import load_digits\n"
   ]
  },
  {
   "cell_type": "code",
   "execution_count": 113,
   "id": "2ec1f825",
   "metadata": {},
   "outputs": [
    {
     "data": {
      "text/plain": [
       "((1797, 64), (1797, 1))"
      ]
     },
     "execution_count": 113,
     "metadata": {},
     "output_type": "execute_result"
    }
   ],
   "source": [
    "x,y = load_digits(return_X_y=True)\n",
    "y = y.reshape(-1,1)\n",
    "x.shape,y.shape"
   ]
  },
  {
   "cell_type": "code",
   "execution_count": 114,
   "id": "9719fe7e",
   "metadata": {},
   "outputs": [
    {
     "data": {
      "text/plain": [
       "((180, 64), (180, 1))"
      ]
     },
     "execution_count": 114,
     "metadata": {},
     "output_type": "execute_result"
    }
   ],
   "source": [
    "\n",
    "X_random = np.random.randint(0, 16, (180, 64))\n",
    "Y_random = np.full((180,1),10)\n",
    "X_random.shape,Y_random.shape\n"
   ]
  },
  {
   "cell_type": "code",
   "execution_count": 115,
   "id": "7b7dcd58",
   "metadata": {},
   "outputs": [
    {
     "data": {
      "text/plain": [
       "((1977, 64), (1977, 1))"
      ]
     },
     "execution_count": 115,
     "metadata": {},
     "output_type": "execute_result"
    }
   ],
   "source": [
    "x = np.concatenate([x, X_random], axis=0)  # محور صفر یعنی ردیف‌ها\n",
    "y = np.concatenate([y, Y_random], axis=0)  # محور صفر یعنی ردیف‌ها\n",
    "x.shape,y.shape"
   ]
  },
  {
   "cell_type": "code",
   "execution_count": 116,
   "id": "4d9796e5",
   "metadata": {},
   "outputs": [
    {
     "data": {
      "text/plain": [
       "(1581, 64)"
      ]
     },
     "execution_count": 116,
     "metadata": {},
     "output_type": "execute_result"
    }
   ],
   "source": [
    "X_train, X_test, y_train, y_test = train_test_split(x,y,test_size=0.2)\n",
    "X_train.shape"
   ]
  },
  {
   "cell_type": "code",
   "execution_count": 117,
   "id": "2a3d7968",
   "metadata": {},
   "outputs": [],
   "source": [
    "def train(X_train, X_test, y_train, y_test,max_iter=100 , C=1 ,solver='lbfgs',dual=False):\n",
    "    model = LogisticRegression(max_iter=max_iter , C=C ,solver=solver,dual=dual)\n",
    "    model.fit(X_train,y_train.ravel())\n",
    "    s_train = model.score(X_train,y_train)\n",
    "    s_test = model.score(X_test,y_test)\n",
    "    return model , f'score_train :{s_train} , score_test : {s_test}'"
   ]
  },
  {
   "cell_type": "code",
   "execution_count": 118,
   "id": "1ec69fb4",
   "metadata": {},
   "outputs": [
    {
     "data": {
      "text/plain": [
       "(LogisticRegression(C=1.1, max_iter=10000, solver='liblinear'),\n",
       " 'score_train :0.9955724225173941 , score_test : 0.9570707070707071')"
      ]
     },
     "execution_count": 118,
     "metadata": {},
     "output_type": "execute_result"
    }
   ],
   "source": [
    "a = train(X_train, X_test, y_train, y_test, solver='liblinear',max_iter=10000 ,C=1.1)\n",
    "model= a[0]\n",
    "a"
   ]
  },
  {
   "cell_type": "code",
   "execution_count": 119,
   "id": "db15a922",
   "metadata": {},
   "outputs": [],
   "source": [
    "def pre(i):\n",
    "    Y = y_test[i]\n",
    "    X_p = model.predict(X_test[i].reshape(1,-1))\n",
    "    plt.figure(figsize=(1,1))\n",
    "    plt.imshow(X_test[i].reshape(8,8),'gray')\n",
    "    return f'Y:{Y} -  X_p:{X_p}'"
   ]
  },
  {
   "cell_type": "code",
   "execution_count": 120,
   "id": "87789420",
   "metadata": {},
   "outputs": [
    {
     "data": {
      "text/plain": [
       "'Y:[9] -  X_p:[9]'"
      ]
     },
     "execution_count": 120,
     "metadata": {},
     "output_type": "execute_result"
    },
    {
     "data": {
      "image/png": "[encoded data removed]",
      "text/plain": [
       "<Figure size 100x100 with 1 Axes>"
      ]
     },
     "metadata": {},
     "output_type": "display_data"
    }
   ],
   "source": [
    "pre(4)"
   ]
  },
  {
   "cell_type": "code",
   "execution_count": null,
   "id": "2e26494f",
   "metadata": {},
   "outputs": [],
   "source": []
  }
 ],
 "metadata": {
  "kernelspec": {
   "display_name": "Learning_venv",
   "language": "python",
   "name": "python3"
  },
  "language_info": {
   "codemirror_mode": {
    "name": "ipython",
    "version": 3
   },
   "file_extension": ".py",
   "mimetype": "text/x-python",
   "name": "python",
   "nbconvert_exporter": "python",
   "pygments_lexer": "ipython3",
   "version": "3.13.3"
  }
 },
 "nbformat": 4,
 "nbformat_minor": 5
}
