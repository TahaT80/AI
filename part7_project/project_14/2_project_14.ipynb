{
 "cells": [
  {
   "cell_type": "code",
   "execution_count": 4,
   "id": "19f5a187",
   "metadata": {},
   "outputs": [],
   "source": [
    "import numpy as np\n",
    "import pandas as pd\n",
    "import matplotlib.pyplot as plt\n",
    "import pickle\n",
    "from PIL import Image\n",
    "import cv2\n",
    "import  keras\n"
   ]
  },
  {
   "cell_type": "code",
   "execution_count": 5,
   "id": "598ea9e0",
   "metadata": {},
   "outputs": [],
   "source": [
    "models = []\n",
    "for i in range(4):\n",
    "    model = keras.models.load_model(f'model_{i}.h5')\n",
    "    models.append(model)\n"
   ]
  },
  {
   "cell_type": "code",
   "execution_count": 6,
   "id": "5091fd2d",
   "metadata": {},
   "outputs": [
    {
     "data": {
      "image/png": "[encoded data removed]",
      "text/plain": [
       "<Figure size 640x480 with 1 Axes>"
      ]
     },
     "metadata": {},
     "output_type": "display_data"
    }
   ],
   "source": [
    "f = '../../part4_Machine Learning/Noron/2_1_Correlation/test/X3SL.png'\n",
    "im = cv2.imread(f)\n",
    "im = cv2.cvtColor(im,cv2.COLOR_BGR2GRAY)\n",
    "im = (255-im)/255\n",
    "plt.imshow(im,'gray');"
   ]
  },
  {
   "cell_type": "code",
   "execution_count": 9,
   "id": "5c7c1c42",
   "metadata": {},
   "outputs": [],
   "source": [
    "with open('encoder.bin','rb')as f:\n",
    "    encoder = pickle.load(f)"
   ]
  },
  {
   "cell_type": "code",
   "execution_count": 10,
   "id": "4dfe1a49",
   "metadata": {},
   "outputs": [
    {
     "name": "stdout",
     "output_type": "stream",
     "text": [
      "1/1 [==============================] - 2s 2s/step\n",
      "['X']\n",
      "1/1 [==============================] - 0s 102ms/step\n",
      "['3']\n",
      "1/1 [==============================] - 0s 95ms/step\n",
      "['S']\n",
      "1/1 [==============================] - 0s 97ms/step\n",
      "['L']\n"
     ]
    }
   ],
   "source": [
    "for i in range(4):\n",
    "    r = models[i].predict(im.reshape(1,24,72,1))\n",
    "    print(encoder.inverse_transform([np.argmax(r)]))"
   ]
  },
  {
   "cell_type": "code",
   "execution_count": null,
   "id": "03f40a1b",
   "metadata": {},
   "outputs": [],
   "source": []
  }
 ],
 "metadata": {
  "kernelspec": {
   "display_name": "tf-gpu-env",
   "language": "python",
   "name": "python3"
  },
  "language_info": {
   "codemirror_mode": {
    "name": "ipython",
    "version": 3
   },
   "file_extension": ".py",
   "mimetype": "text/x-python",
   "name": "python",
   "nbconvert_exporter": "python",
   "pygments_lexer": "ipython3",
   "version": "3.8.20"
  }
 },
 "nbformat": 4,
 "nbformat_minor": 5
}
