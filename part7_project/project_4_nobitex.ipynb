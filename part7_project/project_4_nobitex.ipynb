{
 "cells": [
  {
   "cell_type": "code",
   "execution_count": 12,
   "id": "3fde4cb1",
   "metadata": {},
   "outputs": [],
   "source": [
    "import requests\n",
    "import matplotlib.pyplot as plt\n",
    "from matplotlib.animation import FuncAnimation\n",
    "import numpy as nb\n",
    "\n",
    "%matplotlib qt"
   ]
  },
  {
   "cell_type": "code",
   "execution_count": 2,
   "id": "fc6e1dd3",
   "metadata": {},
   "outputs": [
    {
     "name": "stdout",
     "output_type": "stream",
     "text": [
      "آخرین قیمت USDT/IRT: 837770 تومان\n"
     ]
    }
   ],
   "source": [
    "url = \"https://api.nobitex.ir/market/stats\"\n",
    "params = {\n",
    "    'srcCurrency': 'usdt',\n",
    "    'dstCurrency': 'irt'\n",
    "}\n",
    "response = requests.get(url, params=params)\n",
    "data = response.json()\n",
    "price = data['stats']['usdt-irt']['latest']\n",
    "print(f\"آخرین قیمت USDT/IRT: {price} تومان\")\n"
   ]
  },
  {
   "cell_type": "code",
   "execution_count": 3,
   "id": "048a7cb8",
   "metadata": {},
   "outputs": [
    {
     "name": "stdout",
     "output_type": "stream",
     "text": [
      "{'status': 'ok', 'lastUpdate': 1747318507534, 'lastTradePrice': '837700', 'asks': [['837680', '360.96'], ['837600', '90'], ['837560', '23.87'], ['837500', '2.18'], ['837460', '1095.59'], ['837440', '23.83'], ['837400', '1335.25'], ['837390', '8.28'], ['837310', '29.23'], ['837070', '87.76'], ['836990', '11.9'], ['836020', '100'], ['836010', '120'], ['836000', '213.2'], ['835500', '76.16'], ['835000', '1709.96'], ['834500', '23.87'], ['834410', '150.62'], ['834400', '150.7'], ['834200', '299.66'], ['834150', '20'], ['834140', '1691.24'], ['834130', '1562.45'], ['834100', '1116.03']], 'bids': [['837700', '10122.63'], ['837720', '31.25'], ['837760', '23.88'], ['837770', '5598.75'], ['837970', '10209.9'], ['837990', '2773.93'], ['838000', '33418.79'], ['838020', '3005'], ['838030', '507.99'], ['838100', '571.75'], ['838110', '85.48'], ['838140', '1061.31'], ['838190', '222.8'], ['838210', '10'], ['838220', '1.2'], ['838250', '10'], ['838270', '352.36'], ['838300', '2169.01'], ['838390', '4.83'], ['838430', '119.63'], ['838440', '5'], ['838470', '0.6'], ['838480', '90.12'], ['838500', '680.95']]}\n"
     ]
    }
   ],
   "source": [
    "url = \"https://api.nobitex.ir/v2/orderbook/USDTIRT\"\n",
    "response = requests.get(url)\n",
    "order_book = response.json()\n",
    "asks = nb.array(order_book['asks'] )  # فروشندگان\n",
    "bids = nb.array(order_book['bids'])  # خریداران\n",
    "print(order_book)"
   ]
  },
  {
   "cell_type": "code",
   "execution_count": 4,
   "id": "7fae7ea4",
   "metadata": {},
   "outputs": [],
   "source": [
    "def get_data():\n",
    "    \n",
    "    url = \"https://api.nobitex.ir/v2/orderbook/USDTIRT\"\n",
    "    response = requests.get(url)\n",
    "    order_book = response.json()\n",
    "    asks = nb.array(order_book['asks'] )  # فروشندگان\n",
    "    bids = nb.array(order_book['bids'])  # خریداران\n",
    "    return order_book,asks,bids\n"
   ]
  },
  {
   "cell_type": "code",
   "execution_count": 25,
   "id": "a0ad7e41",
   "metadata": {},
   "outputs": [],
   "source": [
    "i = 0\n",
    "x_data = []\n",
    "ask_data = []\n",
    "bid_data = []\n",
    "\n",
    "\n",
    "\n",
    "\n",
    "def update(frame):\n",
    "    global i\n",
    "    order_book, asks, bids = get_data()\n",
    "    \n",
    "    x_data.append(i)\n",
    "    ask_data.append(float(asks[0][0]))\n",
    "    bid_data.append(float(bids[0][0]))\n",
    "    i += 1\n",
    "\n",
    "    ask_line.set_data(x_data, ask_data)\n",
    "    bid_line.set_data(x_data, bid_data)\n",
    "    ax.relim()\n",
    "    ax.autoscale_view()\n",
    "\n",
    "    return ask_line, bid_line\n",
    "\n",
    "\n",
    "\n",
    "# ساخت شکل و خط\n",
    "fig, ax = plt.subplots()\n",
    "ask_line, = ax.plot([], [], label='Ask Price', color='green', marker='o')\n",
    "bid_line, = ax.plot([], [], label='Bid Price', color='red', marker='x')\n",
    "ax.set_title(\"Live Price\")\n",
    "ax.set_xlabel(\"Time\")\n",
    "ax.set_ylabel(\"Ask Price\")\n",
    "ax.grid(True)\n",
    "ax.set_ylim(600000, 950000)\n",
    "# این قسمت حیاتیه! متغیر ani باید نگه داشته بشه\n",
    "ani = FuncAnimation(fig, update, interval=1000, save_count=10)\n",
    "\n",
    "plt.tight_layout()\n",
    "plt.show()\n"
   ]
  },
  {
   "cell_type": "code",
   "execution_count": null,
   "id": "de4f9477",
   "metadata": {},
   "outputs": [],
   "source": []
  }
 ],
 "metadata": {
  "kernelspec": {
   "display_name": "Learning_venv",
   "language": "python",
   "name": "python3"
  },
  "language_info": {
   "codemirror_mode": {
    "name": "ipython",
    "version": 3
   },
   "file_extension": ".py",
   "mimetype": "text/x-python",
   "name": "python",
   "nbconvert_exporter": "python",
   "pygments_lexer": "ipython3",
   "version": "3.13.3"
  }
 },
 "nbformat": 4,
 "nbformat_minor": 5
}
