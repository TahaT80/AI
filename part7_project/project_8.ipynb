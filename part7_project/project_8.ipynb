{
 "cells": [
  {
   "cell_type": "code",
   "execution_count": 1,
   "id": "0dcfef85",
   "metadata": {},
   "outputs": [],
   "source": [
    "%matplotlib inline\n",
    "import numpy as np\n",
    "import pandas as pd\n",
    "import matplotlib.pyplot as plt\n",
    "import seaborn as sns\n",
    "from sklearn.linear_model import LogisticRegression\n",
    "from sklearn.model_selection import train_test_split\n",
    "from sklearn.preprocessing import PolynomialFeatures\n",
    "from sklearn.datasets import load_digits\n"
   ]
  },
  {
   "cell_type": "code",
   "execution_count": 2,
   "id": "2ec1f825",
   "metadata": {},
   "outputs": [
    {
     "data": {
      "text/plain": [
       "(array([[ 0.,  0.,  5., ...,  0.,  0.,  0.],\n",
       "        [ 0.,  0.,  0., ..., 10.,  0.,  0.],\n",
       "        [ 0.,  0.,  0., ..., 16.,  9.,  0.],\n",
       "        ...,\n",
       "        [ 0.,  0.,  1., ...,  6.,  0.,  0.],\n",
       "        [ 0.,  0.,  2., ..., 12.,  0.,  0.],\n",
       "        [ 0.,  0., 10., ..., 12.,  1.,  0.]], shape=(1797, 64)),\n",
       " array([0, 1, 2, ..., 8, 9, 8], shape=(1797,)))"
      ]
     },
     "execution_count": 2,
     "metadata": {},
     "output_type": "execute_result"
    }
   ],
   "source": [
    "x,y = load_digits(return_X_y=True)\n",
    "x,y"
   ]
  },
  {
   "cell_type": "code",
   "execution_count": 3,
   "id": "4d9796e5",
   "metadata": {},
   "outputs": [],
   "source": [
    "X_train, X_test, y_train, y_test = train_test_split(x,y,test_size=0.2)"
   ]
  },
  {
   "cell_type": "code",
   "execution_count": 4,
   "id": "2a3d7968",
   "metadata": {},
   "outputs": [],
   "source": [
    "def train(X_train, X_test, y_train, y_test,max_iter=10000 , C=1 ,solver='lbfgs',dual=False):\n",
    "    model = LogisticRegression(max_iter=max_iter , C=C ,solver=solver,dual=dual)\n",
    "    model.fit(X_train,y_train)\n",
    "    s_train = model.score(X_train,y_train)\n",
    "    s_test = model.score(X_test,y_test)\n",
    "    return model , f'score_train :{s_train} , score_test : {s_test}'"
   ]
  },
  {
   "cell_type": "code",
   "execution_count": null,
   "id": "f261ac2f",
   "metadata": {},
   "outputs": [
    {
     "name": "stdout",
     "output_type": "stream",
     "text": [
      "lbfgs -> (LogisticRegression(C=100, max_iter=10000), 'score_train :1.0 , score_test : 0.9638888888888889')\n",
      "lbfgs -> (LogisticRegression(C=10, max_iter=10000), 'score_train :1.0 , score_test : 0.9583333333333334')\n",
      "lbfgs -> (LogisticRegression(C=2, max_iter=10000), 'score_train :1.0 , score_test : 0.9583333333333334')\n",
      "lbfgs -> (LogisticRegression(C=1, max_iter=10000), 'score_train :1.0 , score_test : 0.9611111111111111')\n",
      "lbfgs -> (LogisticRegression(C=0.8, max_iter=10000), 'score_train :1.0 , score_test : 0.9611111111111111')\n",
      "lbfgs -> (LogisticRegression(C=0.5, max_iter=10000), 'score_train :1.0 , score_test : 0.9611111111111111')\n",
      "lbfgs -> (LogisticRegression(C=0.1, max_iter=10000), 'score_train :0.9993041057759221 , score_test : 0.9583333333333334')\n",
      "liblinear -> (LogisticRegression(C=100, max_iter=10000, solver='liblinear'), 'score_train :0.9986082115518441 , score_test : 0.9305555555555556')\n",
      "liblinear -> (LogisticRegression(C=10, max_iter=10000, solver='liblinear'), 'score_train :0.9972164231036882 , score_test : 0.9388888888888889')\n",
      "liblinear -> (LogisticRegression(C=2, max_iter=10000, solver='liblinear'), 'score_train :0.9958246346555324 , score_test : 0.9472222222222222')\n",
      "liblinear -> (LogisticRegression(C=1, max_iter=10000, solver='liblinear'), 'score_train :0.9937369519832986 , score_test : 0.9527777777777777')\n",
      "liblinear -> (LogisticRegression(C=0.8, max_iter=10000, solver='liblinear'), 'score_train :0.9930410577592206 , score_test : 0.9527777777777777')\n",
      "liblinear -> (LogisticRegression(C=0.5, max_iter=10000, solver='liblinear'), 'score_train :0.9930410577592206 , score_test : 0.9527777777777777')\n",
      "liblinear -> (LogisticRegression(C=0.1, max_iter=10000, solver='liblinear'), 'score_train :0.9916492693110647 , score_test : 0.9694444444444444')\n",
      "newton-cg -> (LogisticRegression(C=100, max_iter=10000, solver='newton-cg'), 'score_train :1.0 , score_test : 0.9611111111111111')\n",
      "newton-cg -> (LogisticRegression(C=10, max_iter=10000, solver='newton-cg'), 'score_train :1.0 , score_test : 0.9611111111111111')\n",
      "newton-cg -> (LogisticRegression(C=2, max_iter=10000, solver='newton-cg'), 'score_train :1.0 , score_test : 0.9611111111111111')\n",
      "newton-cg -> (LogisticRegression(C=1, max_iter=10000, solver='newton-cg'), 'score_train :1.0 , score_test : 0.9611111111111111')\n",
      "newton-cg -> (LogisticRegression(C=0.8, max_iter=10000, solver='newton-cg'), 'score_train :1.0 , score_test : 0.9611111111111111')\n",
      "newton-cg -> (LogisticRegression(C=0.5, max_iter=10000, solver='newton-cg'), 'score_train :1.0 , score_test : 0.9611111111111111')\n",
      "newton-cg -> (LogisticRegression(C=0.1, max_iter=10000, solver='newton-cg'), 'score_train :0.9993041057759221 , score_test : 0.9583333333333334')\n",
      "newton-cholesky -> (LogisticRegression(C=100, max_iter=10000, solver='newton-cholesky'), 'score_train :1.0 , score_test : 0.9583333333333334')\n"
     ]
    }
   ],
   "source": [
    "solver = [\"lbfgs\", \"liblinear\", \"newton-cg\", \"newton-cholesky\", \"sag\", \"saga\"]  \n",
    "c=[100,10,2,1,0.8,0.5,0.1]\n",
    "for i_solver in range(len(solver)):\n",
    "    for i_C in range(len(c)):\n",
    "        print(f'{solver[i_solver]} -> {train(X_train, X_test, y_train, y_test, solver=solver[i_solver] ,C=c[i_C])}')"
   ]
  },
  {
   "cell_type": "markdown",
   "id": "96dc5ebe",
   "metadata": {},
   "source": [
    "- lbfgs -> (LogisticRegression(C=0.1, max_iter=10000), 'score_train :0.9986082115518441 , score_test : 0.9805555555555555')\n",
    "- liblinear -> (LogisticRegression(C=10, max_iter=10000, solver='liblinear'), 'score_train :0.9972164231036882 , score_test : 0.9611111111111111')\n",
    "- liblinear -> (LogisticRegression(C=2, max_iter=10000, solver='liblinear'), 'score_train :0.9958246346555324 , score_test : 0.975')\n",
    "- liblinear -> (LogisticRegression(C=1, max_iter=10000, solver='liblinear'), 'score_train :0.9951287404314544 , score_test : 0.975')\n",
    "- newton-cg -> (LogisticRegression(C=0.1, max_iter=10000, solver='newton-cg'), 'score_train :0.9986082115518441 , score_test : 0.9805555555555555')\n",
    "- sag -> (LogisticRegression(C=0.1, max_iter=10000, solver='sag'), 'score_train :0.9986082115518441 , score_test : 0.9805555555555555')\n",
    "- saga -> (LogisticRegression(C=0.1, max_iter=10000, solver='saga'), 'score_train :0.9986082115518441 , score_test : 0.9805555555555555')"
   ]
  },
  {
   "cell_type": "code",
   "execution_count": null,
   "id": "8fe64688",
   "metadata": {},
   "outputs": [
    {
     "name": "stderr",
     "output_type": "stream",
     "text": [
      "c:\\Users\\Taha\\Desktop\\python_p\\AI\\Learning_venv\\Lib\\site-packages\\sklearn\\svm\\_base.py:1249: ConvergenceWarning: Liblinear failed to converge, increase the number of iterations.\n",
      "  warnings.warn(\n"
     ]
    },
    {
     "name": "stdout",
     "output_type": "stream",
     "text": [
      "liblinear -> (LogisticRegression(C=100, dual=True, max_iter=100000, solver='liblinear'), 'score_train :0.9986082115518441 , score_test : 0.9583333333333334')\n"
     ]
    }
   ],
   "source": [
    "solver = [\"liblinear\"]  \n",
    "c=[100,10,2,1,0.8,0.5,0.1]\n",
    "for i_solver in range(len(solver)):\n",
    "    for i_C in range(len(c)):\n",
    "        print(f'{solver[i_solver]} -> {train(X_train, X_test, y_train, y_test, solver=solver[i_solver] ,C=c[i_C],dual=True ,max_iter=10000 )}')"
   ]
  },
  {
   "cell_type": "code",
   "execution_count": 26,
   "id": "1ec69fb4",
   "metadata": {},
   "outputs": [
    {
     "data": {
      "text/plain": [
       "(LogisticRegression(C=1.1, max_iter=10000, solver='liblinear'),\n",
       " 'score_train :0.9958246346555324 , score_test : 0.9527777777777777')"
      ]
     },
     "execution_count": 26,
     "metadata": {},
     "output_type": "execute_result"
    }
   ],
   "source": [
    "train(X_train, X_test, y_train, y_test, solver='liblinear',max_iter=10000 ,C=1.1)"
   ]
  }
 ],
 "metadata": {
  "kernelspec": {
   "display_name": "Learning_venv",
   "language": "python",
   "name": "python3"
  },
  "language_info": {
   "codemirror_mode": {
    "name": "ipython",
    "version": 3
   },
   "file_extension": ".py",
   "mimetype": "text/x-python",
   "name": "python",
   "nbconvert_exporter": "python",
   "pygments_lexer": "ipython3",
   "version": "3.13.3"
  }
 },
 "nbformat": 4,
 "nbformat_minor": 5
}
