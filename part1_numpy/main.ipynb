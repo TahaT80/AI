{
 "cells": [
  {
   "cell_type": "code",
   "execution_count": 105,
   "id": "9e3db89e",
   "metadata": {},
   "outputs": [],
   "source": [
    "import numpy as np"
   ]
  },
  {
   "cell_type": "code",
   "execution_count": 106,
   "id": "b43f1bb3",
   "metadata": {},
   "outputs": [],
   "source": [
    "\n",
    "a = np.array([1,2,3,4])"
   ]
  },
  {
   "cell_type": "code",
   "execution_count": 107,
   "id": "6e00e715",
   "metadata": {},
   "outputs": [
    {
     "data": {
      "text/plain": [
       "array([1, 2, 3, 4])"
      ]
     },
     "execution_count": 107,
     "metadata": {},
     "output_type": "execute_result"
    }
   ],
   "source": [
    "a"
   ]
  },
  {
   "cell_type": "code",
   "execution_count": 108,
   "id": "05e0d958",
   "metadata": {},
   "outputs": [
    {
     "data": {
      "text/plain": [
       "array([[1, 2, 3],\n",
       "       [4, 5, 6]])"
      ]
     },
     "execution_count": 108,
     "metadata": {},
     "output_type": "execute_result"
    }
   ],
   "source": [
    "b = np.array([[1,2,3],[4,5,6]])\n",
    "b"
   ]
  },
  {
   "cell_type": "code",
   "execution_count": 109,
   "id": "8132e4a0",
   "metadata": {},
   "outputs": [
    {
     "name": "stdout",
     "output_type": "stream",
     "text": [
      "(4,) (2, 3)\n"
     ]
    }
   ],
   "source": [
    "print(a.shape,b.shape)"
   ]
  },
  {
   "cell_type": "code",
   "execution_count": 110,
   "id": "ac11daa0",
   "metadata": {},
   "outputs": [
    {
     "data": {
      "text/plain": [
       "(4, 1)"
      ]
     },
     "execution_count": 110,
     "metadata": {},
     "output_type": "execute_result"
    }
   ],
   "source": [
    "c = a.reshape((4,1))\n",
    "c.shape"
   ]
  },
  {
   "cell_type": "code",
   "execution_count": 111,
   "id": "13b31131",
   "metadata": {},
   "outputs": [
    {
     "data": {
      "text/plain": [
       "(2, 2, 1)"
      ]
     },
     "execution_count": 111,
     "metadata": {},
     "output_type": "execute_result"
    }
   ],
   "source": [
    "d = a.reshape((2,2,1))\n",
    "d.shape"
   ]
  },
  {
   "cell_type": "code",
   "execution_count": 112,
   "id": "ebc874cb",
   "metadata": {},
   "outputs": [
    {
     "data": {
      "text/plain": [
       "(2, 2, 1)"
      ]
     },
     "execution_count": 112,
     "metadata": {},
     "output_type": "execute_result"
    }
   ],
   "source": [
    "dd = a.reshape((2,-1,1))\n",
    "dd.shape   "
   ]
  },
  {
   "cell_type": "code",
   "execution_count": 113,
   "id": "e8bf98b4",
   "metadata": {},
   "outputs": [],
   "source": [
    "a.resize((2,2))    # این میاد خودش رو ریشیپ میکنه و در داده ریاد به درد میخوره\n"
   ]
  },
  {
   "cell_type": "code",
   "execution_count": 114,
   "id": "ba231ee2",
   "metadata": {},
   "outputs": [
    {
     "data": {
      "text/plain": [
       "array([1, 2, 3, 4, 5, 6])"
      ]
     },
     "execution_count": 114,
     "metadata": {},
     "output_type": "execute_result"
    }
   ],
   "source": [
    "a = np.array([1,2,3])\n",
    "b = np.array([4,5,6])\n",
    "c = np.concatenate((a,b))\n",
    "c"
   ]
  },
  {
   "cell_type": "code",
   "execution_count": 115,
   "id": "150c5d99",
   "metadata": {},
   "outputs": [
    {
     "data": {
      "text/plain": [
       "array([5, 7, 9])"
      ]
     },
     "execution_count": 115,
     "metadata": {},
     "output_type": "execute_result"
    }
   ],
   "source": [
    "a = np.array([1,2,3])\n",
    "b = np.array([4,5,6])\n",
    "c= a+b\n",
    "c"
   ]
  },
  {
   "cell_type": "code",
   "execution_count": 116,
   "id": "57b01bdc",
   "metadata": {},
   "outputs": [
    {
     "data": {
      "text/plain": [
       "array([ 4, 10, 18])"
      ]
     },
     "execution_count": 116,
     "metadata": {},
     "output_type": "execute_result"
    }
   ],
   "source": [
    "a = np.array([1,2,3])\n",
    "b = np.array([4,5,6])\n",
    "c= a*b\n",
    "c"
   ]
  },
  {
   "cell_type": "code",
   "execution_count": 117,
   "id": "cb23c65b",
   "metadata": {},
   "outputs": [
    {
     "data": {
      "text/plain": [
       "array([[ 1,  4,  9],\n",
       "       [ 4, 10, 18],\n",
       "       [ 7, 16, 27]])"
      ]
     },
     "execution_count": 117,
     "metadata": {},
     "output_type": "execute_result"
    }
   ],
   "source": [
    "# broadcasting\n",
    "a = np.array([1,2,3])\n",
    "b = np.array([[1,2,3],[4,5,6],[7,8,9]])\n",
    "c= a*b\n",
    "c"
   ]
  },
  {
   "cell_type": "code",
   "execution_count": 118,
   "id": "c66aab74",
   "metadata": {},
   "outputs": [
    {
     "data": {
      "text/plain": [
       "array([32])"
      ]
     },
     "execution_count": 118,
     "metadata": {},
     "output_type": "execute_result"
    }
   ],
   "source": [
    "a = np.array([[1],[2],[3]])\n",
    "b = np.array([4,5,6])\n",
    "c= b.dot(a)     # ضرب ماتریکسی\n",
    "c\n"
   ]
  },
  {
   "cell_type": "code",
   "execution_count": 119,
   "id": "1872fd5a",
   "metadata": {},
   "outputs": [
    {
     "data": {
      "text/plain": [
       "array([[11],\n",
       "       [12],\n",
       "       [13]])"
      ]
     },
     "execution_count": 119,
     "metadata": {},
     "output_type": "execute_result"
    }
   ],
   "source": [
    "c = np.array((10))\n",
    "d = a + c\n",
    "d"
   ]
  },
  {
   "cell_type": "code",
   "execution_count": 120,
   "id": "489b816f",
   "metadata": {},
   "outputs": [
    {
     "data": {
      "text/plain": [
       "array([[11],\n",
       "       [12],\n",
       "       [13]])"
      ]
     },
     "execution_count": 120,
     "metadata": {},
     "output_type": "execute_result"
    }
   ],
   "source": [
    "e = a + 10\n",
    "e"
   ]
  },
  {
   "cell_type": "code",
   "execution_count": 121,
   "id": "e3550fff",
   "metadata": {},
   "outputs": [
    {
     "data": {
      "text/plain": [
       "array([3, 5, 7])"
      ]
     },
     "execution_count": 121,
     "metadata": {},
     "output_type": "execute_result"
    }
   ],
   "source": [
    "a = np.array([1, 2, 3,4, 5, 6, 7, 8, 9])\n",
    "b = a[2:7:2]\n",
    "b"
   ]
  },
  {
   "cell_type": "code",
   "execution_count": 122,
   "id": "39e89a25",
   "metadata": {},
   "outputs": [
    {
     "data": {
      "text/plain": [
       "array([4, 5, 6, 7, 8, 9])"
      ]
     },
     "execution_count": 122,
     "metadata": {},
     "output_type": "execute_result"
    }
   ],
   "source": [
    "c = a[a>3]\n",
    "c"
   ]
  },
  {
   "cell_type": "code",
   "execution_count": 123,
   "id": "c6825c02",
   "metadata": {},
   "outputs": [],
   "source": [
    "a = np.array([[1, 2, 3,4],[5, 7, 8, 9]])"
   ]
  },
  {
   "cell_type": "code",
   "execution_count": 124,
   "id": "44ab2164",
   "metadata": {},
   "outputs": [
    {
     "data": {
      "text/plain": [
       "array([10, 29])"
      ]
     },
     "execution_count": 124,
     "metadata": {},
     "output_type": "execute_result"
    }
   ],
   "source": [
    "# axis 0 باشه همه رو با هم جمع میکنه و برای جمع ابعاد\n",
    "num_a = np.sum(a,axis=1)  \n",
    "num_a"
   ]
  },
  {
   "cell_type": "code",
   "execution_count": 125,
   "id": "5bf70234",
   "metadata": {},
   "outputs": [
    {
     "data": {
      "text/plain": [
       "np.int64(9)"
      ]
     },
     "execution_count": 125,
     "metadata": {},
     "output_type": "execute_result"
    }
   ],
   "source": [
    "max_a = np.max(a)\n",
    "max_a"
   ]
  },
  {
   "cell_type": "code",
   "execution_count": 126,
   "id": "ee35cc5c",
   "metadata": {},
   "outputs": [
    {
     "data": {
      "text/plain": [
       "array([2, 2, 3, 4, 5, 6, 7, 7, 8])"
      ]
     },
     "execution_count": 126,
     "metadata": {},
     "output_type": "execute_result"
    }
   ],
   "source": [
    "a = np.array([2,5,7,2,6,4,3,7,8])\n",
    "b = np.sort(a)\n",
    "b"
   ]
  },
  {
   "cell_type": "code",
   "execution_count": 127,
   "id": "11a90de1",
   "metadata": {},
   "outputs": [
    {
     "data": {
      "text/plain": [
       "array([[-10,   6,   0,   8],\n",
       "       [  5,   6,  -9,   6],\n",
       "       [  8,  -7,   3,   5]], dtype=int32)"
      ]
     },
     "execution_count": 127,
     "metadata": {},
     "output_type": "execute_result"
    }
   ],
   "source": [
    "a = np.random.randint(-10,10,(3,4))\n",
    "a"
   ]
  },
  {
   "cell_type": "code",
   "execution_count": 128,
   "id": "366296ed",
   "metadata": {},
   "outputs": [
    {
     "data": {
      "text/plain": [
       "array([[1, 2, 3],\n",
       "       [4, 5, 6]])"
      ]
     },
     "execution_count": 128,
     "metadata": {},
     "output_type": "execute_result"
    }
   ],
   "source": [
    "# پرفورمنسی خوب نیست\n",
    "a = np.array([1,2,3])\n",
    "b = np.array([4,5,6])\n",
    "c = np.vstack( (a,b) )\n",
    "c\n"
   ]
  },
  {
   "cell_type": "code",
   "execution_count": 129,
   "id": "6c1cdb69",
   "metadata": {},
   "outputs": [
    {
     "data": {
      "text/plain": [
       "(2, 3)"
      ]
     },
     "execution_count": 129,
     "metadata": {},
     "output_type": "execute_result"
    }
   ],
   "source": [
    "c.shape"
   ]
  },
  {
   "cell_type": "code",
   "execution_count": 130,
   "id": "3e4c7fa3",
   "metadata": {},
   "outputs": [
    {
     "data": {
      "text/plain": [
       "array([1, 2, 3, 4, 5, 6])"
      ]
     },
     "execution_count": 130,
     "metadata": {},
     "output_type": "execute_result"
    }
   ],
   "source": [
    "a = np.array([1,2,3])\n",
    "b = np.array([4,5,6])\n",
    "c = np.hstack((a,b))\n",
    "c"
   ]
  },
  {
   "cell_type": "code",
   "execution_count": 131,
   "id": "d7625cdf",
   "metadata": {},
   "outputs": [],
   "source": [
    "a = np.array([1,2,3,4,5,6,7,8,9])\n"
   ]
  },
  {
   "cell_type": "code",
   "execution_count": 132,
   "id": "c113c512",
   "metadata": {},
   "outputs": [
    {
     "data": {
      "text/plain": [
       "np.float64(5.0)"
      ]
     },
     "execution_count": 132,
     "metadata": {},
     "output_type": "execute_result"
    }
   ],
   "source": [
    "mean_a = np.mean(a)\n",
    "mean_a"
   ]
  },
  {
   "cell_type": "code",
   "execution_count": 133,
   "id": "0b2a3d0e",
   "metadata": {},
   "outputs": [
    {
     "data": {
      "text/plain": [
       "np.float64(2.581988897471611)"
      ]
     },
     "execution_count": 133,
     "metadata": {},
     "output_type": "execute_result"
    }
   ],
   "source": [
    "std_a = np.std(a) ## انحراف از معیار\n",
    "std_a"
   ]
  },
  {
   "cell_type": "code",
   "execution_count": 134,
   "id": "01d80e2c",
   "metadata": {},
   "outputs": [
    {
     "data": {
      "text/plain": [
       "np.float64(2.581988897471611)"
      ]
     },
     "execution_count": 134,
     "metadata": {},
     "output_type": "execute_result"
    }
   ],
   "source": [
    "std_a = np.std(a)\n",
    "std_a"
   ]
  },
  {
   "cell_type": "code",
   "execution_count": 135,
   "id": "754bd0fa",
   "metadata": {},
   "outputs": [
    {
     "data": {
      "text/plain": [
       "array([-1.54919334, -1.161895  , -0.77459667, -0.38729833,  0.        ,\n",
       "        0.38729833,  0.77459667,  1.161895  ,  1.54919334])"
      ]
     },
     "execution_count": 135,
     "metadata": {},
     "output_type": "execute_result"
    }
   ],
   "source": [
    "norm_a = (a-mean_a)/std_a  ## به سمت صفر بردن میانگین\n",
    "norm_a"
   ]
  },
  {
   "cell_type": "code",
   "execution_count": 136,
   "id": "1b736c25",
   "metadata": {},
   "outputs": [
    {
     "data": {
      "text/plain": [
       "np.float64(0.0)"
      ]
     },
     "execution_count": 136,
     "metadata": {},
     "output_type": "execute_result"
    }
   ],
   "source": [
    "np.mean(norm_a)"
   ]
  },
  {
   "cell_type": "code",
   "execution_count": 137,
   "id": "e93c0dd8",
   "metadata": {},
   "outputs": [
    {
     "data": {
      "text/plain": [
       "np.float64(1.0)"
      ]
     },
     "execution_count": 137,
     "metadata": {},
     "output_type": "execute_result"
    }
   ],
   "source": [
    "np.std(norm_a)"
   ]
  },
  {
   "cell_type": "markdown",
   "id": "d48eb0be",
   "metadata": {},
   "source": [
    "# new"
   ]
  },
  {
   "cell_type": "code",
   "execution_count": 138,
   "id": "1305de6b",
   "metadata": {},
   "outputs": [],
   "source": [
    "a = np.array([[1,2,3],[4,5,6]])"
   ]
  },
  {
   "cell_type": "code",
   "execution_count": 139,
   "id": "dff9b416",
   "metadata": {},
   "outputs": [
    {
     "data": {
      "text/plain": [
       "(2, 3)"
      ]
     },
     "execution_count": 139,
     "metadata": {},
     "output_type": "execute_result"
    }
   ],
   "source": [
    "a.shape"
   ]
  },
  {
   "cell_type": "code",
   "execution_count": 140,
   "id": "0ca6a541",
   "metadata": {},
   "outputs": [
    {
     "data": {
      "text/plain": [
       "2"
      ]
     },
     "execution_count": 140,
     "metadata": {},
     "output_type": "execute_result"
    }
   ],
   "source": [
    "a.ndim"
   ]
  },
  {
   "cell_type": "markdown",
   "id": "d6e357bd",
   "metadata": {},
   "source": [
    " تعداد بایت ها"
   ]
  },
  {
   "cell_type": "code",
   "execution_count": 141,
   "id": "f8aa4655",
   "metadata": {},
   "outputs": [
    {
     "data": {
      "text/plain": [
       "8"
      ]
     },
     "execution_count": 141,
     "metadata": {},
     "output_type": "execute_result"
    }
   ],
   "source": [
    "a.itemsize  "
   ]
  },
  {
   "cell_type": "markdown",
   "id": "163da327",
   "metadata": {},
   "source": [
    " تعداد کل چیز های شیپ که ضرب شده"
   ]
  },
  {
   "cell_type": "code",
   "execution_count": 142,
   "id": "efe7e33a",
   "metadata": {},
   "outputs": [
    {
     "data": {
      "text/plain": [
       "6"
      ]
     },
     "execution_count": 142,
     "metadata": {},
     "output_type": "execute_result"
    }
   ],
   "source": [
    "a.size  "
   ]
  },
  {
   "cell_type": "markdown",
   "id": "f4b6d0c4",
   "metadata": {},
   "source": [
    " مقدار رم اشغالی"
   ]
  },
  {
   "cell_type": "code",
   "execution_count": 143,
   "id": "f8fdd568",
   "metadata": {},
   "outputs": [
    {
     "data": {
      "text/plain": [
       "48"
      ]
     },
     "execution_count": 143,
     "metadata": {},
     "output_type": "execute_result"
    }
   ],
   "source": [
    "a.size *a.itemsize  "
   ]
  },
  {
   "cell_type": "markdown",
   "id": "e6d7d017",
   "metadata": {},
   "source": [
    "dtype"
   ]
  },
  {
   "cell_type": "code",
   "execution_count": 144,
   "id": "d0aa5d0a",
   "metadata": {},
   "outputs": [
    {
     "data": {
      "text/plain": [
       "dtype('int64')"
      ]
     },
     "execution_count": 144,
     "metadata": {},
     "output_type": "execute_result"
    }
   ],
   "source": [
    "a.dtype"
   ]
  },
  {
   "cell_type": "code",
   "execution_count": 145,
   "id": "115c06a0",
   "metadata": {},
   "outputs": [
    {
     "data": {
      "text/plain": [
       "dtype('uint8')"
      ]
     },
     "execution_count": 145,
     "metadata": {},
     "output_type": "execute_result"
    }
   ],
   "source": [
    "f = np.array([1],dtype = 'uint8')\n",
    "f.dtype"
   ]
  },
  {
   "cell_type": "code",
   "execution_count": 146,
   "id": "c155e5d7",
   "metadata": {},
   "outputs": [
    {
     "data": {
      "text/plain": [
       "750.0"
      ]
     },
     "execution_count": 146,
     "metadata": {},
     "output_type": "execute_result"
    }
   ],
   "source": [
    "1000 *  1024*768*8  / (1024**2)   # uint64هزازتا عکس 6 گیگ رم رو پر میکنه اگه \n",
    "1000 *  1024*768*1  / (1024**2)   # uint8هزازتا عکس 750 مگ رم رو پر میکنه اگه "
   ]
  },
  {
   "cell_type": "markdown",
   "id": "f2853bcd",
   "metadata": {},
   "source": [
    "uint8 از 0 تا 255    <br>\n",
    "int8 از -127 تا +128"
   ]
  },
  {
   "cell_type": "markdown",
   "id": "73f029c9",
   "metadata": {},
   "source": [
    "اگه چیزی صفر داخل نباشه"
   ]
  },
  {
   "cell_type": "code",
   "execution_count": 147,
   "id": "6c4d7bf4",
   "metadata": {},
   "outputs": [
    {
     "data": {
      "text/plain": [
       "np.True_"
      ]
     },
     "execution_count": 147,
     "metadata": {},
     "output_type": "execute_result"
    }
   ],
   "source": [
    "a.all()  "
   ]
  },
  {
   "cell_type": "code",
   "execution_count": 148,
   "id": "14c8ab56",
   "metadata": {},
   "outputs": [
    {
     "data": {
      "text/plain": [
       "np.False_"
      ]
     },
     "execution_count": 148,
     "metadata": {},
     "output_type": "execute_result"
    }
   ],
   "source": [
    "q = np.array([[0,2,3],[4,5,6]])\n",
    "q.all()  "
   ]
  },
  {
   "cell_type": "markdown",
   "id": "1228405f",
   "metadata": {},
   "source": [
    "generate"
   ]
  },
  {
   "cell_type": "code",
   "execution_count": 149,
   "id": "e8e443c0",
   "metadata": {},
   "outputs": [
    {
     "data": {
      "text/plain": [
       "array([ 3,  6,  9, 12, 15, 18], dtype=uint8)"
      ]
     },
     "execution_count": 149,
     "metadata": {},
     "output_type": "execute_result"
    }
   ],
   "source": [
    "np.arange(3,20,3, dtype='uint8')"
   ]
  },
  {
   "cell_type": "code",
   "execution_count": 150,
   "id": "1c021fde",
   "metadata": {},
   "outputs": [
    {
     "data": {
      "text/plain": [
       "(array([ 0.        ,  0.20408163,  0.40816327,  0.6122449 ,  0.81632653,\n",
       "         1.02040816,  1.2244898 ,  1.42857143,  1.63265306,  1.83673469,\n",
       "         2.04081633,  2.24489796,  2.44897959,  2.65306122,  2.85714286,\n",
       "         3.06122449,  3.26530612,  3.46938776,  3.67346939,  3.87755102,\n",
       "         4.08163265,  4.28571429,  4.48979592,  4.69387755,  4.89795918,\n",
       "         5.10204082,  5.30612245,  5.51020408,  5.71428571,  5.91836735,\n",
       "         6.12244898,  6.32653061,  6.53061224,  6.73469388,  6.93877551,\n",
       "         7.14285714,  7.34693878,  7.55102041,  7.75510204,  7.95918367,\n",
       "         8.16326531,  8.36734694,  8.57142857,  8.7755102 ,  8.97959184,\n",
       "         9.18367347,  9.3877551 ,  9.59183673,  9.79591837, 10.        ]),\n",
       " np.float64(0.20408163265306123))"
      ]
     },
     "execution_count": 150,
     "metadata": {},
     "output_type": "execute_result"
    }
   ],
   "source": [
    "np.linspace(0,10,50,retstep=True)"
   ]
  },
  {
   "cell_type": "code",
   "execution_count": 151,
   "id": "9ea0c926",
   "metadata": {},
   "outputs": [
    {
     "data": {
      "text/plain": [
       "array([[0, 0, 0],\n",
       "       [0, 0, 0],\n",
       "       [0, 0, 0],\n",
       "       [0, 0, 0]], dtype=uint8)"
      ]
     },
     "execution_count": 151,
     "metadata": {},
     "output_type": "execute_result"
    }
   ],
   "source": [
    "np.zeros((4,3),dtype='uint8')"
   ]
  },
  {
   "cell_type": "code",
   "execution_count": 152,
   "id": "165ee38b",
   "metadata": {},
   "outputs": [
    {
     "data": {
      "text/plain": [
       "array([[1, 1, 1],\n",
       "       [1, 1, 1],\n",
       "       [1, 1, 1],\n",
       "       [1, 1, 1]], dtype=uint8)"
      ]
     },
     "execution_count": 152,
     "metadata": {},
     "output_type": "execute_result"
    }
   ],
   "source": [
    "np.ones((4,3),dtype='uint8')"
   ]
  },
  {
   "cell_type": "code",
   "execution_count": 153,
   "id": "8cb57132",
   "metadata": {},
   "outputs": [
    {
     "data": {
      "text/plain": [
       "array([[20, 20, 20],\n",
       "       [20, 20, 20],\n",
       "       [20, 20, 20],\n",
       "       [20, 20, 20]], dtype=uint8)"
      ]
     },
     "execution_count": 153,
     "metadata": {},
     "output_type": "execute_result"
    }
   ],
   "source": [
    "np.full((4,3),20,dtype='uint8')"
   ]
  },
  {
   "cell_type": "code",
   "execution_count": 154,
   "id": "279256e9",
   "metadata": {},
   "outputs": [
    {
     "data": {
      "text/plain": [
       "array([[0, 1, 0, 0, 0, 0, 0],\n",
       "       [0, 0, 2, 0, 0, 0, 0],\n",
       "       [0, 0, 0, 3, 0, 0, 0],\n",
       "       [0, 0, 0, 0, 4, 0, 0],\n",
       "       [0, 0, 0, 0, 0, 5, 0],\n",
       "       [0, 0, 0, 0, 0, 0, 6],\n",
       "       [0, 0, 0, 0, 0, 0, 0]])"
      ]
     },
     "execution_count": 154,
     "metadata": {},
     "output_type": "execute_result"
    }
   ],
   "source": [
    "np.diag([1,2,3,4,5,6],k=1)"
   ]
  },
  {
   "cell_type": "code",
   "execution_count": 155,
   "id": "9d94d8bd",
   "metadata": {},
   "outputs": [],
   "source": [
    "import random\n",
    "\n",
    "nums = []\n",
    "\n",
    "for i in range(100000):\n",
    "    nums.append(random.randint(1, 100))"
   ]
  },
  {
   "cell_type": "code",
   "execution_count": 156,
   "id": "90d6b9bb",
   "metadata": {},
   "outputs": [],
   "source": [
    "count = {}\n",
    "\n",
    "for i in nums:\n",
    "    if i in count:\n",
    "        count[i]+=1\n",
    "    else:\n",
    "        count[i] = i"
   ]
  },
  {
   "cell_type": "code",
   "execution_count": 157,
   "id": "89bbe07e",
   "metadata": {},
   "outputs": [
    {
     "data": {
      "text/plain": [
       "{75: 1078,\n",
       " 57: 1040,\n",
       " 48: 1021,\n",
       " 11: 1058,\n",
       " 96: 1150,\n",
       " 45: 1075,\n",
       " 73: 1060,\n",
       " 61: 1120,\n",
       " 94: 1145,\n",
       " 65: 1052,\n",
       " 68: 1085,\n",
       " 79: 1125,\n",
       " 17: 1026,\n",
       " 80: 1066,\n",
       " 62: 1115,\n",
       " 31: 1068,\n",
       " 34: 1039,\n",
       " 13: 985,\n",
       " 71: 1140,\n",
       " 90: 1129,\n",
       " 82: 1042,\n",
       " 42: 1028,\n",
       " 93: 1084,\n",
       " 91: 1124,\n",
       " 6: 1006,\n",
       " 37: 991,\n",
       " 50: 1059,\n",
       " 89: 1085,\n",
       " 58: 1039,\n",
       " 21: 1002,\n",
       " 4: 1044,\n",
       " 14: 1030,\n",
       " 2: 977,\n",
       " 83: 1061,\n",
       " 1: 979,\n",
       " 29: 1045,\n",
       " 67: 998,\n",
       " 97: 1135,\n",
       " 53: 1101,\n",
       " 9: 1013,\n",
       " 84: 1056,\n",
       " 15: 1019,\n",
       " 23: 1004,\n",
       " 81: 1044,\n",
       " 26: 998,\n",
       " 85: 1113,\n",
       " 92: 1080,\n",
       " 5: 1031,\n",
       " 78: 1078,\n",
       " 46: 1020,\n",
       " 35: 1004,\n",
       " 88: 1112,\n",
       " 100: 1093,\n",
       " 7: 975,\n",
       " 36: 948,\n",
       " 43: 994,\n",
       " 54: 1087,\n",
       " 18: 1007,\n",
       " 24: 1025,\n",
       " 27: 1084,\n",
       " 69: 1021,\n",
       " 70: 1072,\n",
       " 25: 981,\n",
       " 74: 1057,\n",
       " 16: 985,\n",
       " 72: 1063,\n",
       " 38: 1029,\n",
       " 51: 998,\n",
       " 99: 1081,\n",
       " 20: 1015,\n",
       " 76: 1123,\n",
       " 3: 953,\n",
       " 56: 1063,\n",
       " 40: 1015,\n",
       " 8: 914,\n",
       " 19: 1037,\n",
       " 59: 1016,\n",
       " 41: 1091,\n",
       " 10: 992,\n",
       " 95: 1171,\n",
       " 47: 1058,\n",
       " 77: 1100,\n",
       " 98: 1116,\n",
       " 22: 1034,\n",
       " 39: 1047,\n",
       " 28: 1044,\n",
       " 30: 1026,\n",
       " 44: 1028,\n",
       " 33: 1046,\n",
       " 66: 1079,\n",
       " 60: 1034,\n",
       " 86: 1064,\n",
       " 12: 1051,\n",
       " 32: 982,\n",
       " 55: 1038,\n",
       " 49: 1051,\n",
       " 64: 1081,\n",
       " 87: 1083,\n",
       " 52: 1022,\n",
       " 63: 1097}"
      ]
     },
     "execution_count": 157,
     "metadata": {},
     "output_type": "execute_result"
    }
   ],
   "source": [
    "count"
   ]
  },
  {
   "cell_type": "code",
   "execution_count": 158,
   "id": "2189372b",
   "metadata": {},
   "outputs": [
    {
     "data": {
      "text/plain": [
       "array([12.10896112,  2.96378122,  6.9687235 , 81.97318092, 13.44095594,\n",
       "       68.92147603, 58.80868248, 11.77858567, 34.2130521 , 49.89823861])"
      ]
     },
     "execution_count": 158,
     "metadata": {},
     "output_type": "execute_result"
    }
   ],
   "source": [
    "np.random.uniform(1,100,(10,))"
   ]
  },
  {
   "cell_type": "code",
   "execution_count": 159,
   "id": "a129255c",
   "metadata": {},
   "outputs": [
    {
     "data": {
      "text/plain": [
       "array([[0.54244282, 0.68062938, 0.57418007, 0.88173086],\n",
       "       [0.05825705, 0.15106516, 0.22249949, 0.88461269],\n",
       "       [0.59874742, 0.11270889, 0.31837374, 0.7182223 ]])"
      ]
     },
     "execution_count": 159,
     "metadata": {},
     "output_type": "execute_result"
    }
   ],
   "source": [
    "np.random.uniform(size=(3,4))"
   ]
  },
  {
   "cell_type": "code",
   "execution_count": 160,
   "id": "a8338d48",
   "metadata": {},
   "outputs": [
    {
     "data": {
      "text/plain": [
       "array([[ 0.98036816,  0.56672265,  0.00552108, -0.15625012],\n",
       "       [ 2.5581957 , -0.59861948, -0.3685159 ,  0.14992227],\n",
       "       [-0.60111983,  1.15858258, -0.44113853, -1.62971983]])"
      ]
     },
     "execution_count": 160,
     "metadata": {},
     "output_type": "execute_result"
    }
   ],
   "source": [
    "np.random.normal(size=(3,4))"
   ]
  },
  {
   "cell_type": "code",
   "execution_count": 162,
   "id": "ebe14b68",
   "metadata": {},
   "outputs": [
    {
     "data": {
      "text/plain": [
       "array([[0, 0, 0],\n",
       "       [0, 0, 0],\n",
       "       [0, 0, 0],\n",
       "       [0, 0, 0]], dtype=uint8)"
      ]
     },
     "execution_count": 162,
     "metadata": {},
     "output_type": "execute_result"
    }
   ],
   "source": [
    "a = np.array([1,2,3,4])\n",
    "b = np.array([5,6,7,8])\n",
    "\n",
    "np.zeros((4,3),dtype='uint8')\n"
   ]
  },
  {
   "cell_type": "code",
   "execution_count": 166,
   "id": "84fc9157",
   "metadata": {},
   "outputs": [
    {
     "data": {
      "text/plain": [
       "array([[ 1,  2,  3],\n",
       "       [ 4,  5,  6],\n",
       "       [ 7,  8,  9],\n",
       "       [10, 11, 12],\n",
       "       [13, 14, 15],\n",
       "       [16, 17, 18],\n",
       "       [19, 20, 21]])"
      ]
     },
     "execution_count": 166,
     "metadata": {},
     "output_type": "execute_result"
    }
   ],
   "source": [
    "a= np.arange(1,22).reshape(-1,3)\n",
    "a"
   ]
  },
  {
   "cell_type": "code",
   "execution_count": null,
   "id": "7aff2fab",
   "metadata": {},
   "outputs": [
    {
     "data": {
      "text/plain": [
       "np.int64(11)"
      ]
     },
     "execution_count": 170,
     "metadata": {},
     "output_type": "execute_result"
    }
   ],
   "source": [
    "a[3][1]   # incorrect  چون رم زیاد مصرف میکنه و کنده"
   ]
  },
  {
   "cell_type": "code",
   "execution_count": 171,
   "id": "47adf9f4",
   "metadata": {},
   "outputs": [
    {
     "data": {
      "text/plain": [
       "np.int64(11)"
      ]
     },
     "execution_count": 171,
     "metadata": {},
     "output_type": "execute_result"
    }
   ],
   "source": [
    "a[3,1]  "
   ]
  },
  {
   "cell_type": "code",
   "execution_count": 172,
   "id": "32176442",
   "metadata": {},
   "outputs": [
    {
     "data": {
      "text/plain": [
       "array([[ 1,  2,  3],\n",
       "       [ 7,  8,  9],\n",
       "       [13, 14, 15],\n",
       "       [19, 20, 21]])"
      ]
     },
     "execution_count": 172,
     "metadata": {},
     "output_type": "execute_result"
    }
   ],
   "source": [
    "a[::2]"
   ]
  },
  {
   "cell_type": "code",
   "execution_count": null,
   "id": "860af1cf",
   "metadata": {},
   "outputs": [],
   "source": []
  }
 ],
 "metadata": {
  "kernelspec": {
   "display_name": "Learning_venv",
   "language": "python",
   "name": "python3"
  },
  "language_info": {
   "codemirror_mode": {
    "name": "ipython",
    "version": 3
   },
   "file_extension": ".py",
   "mimetype": "text/x-python",
   "name": "python",
   "nbconvert_exporter": "python",
   "pygments_lexer": "ipython3",
   "version": "3.13.3"
  }
 },
 "nbformat": 4,
 "nbformat_minor": 5
}
