{
 "cells": [
  {
   "cell_type": "code",
   "execution_count": 85,
   "id": "9e3db89e",
   "metadata": {},
   "outputs": [],
   "source": [
    "import numpy as np"
   ]
  },
  {
   "cell_type": "code",
   "execution_count": 86,
   "id": "b43f1bb3",
   "metadata": {},
   "outputs": [],
   "source": [
    "\n",
    "a = np.array([1,2,3,4])"
   ]
  },
  {
   "cell_type": "code",
   "execution_count": 87,
   "id": "6e00e715",
   "metadata": {},
   "outputs": [
    {
     "data": {
      "text/plain": [
       "array([1, 2, 3, 4])"
      ]
     },
     "execution_count": 87,
     "metadata": {},
     "output_type": "execute_result"
    }
   ],
   "source": [
    "a"
   ]
  },
  {
   "cell_type": "code",
   "execution_count": 88,
   "id": "05e0d958",
   "metadata": {},
   "outputs": [
    {
     "data": {
      "text/plain": [
       "array([[1, 2, 3],\n",
       "       [4, 5, 6]])"
      ]
     },
     "execution_count": 88,
     "metadata": {},
     "output_type": "execute_result"
    }
   ],
   "source": [
    "b = np.array([[1,2,3],[4,5,6]])\n",
    "b"
   ]
  },
  {
   "cell_type": "code",
   "execution_count": 89,
   "id": "8132e4a0",
   "metadata": {},
   "outputs": [
    {
     "name": "stdout",
     "output_type": "stream",
     "text": [
      "(4,) (2, 3)\n"
     ]
    }
   ],
   "source": [
    "print(a.shape,b.shape)"
   ]
  },
  {
   "cell_type": "code",
   "execution_count": 90,
   "id": "ac11daa0",
   "metadata": {},
   "outputs": [
    {
     "data": {
      "text/plain": [
       "(4, 1)"
      ]
     },
     "execution_count": 90,
     "metadata": {},
     "output_type": "execute_result"
    }
   ],
   "source": [
    "c = a.reshape((4,1))\n",
    "c.shape"
   ]
  },
  {
   "cell_type": "code",
   "execution_count": 91,
   "id": "13b31131",
   "metadata": {},
   "outputs": [
    {
     "data": {
      "text/plain": [
       "(2, 2, 1)"
      ]
     },
     "execution_count": 91,
     "metadata": {},
     "output_type": "execute_result"
    }
   ],
   "source": [
    "d = a.reshape((2,2,1))\n",
    "d.shape"
   ]
  },
  {
   "cell_type": "code",
   "execution_count": 92,
   "id": "ebc874cb",
   "metadata": {},
   "outputs": [
    {
     "data": {
      "text/plain": [
       "(2, 2, 1)"
      ]
     },
     "execution_count": 92,
     "metadata": {},
     "output_type": "execute_result"
    }
   ],
   "source": [
    "dd = a.reshape((2,-1,1))\n",
    "dd.shape   "
   ]
  },
  {
   "cell_type": "code",
   "execution_count": 93,
   "id": "e8bf98b4",
   "metadata": {},
   "outputs": [],
   "source": [
    "a.resize((2,2))    # این میاد خودش رو ریشیپ میکنه و در داده ریاد به درد میخوره\n"
   ]
  },
  {
   "cell_type": "code",
   "execution_count": 94,
   "id": "ba231ee2",
   "metadata": {},
   "outputs": [
    {
     "data": {
      "text/plain": [
       "array([1, 2, 3, 4, 5, 6])"
      ]
     },
     "execution_count": 94,
     "metadata": {},
     "output_type": "execute_result"
    }
   ],
   "source": [
    "a = np.array([1,2,3])\n",
    "b = np.array([4,5,6])\n",
    "c = np.concatenate((a,b))\n",
    "c"
   ]
  },
  {
   "cell_type": "code",
   "execution_count": 95,
   "id": "150c5d99",
   "metadata": {},
   "outputs": [
    {
     "data": {
      "text/plain": [
       "array([5, 7, 9])"
      ]
     },
     "execution_count": 95,
     "metadata": {},
     "output_type": "execute_result"
    }
   ],
   "source": [
    "a = np.array([1,2,3])\n",
    "b = np.array([4,5,6])\n",
    "c= a+b\n",
    "c"
   ]
  },
  {
   "cell_type": "code",
   "execution_count": 96,
   "id": "57b01bdc",
   "metadata": {},
   "outputs": [
    {
     "data": {
      "text/plain": [
       "array([ 4, 10, 18])"
      ]
     },
     "execution_count": 96,
     "metadata": {},
     "output_type": "execute_result"
    }
   ],
   "source": [
    "a = np.array([1,2,3])\n",
    "b = np.array([4,5,6])\n",
    "c= a*b\n",
    "c"
   ]
  },
  {
   "cell_type": "code",
   "execution_count": 97,
   "id": "cb23c65b",
   "metadata": {},
   "outputs": [
    {
     "data": {
      "text/plain": [
       "array([[ 1,  4,  9],\n",
       "       [ 4, 10, 18],\n",
       "       [ 7, 16, 27]])"
      ]
     },
     "execution_count": 97,
     "metadata": {},
     "output_type": "execute_result"
    }
   ],
   "source": [
    "# broadcasting\n",
    "a = np.array([1,2,3])\n",
    "b = np.array([[1,2,3],[4,5,6],[7,8,9]])\n",
    "c= a*b\n",
    "c"
   ]
  },
  {
   "cell_type": "code",
   "execution_count": 98,
   "id": "c66aab74",
   "metadata": {},
   "outputs": [
    {
     "data": {
      "text/plain": [
       "array([32])"
      ]
     },
     "execution_count": 98,
     "metadata": {},
     "output_type": "execute_result"
    }
   ],
   "source": [
    "a = np.array([[1],[2],[3]])\n",
    "b = np.array([4,5,6])\n",
    "c= b.dot(a)     # ضرب ماتریکسی\n",
    "c\n"
   ]
  },
  {
   "cell_type": "code",
   "execution_count": 99,
   "id": "1872fd5a",
   "metadata": {},
   "outputs": [
    {
     "data": {
      "text/plain": [
       "array([[11],\n",
       "       [12],\n",
       "       [13]])"
      ]
     },
     "execution_count": 99,
     "metadata": {},
     "output_type": "execute_result"
    }
   ],
   "source": [
    "c = np.array((10))\n",
    "d = a + c\n",
    "d"
   ]
  },
  {
   "cell_type": "code",
   "execution_count": 100,
   "id": "489b816f",
   "metadata": {},
   "outputs": [
    {
     "data": {
      "text/plain": [
       "array([[11],\n",
       "       [12],\n",
       "       [13]])"
      ]
     },
     "execution_count": 100,
     "metadata": {},
     "output_type": "execute_result"
    }
   ],
   "source": [
    "e = a + 10\n",
    "e"
   ]
  },
  {
   "cell_type": "code",
   "execution_count": 101,
   "id": "e3550fff",
   "metadata": {},
   "outputs": [
    {
     "data": {
      "text/plain": [
       "array([3, 5, 7])"
      ]
     },
     "execution_count": 101,
     "metadata": {},
     "output_type": "execute_result"
    }
   ],
   "source": [
    "a = np.array([1, 2, 3,4, 5, 6, 7, 8, 9])\n",
    "b = a[2:7:2]\n",
    "b"
   ]
  },
  {
   "cell_type": "code",
   "execution_count": 102,
   "id": "39e89a25",
   "metadata": {},
   "outputs": [
    {
     "data": {
      "text/plain": [
       "array([4, 5, 6, 7, 8, 9])"
      ]
     },
     "execution_count": 102,
     "metadata": {},
     "output_type": "execute_result"
    }
   ],
   "source": [
    "c = a[a>3]\n",
    "c"
   ]
  },
  {
   "cell_type": "code",
   "execution_count": 103,
   "id": "c6825c02",
   "metadata": {},
   "outputs": [],
   "source": [
    "a = np.array([[1, 2, 3,4],[5, 7, 8, 9]])"
   ]
  },
  {
   "cell_type": "code",
   "execution_count": 104,
   "id": "44ab2164",
   "metadata": {},
   "outputs": [
    {
     "data": {
      "text/plain": [
       "array([10, 29])"
      ]
     },
     "execution_count": 104,
     "metadata": {},
     "output_type": "execute_result"
    }
   ],
   "source": [
    "# axis 0 باشه همه رو با هم جمع میکنه و برای جمع ابعاد\n",
    "num_a = np.sum(a,axis=1)  \n",
    "num_a"
   ]
  },
  {
   "cell_type": "code",
   "execution_count": 105,
   "id": "5bf70234",
   "metadata": {},
   "outputs": [
    {
     "data": {
      "text/plain": [
       "np.int64(9)"
      ]
     },
     "execution_count": 105,
     "metadata": {},
     "output_type": "execute_result"
    }
   ],
   "source": [
    "max_a = np.max(a)\n",
    "max_a"
   ]
  },
  {
   "cell_type": "code",
   "execution_count": 106,
   "id": "ee35cc5c",
   "metadata": {},
   "outputs": [
    {
     "data": {
      "text/plain": [
       "array([2, 2, 3, 4, 5, 6, 7, 7, 8])"
      ]
     },
     "execution_count": 106,
     "metadata": {},
     "output_type": "execute_result"
    }
   ],
   "source": [
    "a = np.array([2,5,7,2,6,4,3,7,8])\n",
    "b = np.sort(a)\n",
    "b"
   ]
  },
  {
   "cell_type": "code",
   "execution_count": 107,
   "id": "11a90de1",
   "metadata": {},
   "outputs": [
    {
     "data": {
      "text/plain": [
       "array([[-10,  -9,   1,   5],\n",
       "       [ -4,   4, -10,   5],\n",
       "       [  8,  -8,  -2,  -9]], dtype=int32)"
      ]
     },
     "execution_count": 107,
     "metadata": {},
     "output_type": "execute_result"
    }
   ],
   "source": [
    "a = np.random.randint(-10,10,(3,4))\n",
    "a"
   ]
  },
  {
   "cell_type": "code",
   "execution_count": 108,
   "id": "366296ed",
   "metadata": {},
   "outputs": [
    {
     "data": {
      "text/plain": [
       "array([[1, 2, 3],\n",
       "       [4, 5, 6]])"
      ]
     },
     "execution_count": 108,
     "metadata": {},
     "output_type": "execute_result"
    }
   ],
   "source": [
    "# پرفورمنسی خوب نیست\n",
    "a = np.array([1,2,3])\n",
    "b = np.array([4,5,6])\n",
    "c = np.vstack( (a,b) )\n",
    "c\n"
   ]
  },
  {
   "cell_type": "code",
   "execution_count": 109,
   "id": "6c1cdb69",
   "metadata": {},
   "outputs": [
    {
     "data": {
      "text/plain": [
       "(2, 3)"
      ]
     },
     "execution_count": 109,
     "metadata": {},
     "output_type": "execute_result"
    }
   ],
   "source": [
    "c.shape"
   ]
  },
  {
   "cell_type": "code",
   "execution_count": 110,
   "id": "3e4c7fa3",
   "metadata": {},
   "outputs": [
    {
     "data": {
      "text/plain": [
       "array([1, 2, 3, 4, 5, 6])"
      ]
     },
     "execution_count": 110,
     "metadata": {},
     "output_type": "execute_result"
    }
   ],
   "source": [
    "a = np.array([1,2,3])\n",
    "b = np.array([4,5,6])\n",
    "c = np.hstack((a,b))\n",
    "c"
   ]
  },
  {
   "cell_type": "code",
   "execution_count": 111,
   "id": "d7625cdf",
   "metadata": {},
   "outputs": [],
   "source": [
    "a = np.array([1,2,3,4,5,6,7,8,9])\n"
   ]
  },
  {
   "cell_type": "code",
   "execution_count": 112,
   "id": "c113c512",
   "metadata": {},
   "outputs": [
    {
     "data": {
      "text/plain": [
       "np.float64(5.0)"
      ]
     },
     "execution_count": 112,
     "metadata": {},
     "output_type": "execute_result"
    }
   ],
   "source": [
    "mean_a = np.mean(a)\n",
    "mean_a"
   ]
  },
  {
   "cell_type": "code",
   "execution_count": 113,
   "id": "0b2a3d0e",
   "metadata": {},
   "outputs": [
    {
     "data": {
      "text/plain": [
       "np.float64(2.581988897471611)"
      ]
     },
     "execution_count": 113,
     "metadata": {},
     "output_type": "execute_result"
    }
   ],
   "source": [
    "std_a = np.std(a) ## انحراف از معیار\n",
    "std_a"
   ]
  },
  {
   "cell_type": "code",
   "execution_count": 114,
   "id": "01d80e2c",
   "metadata": {},
   "outputs": [
    {
     "data": {
      "text/plain": [
       "np.float64(2.581988897471611)"
      ]
     },
     "execution_count": 114,
     "metadata": {},
     "output_type": "execute_result"
    }
   ],
   "source": [
    "std_a = np.std(a)\n",
    "std_a"
   ]
  },
  {
   "cell_type": "code",
   "execution_count": 115,
   "id": "754bd0fa",
   "metadata": {},
   "outputs": [
    {
     "data": {
      "text/plain": [
       "array([-1.54919334, -1.161895  , -0.77459667, -0.38729833,  0.        ,\n",
       "        0.38729833,  0.77459667,  1.161895  ,  1.54919334])"
      ]
     },
     "execution_count": 115,
     "metadata": {},
     "output_type": "execute_result"
    }
   ],
   "source": [
    "norm_a = (a-mean_a)/std_a  ## به سمت صفر بردن میانگین\n",
    "norm_a"
   ]
  },
  {
   "cell_type": "code",
   "execution_count": 116,
   "id": "1b736c25",
   "metadata": {},
   "outputs": [
    {
     "data": {
      "text/plain": [
       "np.float64(0.0)"
      ]
     },
     "execution_count": 116,
     "metadata": {},
     "output_type": "execute_result"
    }
   ],
   "source": [
    "np.mean(norm_a)"
   ]
  },
  {
   "cell_type": "code",
   "execution_count": 117,
   "id": "e93c0dd8",
   "metadata": {},
   "outputs": [
    {
     "data": {
      "text/plain": [
       "np.float64(1.0)"
      ]
     },
     "execution_count": 117,
     "metadata": {},
     "output_type": "execute_result"
    }
   ],
   "source": [
    "np.std(norm_a)"
   ]
  },
  {
   "cell_type": "markdown",
   "id": "d48eb0be",
   "metadata": {},
   "source": [
    "# new"
   ]
  },
  {
   "cell_type": "code",
   "execution_count": 118,
   "id": "1305de6b",
   "metadata": {},
   "outputs": [],
   "source": [
    "a = np.array([[1,2,3],[4,5,6]])"
   ]
  },
  {
   "cell_type": "code",
   "execution_count": 119,
   "id": "dff9b416",
   "metadata": {},
   "outputs": [
    {
     "data": {
      "text/plain": [
       "(2, 3)"
      ]
     },
     "execution_count": 119,
     "metadata": {},
     "output_type": "execute_result"
    }
   ],
   "source": [
    "a.shape"
   ]
  },
  {
   "cell_type": "code",
   "execution_count": 120,
   "id": "0ca6a541",
   "metadata": {},
   "outputs": [
    {
     "data": {
      "text/plain": [
       "2"
      ]
     },
     "execution_count": 120,
     "metadata": {},
     "output_type": "execute_result"
    }
   ],
   "source": [
    "a.ndim"
   ]
  },
  {
   "cell_type": "markdown",
   "id": "d6e357bd",
   "metadata": {},
   "source": [
    " تعداد بایت ها"
   ]
  },
  {
   "cell_type": "code",
   "execution_count": 121,
   "id": "f8aa4655",
   "metadata": {},
   "outputs": [
    {
     "data": {
      "text/plain": [
       "8"
      ]
     },
     "execution_count": 121,
     "metadata": {},
     "output_type": "execute_result"
    }
   ],
   "source": [
    "a.itemsize  "
   ]
  },
  {
   "cell_type": "markdown",
   "id": "163da327",
   "metadata": {},
   "source": [
    " تعداد کل چیز های شیپ که ضرب شده"
   ]
  },
  {
   "cell_type": "code",
   "execution_count": 122,
   "id": "efe7e33a",
   "metadata": {},
   "outputs": [
    {
     "data": {
      "text/plain": [
       "6"
      ]
     },
     "execution_count": 122,
     "metadata": {},
     "output_type": "execute_result"
    }
   ],
   "source": [
    "a.size  "
   ]
  },
  {
   "cell_type": "markdown",
   "id": "f4b6d0c4",
   "metadata": {},
   "source": [
    " مقدار رم اشغالی"
   ]
  },
  {
   "cell_type": "code",
   "execution_count": 123,
   "id": "f8fdd568",
   "metadata": {},
   "outputs": [
    {
     "data": {
      "text/plain": [
       "48"
      ]
     },
     "execution_count": 123,
     "metadata": {},
     "output_type": "execute_result"
    }
   ],
   "source": [
    "a.size *a.itemsize  "
   ]
  },
  {
   "cell_type": "markdown",
   "id": "e6d7d017",
   "metadata": {},
   "source": [
    "dtype"
   ]
  },
  {
   "cell_type": "code",
   "execution_count": 124,
   "id": "d0aa5d0a",
   "metadata": {},
   "outputs": [
    {
     "data": {
      "text/plain": [
       "dtype('int64')"
      ]
     },
     "execution_count": 124,
     "metadata": {},
     "output_type": "execute_result"
    }
   ],
   "source": [
    "a.dtype"
   ]
  },
  {
   "cell_type": "code",
   "execution_count": 125,
   "id": "115c06a0",
   "metadata": {},
   "outputs": [
    {
     "data": {
      "text/plain": [
       "dtype('uint8')"
      ]
     },
     "execution_count": 125,
     "metadata": {},
     "output_type": "execute_result"
    }
   ],
   "source": [
    "f = np.array([1],dtype = 'uint8')\n",
    "f.dtype"
   ]
  },
  {
   "cell_type": "code",
   "execution_count": 126,
   "id": "c155e5d7",
   "metadata": {},
   "outputs": [
    {
     "data": {
      "text/plain": [
       "750.0"
      ]
     },
     "execution_count": 126,
     "metadata": {},
     "output_type": "execute_result"
    }
   ],
   "source": [
    "1000 *  1024*768*8  / (1024**2)   # uint64هزازتا عکس 6 گیگ رم رو پر میکنه اگه \n",
    "1000 *  1024*768*1  / (1024**2)   # uint8هزازتا عکس 750 مگ رم رو پر میکنه اگه "
   ]
  },
  {
   "cell_type": "markdown",
   "id": "f2853bcd",
   "metadata": {},
   "source": [
    "uint8 از 0 تا 255    <br>\n",
    "int8 از -127 تا +128"
   ]
  },
  {
   "cell_type": "markdown",
   "id": "73f029c9",
   "metadata": {},
   "source": [
    "اگه چیزی صفر داخل نباشه"
   ]
  },
  {
   "cell_type": "code",
   "execution_count": 127,
   "id": "6c4d7bf4",
   "metadata": {},
   "outputs": [
    {
     "data": {
      "text/plain": [
       "np.True_"
      ]
     },
     "execution_count": 127,
     "metadata": {},
     "output_type": "execute_result"
    }
   ],
   "source": [
    "a.all()  "
   ]
  },
  {
   "cell_type": "code",
   "execution_count": 128,
   "id": "14c8ab56",
   "metadata": {},
   "outputs": [
    {
     "data": {
      "text/plain": [
       "np.False_"
      ]
     },
     "execution_count": 128,
     "metadata": {},
     "output_type": "execute_result"
    }
   ],
   "source": [
    "q = np.array([[0,2,3],[4,5,6]])\n",
    "q.all()  "
   ]
  },
  {
   "cell_type": "markdown",
   "id": "1228405f",
   "metadata": {},
   "source": [
    "generate"
   ]
  },
  {
   "cell_type": "code",
   "execution_count": 129,
   "id": "e8e443c0",
   "metadata": {},
   "outputs": [
    {
     "data": {
      "text/plain": [
       "array([ 3,  6,  9, 12, 15, 18], dtype=uint8)"
      ]
     },
     "execution_count": 129,
     "metadata": {},
     "output_type": "execute_result"
    }
   ],
   "source": [
    "np.arange(3,20,3, dtype='uint8')"
   ]
  },
  {
   "cell_type": "code",
   "execution_count": 130,
   "id": "1c021fde",
   "metadata": {},
   "outputs": [
    {
     "data": {
      "text/plain": [
       "(array([ 0.        ,  0.20408163,  0.40816327,  0.6122449 ,  0.81632653,\n",
       "         1.02040816,  1.2244898 ,  1.42857143,  1.63265306,  1.83673469,\n",
       "         2.04081633,  2.24489796,  2.44897959,  2.65306122,  2.85714286,\n",
       "         3.06122449,  3.26530612,  3.46938776,  3.67346939,  3.87755102,\n",
       "         4.08163265,  4.28571429,  4.48979592,  4.69387755,  4.89795918,\n",
       "         5.10204082,  5.30612245,  5.51020408,  5.71428571,  5.91836735,\n",
       "         6.12244898,  6.32653061,  6.53061224,  6.73469388,  6.93877551,\n",
       "         7.14285714,  7.34693878,  7.55102041,  7.75510204,  7.95918367,\n",
       "         8.16326531,  8.36734694,  8.57142857,  8.7755102 ,  8.97959184,\n",
       "         9.18367347,  9.3877551 ,  9.59183673,  9.79591837, 10.        ]),\n",
       " np.float64(0.20408163265306123))"
      ]
     },
     "execution_count": 130,
     "metadata": {},
     "output_type": "execute_result"
    }
   ],
   "source": [
    "np.linspace(0,10,50,retstep=True)"
   ]
  },
  {
   "cell_type": "code",
   "execution_count": 131,
   "id": "9ea0c926",
   "metadata": {},
   "outputs": [
    {
     "data": {
      "text/plain": [
       "array([[0, 0, 0],\n",
       "       [0, 0, 0],\n",
       "       [0, 0, 0],\n",
       "       [0, 0, 0]], dtype=uint8)"
      ]
     },
     "execution_count": 131,
     "metadata": {},
     "output_type": "execute_result"
    }
   ],
   "source": [
    "np.zeros((4,3),dtype='uint8')"
   ]
  },
  {
   "cell_type": "code",
   "execution_count": 132,
   "id": "165ee38b",
   "metadata": {},
   "outputs": [
    {
     "data": {
      "text/plain": [
       "array([[1, 1, 1],\n",
       "       [1, 1, 1],\n",
       "       [1, 1, 1],\n",
       "       [1, 1, 1]], dtype=uint8)"
      ]
     },
     "execution_count": 132,
     "metadata": {},
     "output_type": "execute_result"
    }
   ],
   "source": [
    "np.ones((4,3),dtype='uint8')"
   ]
  },
  {
   "cell_type": "code",
   "execution_count": 133,
   "id": "8cb57132",
   "metadata": {},
   "outputs": [
    {
     "data": {
      "text/plain": [
       "array([[20, 20, 20],\n",
       "       [20, 20, 20],\n",
       "       [20, 20, 20],\n",
       "       [20, 20, 20]], dtype=uint8)"
      ]
     },
     "execution_count": 133,
     "metadata": {},
     "output_type": "execute_result"
    }
   ],
   "source": [
    "np.full((4,3),20,dtype='uint8')"
   ]
  },
  {
   "cell_type": "code",
   "execution_count": 134,
   "id": "279256e9",
   "metadata": {},
   "outputs": [
    {
     "data": {
      "text/plain": [
       "array([[0, 1, 0, 0, 0, 0, 0],\n",
       "       [0, 0, 2, 0, 0, 0, 0],\n",
       "       [0, 0, 0, 3, 0, 0, 0],\n",
       "       [0, 0, 0, 0, 4, 0, 0],\n",
       "       [0, 0, 0, 0, 0, 5, 0],\n",
       "       [0, 0, 0, 0, 0, 0, 6],\n",
       "       [0, 0, 0, 0, 0, 0, 0]])"
      ]
     },
     "execution_count": 134,
     "metadata": {},
     "output_type": "execute_result"
    }
   ],
   "source": [
    "np.diag([1,2,3,4,5,6],k=1)"
   ]
  },
  {
   "cell_type": "code",
   "execution_count": 135,
   "id": "9d94d8bd",
   "metadata": {},
   "outputs": [],
   "source": [
    "import random\n",
    "\n",
    "nums = []\n",
    "\n",
    "for i in range(100000):\n",
    "    nums.append(random.randint(1, 100))"
   ]
  },
  {
   "cell_type": "code",
   "execution_count": 136,
   "id": "90d6b9bb",
   "metadata": {},
   "outputs": [],
   "source": [
    "count = {}\n",
    "\n",
    "for i in nums:\n",
    "    if i in count:\n",
    "        count[i]+=1\n",
    "    else:\n",
    "        count[i] = i"
   ]
  },
  {
   "cell_type": "code",
   "execution_count": 137,
   "id": "89bbe07e",
   "metadata": {},
   "outputs": [
    {
     "data": {
      "text/plain": [
       "{31: 1051,\n",
       " 90: 1067,\n",
       " 47: 1015,\n",
       " 73: 1101,\n",
       " 60: 1034,\n",
       " 76: 1082,\n",
       " 82: 1038,\n",
       " 85: 1097,\n",
       " 51: 1061,\n",
       " 28: 1013,\n",
       " 37: 1049,\n",
       " 9: 1034,\n",
       " 6: 1015,\n",
       " 77: 1076,\n",
       " 63: 1015,\n",
       " 29: 1072,\n",
       " 98: 1113,\n",
       " 62: 1032,\n",
       " 56: 999,\n",
       " 96: 1093,\n",
       " 10: 1041,\n",
       " 22: 1049,\n",
       " 89: 1070,\n",
       " 61: 1080,\n",
       " 38: 1075,\n",
       " 94: 1132,\n",
       " 18: 986,\n",
       " 3: 929,\n",
       " 93: 1073,\n",
       " 55: 1072,\n",
       " 17: 997,\n",
       " 24: 994,\n",
       " 41: 1031,\n",
       " 87: 1091,\n",
       " 80: 1054,\n",
       " 67: 1070,\n",
       " 20: 1010,\n",
       " 66: 1150,\n",
       " 64: 1085,\n",
       " 88: 1035,\n",
       " 25: 997,\n",
       " 45: 1023,\n",
       " 13: 1037,\n",
       " 74: 1029,\n",
       " 59: 1089,\n",
       " 30: 1048,\n",
       " 83: 1074,\n",
       " 35: 1057,\n",
       " 46: 1021,\n",
       " 78: 1057,\n",
       " 32: 1085,\n",
       " 36: 1030,\n",
       " 57: 1092,\n",
       " 52: 1063,\n",
       " 54: 1057,\n",
       " 39: 1064,\n",
       " 14: 1011,\n",
       " 44: 1071,\n",
       " 43: 1048,\n",
       " 40: 1080,\n",
       " 100: 1135,\n",
       " 92: 1106,\n",
       " 84: 1042,\n",
       " 86: 1048,\n",
       " 26: 946,\n",
       " 95: 1070,\n",
       " 50: 1009,\n",
       " 72: 1118,\n",
       " 81: 1052,\n",
       " 79: 1034,\n",
       " 42: 1036,\n",
       " 69: 1054,\n",
       " 53: 1135,\n",
       " 34: 1036,\n",
       " 23: 1088,\n",
       " 99: 1091,\n",
       " 7: 1032,\n",
       " 70: 1018,\n",
       " 5: 1052,\n",
       " 21: 1065,\n",
       " 33: 1073,\n",
       " 12: 976,\n",
       " 27: 992,\n",
       " 48: 1018,\n",
       " 97: 1143,\n",
       " 2: 1016,\n",
       " 4: 988,\n",
       " 58: 1014,\n",
       " 15: 1021,\n",
       " 1: 963,\n",
       " 16: 952,\n",
       " 91: 1085,\n",
       " 71: 1127,\n",
       " 11: 987,\n",
       " 19: 1079,\n",
       " 75: 1056,\n",
       " 49: 1116,\n",
       " 68: 1047,\n",
       " 65: 1063,\n",
       " 8: 953}"
      ]
     },
     "execution_count": 137,
     "metadata": {},
     "output_type": "execute_result"
    }
   ],
   "source": [
    "count"
   ]
  },
  {
   "cell_type": "code",
   "execution_count": 138,
   "id": "2189372b",
   "metadata": {},
   "outputs": [
    {
     "data": {
      "text/plain": [
       "array([65.46385151, 92.7279465 , 35.21572869, 71.70478668, 61.14336768,\n",
       "       90.43580156, 80.17837978, 94.00878067, 33.22684646, 26.01768862])"
      ]
     },
     "execution_count": 138,
     "metadata": {},
     "output_type": "execute_result"
    }
   ],
   "source": [
    "np.random.uniform(1,100,(10,))"
   ]
  },
  {
   "cell_type": "code",
   "execution_count": 139,
   "id": "a129255c",
   "metadata": {},
   "outputs": [
    {
     "data": {
      "text/plain": [
       "array([[0.19754287, 0.51224378, 0.14786607, 0.11949509],\n",
       "       [0.03163282, 0.05387934, 0.1338619 , 0.85199908],\n",
       "       [0.8608758 , 0.47596834, 0.79200169, 0.82748479]])"
      ]
     },
     "execution_count": 139,
     "metadata": {},
     "output_type": "execute_result"
    }
   ],
   "source": [
    "np.random.uniform(size=(3,4))"
   ]
  },
  {
   "cell_type": "code",
   "execution_count": 140,
   "id": "a8338d48",
   "metadata": {},
   "outputs": [
    {
     "data": {
      "text/plain": [
       "array([[-0.60798216,  0.67371624,  1.3344793 ,  0.62194808],\n",
       "       [-1.95709128, -0.12828722, -1.52522743, -0.45915029],\n",
       "       [ 0.74078614,  1.23825831,  1.48467782,  0.18288163]])"
      ]
     },
     "execution_count": 140,
     "metadata": {},
     "output_type": "execute_result"
    }
   ],
   "source": [
    "np.random.normal(size=(3,4))"
   ]
  },
  {
   "cell_type": "code",
   "execution_count": 141,
   "id": "ebe14b68",
   "metadata": {},
   "outputs": [
    {
     "data": {
      "text/plain": [
       "array([[0, 0, 0],\n",
       "       [0, 0, 0],\n",
       "       [0, 0, 0],\n",
       "       [0, 0, 0]], dtype=uint8)"
      ]
     },
     "execution_count": 141,
     "metadata": {},
     "output_type": "execute_result"
    }
   ],
   "source": [
    "a = np.array([1,2,3,4])\n",
    "b = np.array([5,6,7,8])\n",
    "\n",
    "np.zeros((4,3),dtype='uint8')\n"
   ]
  },
  {
   "cell_type": "code",
   "execution_count": 142,
   "id": "84fc9157",
   "metadata": {},
   "outputs": [
    {
     "data": {
      "text/plain": [
       "array([[ 1,  2,  3,  4,  5],\n",
       "       [ 6,  7,  8,  9, 10],\n",
       "       [11, 12, 13, 14, 15],\n",
       "       [16, 17, 18, 19, 20],\n",
       "       [21, 22, 23, 24, 25]])"
      ]
     },
     "execution_count": 142,
     "metadata": {},
     "output_type": "execute_result"
    }
   ],
   "source": [
    "a= np.arange(1,26).reshape(5,-1)\n",
    "a"
   ]
  },
  {
   "cell_type": "code",
   "execution_count": 143,
   "id": "7aff2fab",
   "metadata": {},
   "outputs": [
    {
     "data": {
      "text/plain": [
       "np.int64(17)"
      ]
     },
     "execution_count": 143,
     "metadata": {},
     "output_type": "execute_result"
    }
   ],
   "source": [
    "a[3][1]   # incorrect  چون رم زیاد مصرف میکنه و کنده"
   ]
  },
  {
   "cell_type": "code",
   "execution_count": 144,
   "id": "47adf9f4",
   "metadata": {},
   "outputs": [
    {
     "data": {
      "text/plain": [
       "np.int64(17)"
      ]
     },
     "execution_count": 144,
     "metadata": {},
     "output_type": "execute_result"
    }
   ],
   "source": [
    "a[3,1]  "
   ]
  },
  {
   "cell_type": "code",
   "execution_count": 145,
   "id": "32176442",
   "metadata": {},
   "outputs": [
    {
     "data": {
      "text/plain": [
       "array([[ 1,  2,  3,  4,  5],\n",
       "       [11, 12, 13, 14, 15],\n",
       "       [21, 22, 23, 24, 25]])"
      ]
     },
     "execution_count": 145,
     "metadata": {},
     "output_type": "execute_result"
    }
   ],
   "source": [
    "a[::2]"
   ]
  },
  {
   "cell_type": "markdown",
   "id": "fdcb91b3",
   "metadata": {},
   "source": [
    "# advanced subscription"
   ]
  },
  {
   "cell_type": "code",
   "execution_count": 146,
   "id": "860af1cf",
   "metadata": {},
   "outputs": [
    {
     "data": {
      "text/plain": [
       "array([[ 7,  8,  9],\n",
       "       [12, 13, 14],\n",
       "       [17, 18, 19]])"
      ]
     },
     "execution_count": 146,
     "metadata": {},
     "output_type": "execute_result"
    }
   ],
   "source": [
    "a[1:4,1:4]"
   ]
  },
  {
   "cell_type": "code",
   "execution_count": 147,
   "id": "d5dddf30",
   "metadata": {},
   "outputs": [
    {
     "data": {
      "text/plain": [
       "array([ 4, 12])"
      ]
     },
     "execution_count": 147,
     "metadata": {},
     "output_type": "execute_result"
    }
   ],
   "source": [
    "a[[0,2],[3,1]]  # (0,3) (2,1)"
   ]
  },
  {
   "cell_type": "code",
   "execution_count": 148,
   "id": "5344641c",
   "metadata": {},
   "outputs": [
    {
     "data": {
      "text/plain": [
       "array([[ 2,  3,  4],\n",
       "       [12, 13, 14]])"
      ]
     },
     "execution_count": 148,
     "metadata": {},
     "output_type": "execute_result"
    }
   ],
   "source": [
    "a[[0,2],1:4]  "
   ]
  },
  {
   "cell_type": "code",
   "execution_count": 149,
   "id": "680f29f0",
   "metadata": {},
   "outputs": [
    {
     "data": {
      "text/plain": [
       "array([[ 1,  2,  3,  4,  5],\n",
       "       [ 6,  7,  8,  9, 10],\n",
       "       [11, 12, 13, 14, 15],\n",
       "       [16, 17, 18, 19, 20],\n",
       "       [21, 22, 23, 24, 25]])"
      ]
     },
     "execution_count": 149,
     "metadata": {},
     "output_type": "execute_result"
    }
   ],
   "source": [
    "a"
   ]
  },
  {
   "cell_type": "code",
   "execution_count": 150,
   "id": "0888a9be",
   "metadata": {},
   "outputs": [
    {
     "data": {
      "text/plain": [
       "array([[False, False, False, False, False],\n",
       "       [False, False, False, False, False],\n",
       "       [False, False, False, False, False],\n",
       "       [False, False, False, False, False],\n",
       "       [False, False, False, False, False]])"
      ]
     },
     "execution_count": 150,
     "metadata": {},
     "output_type": "execute_result"
    }
   ],
   "source": [
    "a>50"
   ]
  },
  {
   "cell_type": "code",
   "execution_count": 151,
   "id": "bac7bc65",
   "metadata": {},
   "outputs": [
    {
     "data": {
      "text/plain": [
       "array([[ 9, 83, 61, 73, 24],\n",
       "       [68, 79, 35, 96,  6],\n",
       "       [84, 14, 27, 53, 69],\n",
       "       [95, 73,  1,  1, 60],\n",
       "       [ 4,  8, 65, 29, 92]], dtype=int32)"
      ]
     },
     "execution_count": 151,
     "metadata": {},
     "output_type": "execute_result"
    }
   ],
   "source": [
    "x = np.random.randint(0,100,(5,5))\n",
    "x"
   ]
  },
  {
   "cell_type": "code",
   "execution_count": 152,
   "id": "86368cd1",
   "metadata": {},
   "outputs": [
    {
     "data": {
      "text/plain": [
       "array([[False,  True,  True,  True, False],\n",
       "       [ True,  True, False,  True, False],\n",
       "       [ True, False, False,  True,  True],\n",
       "       [ True,  True, False, False,  True],\n",
       "       [False, False,  True, False,  True]])"
      ]
     },
     "execution_count": 152,
     "metadata": {},
     "output_type": "execute_result"
    }
   ],
   "source": [
    "x>50"
   ]
  },
  {
   "cell_type": "code",
   "execution_count": 153,
   "id": "6cc88e56",
   "metadata": {},
   "outputs": [
    {
     "data": {
      "text/plain": [
       "array([83, 61, 73, 68, 79, 96, 84, 53, 69, 95, 73, 60, 65, 92],\n",
       "      dtype=int32)"
      ]
     },
     "execution_count": 153,
     "metadata": {},
     "output_type": "execute_result"
    }
   ],
   "source": [
    "c = x>50\n",
    "x[c]"
   ]
  },
  {
   "cell_type": "code",
   "execution_count": 154,
   "id": "8aa58f06",
   "metadata": {},
   "outputs": [
    {
     "data": {
      "text/plain": [
       "array([83, 61, 73, 68, 79, 96, 84, 53, 69, 95, 73, 60, 65, 92],\n",
       "      dtype=int32)"
      ]
     },
     "execution_count": 154,
     "metadata": {},
     "output_type": "execute_result"
    }
   ],
   "source": [
    "x[x>50]"
   ]
  },
  {
   "cell_type": "code",
   "execution_count": 155,
   "id": "8e8fbbf4",
   "metadata": {},
   "outputs": [
    {
     "data": {
      "text/plain": [
       "(array([0, 0, 0, 1, 1, 1, 2, 2, 2, 3, 3, 3, 4, 4]),\n",
       " array([1, 2, 3, 0, 1, 3, 0, 3, 4, 0, 1, 4, 2, 4]))"
      ]
     },
     "execution_count": 155,
     "metadata": {},
     "output_type": "execute_result"
    }
   ],
   "source": [
    "filter = x>50\n",
    "\n",
    "np.where(filter)"
   ]
  },
  {
   "cell_type": "code",
   "execution_count": 156,
   "id": "f0dee422",
   "metadata": {},
   "outputs": [
    {
     "data": {
      "text/plain": [
       "(array([0, 1, 2, 2, 3, 4]), array([2, 0, 3, 4, 4, 2]))"
      ]
     },
     "execution_count": 156,
     "metadata": {},
     "output_type": "execute_result"
    }
   ],
   "source": [
    "f1 = x>50\n",
    "f2 = x<70\n",
    "\n",
    "# f1 and f2    #incorrect\n",
    "f = f1 & f2\n",
    "np.where(f)"
   ]
  },
  {
   "cell_type": "code",
   "execution_count": 157,
   "id": "be5ebed7",
   "metadata": {},
   "outputs": [
    {
     "data": {
      "text/plain": [
       "(array([0, 0, 0, 0, 0, 1, 1, 1, 1, 1, 2, 2, 2, 2, 2, 3, 3, 3, 3, 3, 4, 4,\n",
       "        4, 4, 4]),\n",
       " array([0, 1, 2, 3, 4, 0, 1, 2, 3, 4, 0, 1, 2, 3, 4, 0, 1, 2, 3, 4, 0, 1,\n",
       "        2, 3, 4]))"
      ]
     },
     "execution_count": 157,
     "metadata": {},
     "output_type": "execute_result"
    }
   ],
   "source": [
    "f1 = x>50\n",
    "f2 = x<70\n",
    "\n",
    "# f1 or f2    #incorrect\n",
    "f = f1 | f2\n",
    "np.where(f)"
   ]
  },
  {
   "cell_type": "code",
   "execution_count": 158,
   "id": "c5ea3ad8",
   "metadata": {},
   "outputs": [
    {
     "data": {
      "text/plain": [
       "array([[ True,  True,  True,  True,  True],\n",
       "       [ True,  True,  True,  True,  True],\n",
       "       [ True,  True,  True,  True,  True],\n",
       "       [ True,  True,  True,  True,  True],\n",
       "       [ True,  True,  True,  True,  True]])"
      ]
     },
     "execution_count": 158,
     "metadata": {},
     "output_type": "execute_result"
    }
   ],
   "source": [
    "# x>50 | x<70 #incorrect\n",
    "(x>50) | (x<70)"
   ]
  },
  {
   "cell_type": "code",
   "execution_count": 159,
   "id": "3a0c1e70",
   "metadata": {},
   "outputs": [
    {
     "data": {
      "text/plain": [
       "array(['maryam', 'taha', 'jafar'], dtype='<U6')"
      ]
     },
     "execution_count": 159,
     "metadata": {},
     "output_type": "execute_result"
    }
   ],
   "source": [
    "users = np.array(['ali','maryam','taha','jafar'])\n",
    "ranks = np.array([-1,1,0.5,2])\n",
    "\n",
    "users[ranks>0]"
   ]
  },
  {
   "cell_type": "code",
   "execution_count": 160,
   "id": "4ab036a1",
   "metadata": {},
   "outputs": [
    {
     "data": {
      "text/plain": [
       "array(['jafar'], dtype='<U6')"
      ]
     },
     "execution_count": 160,
     "metadata": {},
     "output_type": "execute_result"
    }
   ],
   "source": [
    "m = np.max(ranks)\n",
    "# f = (ranks==m)\n",
    "f = (np.isclose(ranks,m))\n",
    "users[f]"
   ]
  },
  {
   "cell_type": "code",
   "execution_count": 161,
   "id": "35f07284",
   "metadata": {},
   "outputs": [
    {
     "data": {
      "text/plain": [
       "np.int64(3)"
      ]
     },
     "execution_count": 161,
     "metadata": {},
     "output_type": "execute_result"
    }
   ],
   "source": [
    "np.argmax(ranks)"
   ]
  },
  {
   "cell_type": "code",
   "execution_count": 162,
   "id": "25268ca0",
   "metadata": {},
   "outputs": [
    {
     "data": {
      "text/plain": [
       "np.str_('jafar')"
      ]
     },
     "execution_count": 162,
     "metadata": {},
     "output_type": "execute_result"
    }
   ],
   "source": [
    "users[np.argmax(ranks)]"
   ]
  },
  {
   "cell_type": "code",
   "execution_count": null,
   "id": "f1a241d3",
   "metadata": {},
   "outputs": [
    {
     "data": {
      "text/plain": [
       "array([0, 2, 1, 3])"
      ]
     },
     "execution_count": 163,
     "metadata": {},
     "output_type": "execute_result"
    }
   ],
   "source": [
    "np.argsort(ranks) # کم به زیاد"
   ]
  },
  {
   "cell_type": "code",
   "execution_count": 168,
   "id": "4ed79246",
   "metadata": {},
   "outputs": [
    {
     "data": {
      "text/plain": [
       "array([-1. ,  0.5,  1. ,  2. ])"
      ]
     },
     "execution_count": 168,
     "metadata": {},
     "output_type": "execute_result"
    }
   ],
   "source": [
    "ranks[np.argsort(ranks)]"
   ]
  },
  {
   "cell_type": "code",
   "execution_count": 169,
   "id": "a6c30a0b",
   "metadata": {},
   "outputs": [
    {
     "data": {
      "text/plain": [
       "array(['ali', 'taha', 'maryam', 'jafar'], dtype='<U6')"
      ]
     },
     "execution_count": 169,
     "metadata": {},
     "output_type": "execute_result"
    }
   ],
   "source": [
    "users[np.argsort(ranks)]"
   ]
  },
  {
   "cell_type": "code",
   "execution_count": 174,
   "id": "6da10a0a",
   "metadata": {},
   "outputs": [
    {
     "data": {
      "text/plain": [
       "array([3, 1, 2, 0])"
      ]
     },
     "execution_count": 174,
     "metadata": {},
     "output_type": "execute_result"
    }
   ],
   "source": [
    "np.argsort(ranks)[::-1] "
   ]
  },
  {
   "cell_type": "code",
   "execution_count": 175,
   "id": "c5830e6f",
   "metadata": {},
   "outputs": [
    {
     "data": {
      "text/plain": [
       "array(['jafar', 'maryam', 'taha', 'ali'], dtype='<U6')"
      ]
     },
     "execution_count": 175,
     "metadata": {},
     "output_type": "execute_result"
    }
   ],
   "source": [
    "users[np.argsort(ranks)[::-1] ]"
   ]
  },
  {
   "cell_type": "markdown",
   "id": "ad064857",
   "metadata": {},
   "source": [
    "# Floating point error (IEEE 756)\n",
    "### UNSIGEND INT\n",
    "```\n",
    "1 Byte = 8 bit -> 256 ->  0 - 256\n",
    "                            -128 - +127\n",
    "\n",
    "2 Byte = 16 bit -> 65536 ->  0 - 65535\n",
    "                            -32768 - +32767\n",
    "```"
   ]
  },
  {
   "cell_type": "markdown",
   "id": "48c622ad",
   "metadata": {},
   "source": [
    "\n",
    "$23_{10} = {00010111}_2$\n"
   ]
  },
  {
   "cell_type": "markdown",
   "id": "e784a69b",
   "metadata": {},
   "source": [
    "### SIGEND INT\n",
    "### Sing Bit\n",
    "```\n",
    "+23 = [00010111]\n",
    "-23 = [10010111]  Sing Bit\n",
    "```"
   ]
  },
  {
   "cell_type": "code",
   "execution_count": 164,
   "id": "d1007ed5",
   "metadata": {},
   "outputs": [
    {
     "data": {
      "text/plain": [
       "np.float64(6.0)"
      ]
     },
     "execution_count": 164,
     "metadata": {},
     "output_type": "execute_result"
    }
   ],
   "source": [
    "np.floor(np.log10(326456))+1  # تعداد عدد\n"
   ]
  },
  {
   "cell_type": "code",
   "execution_count": 165,
   "id": "7f5384e0",
   "metadata": {},
   "outputs": [
    {
     "name": "stdout",
     "output_type": "stream",
     "text": [
      "100001000001\n"
     ]
    }
   ],
   "source": [
    "a = f'{2113:b}'\n",
    "print(a)"
   ]
  },
  {
   "cell_type": "code",
   "execution_count": 166,
   "id": "194e2e24",
   "metadata": {},
   "outputs": [
    {
     "name": "stdout",
     "output_type": "stream",
     "text": [
      "0.30000000000000004\n"
     ]
    },
    {
     "data": {
      "text/plain": [
       "False"
      ]
     },
     "execution_count": 166,
     "metadata": {},
     "output_type": "execute_result"
    }
   ],
   "source": [
    "# باگ اصلی بخاطر خطی اعشار\n",
    "print(0.1 + 0.2)\n",
    "0.1 + 0.2 == 0.3\n"
   ]
  },
  {
   "cell_type": "markdown",
   "id": "3376fd87",
   "metadata": {},
   "source": [
    "# isclose"
   ]
  },
  {
   "cell_type": "code",
   "execution_count": 167,
   "id": "da70cf69",
   "metadata": {},
   "outputs": [
    {
     "data": {
      "text/plain": [
       "np.True_"
      ]
     },
     "execution_count": 167,
     "metadata": {},
     "output_type": "execute_result"
    }
   ],
   "source": [
    "np.isclose(0.1 + 0.2 , 0.3)"
   ]
  },
  {
   "cell_type": "markdown",
   "id": "9e9476e5",
   "metadata": {},
   "source": [
    "# add pading"
   ]
  },
  {
   "cell_type": "code",
   "execution_count": 176,
   "id": "255926ae",
   "metadata": {},
   "outputs": [
    {
     "data": {
      "text/plain": [
       "array([[79, 91, 53, 28, 91],\n",
       "       [ 1, 75, 36, 40, 55],\n",
       "       [99,  3, 10, 23, 49],\n",
       "       [41, 46, 50, 75, 53],\n",
       "       [93, 32, 97, 90, 85]], dtype=int32)"
      ]
     },
     "execution_count": 176,
     "metadata": {},
     "output_type": "execute_result"
    }
   ],
   "source": [
    "x = np.random.randint(0,100,(5,5))\n",
    "x"
   ]
  },
  {
   "cell_type": "code",
   "execution_count": 181,
   "id": "8845c5c6",
   "metadata": {},
   "outputs": [
    {
     "data": {
      "text/plain": [
       "array([[ 0.,  0.,  0.,  0.,  0.,  0.,  0.],\n",
       "       [ 0., 79., 91., 53., 28., 91.,  0.],\n",
       "       [ 0.,  1., 75., 36., 40., 55.,  0.],\n",
       "       [ 0., 99.,  3., 10., 23., 49.,  0.],\n",
       "       [ 0., 41., 46., 50., 75., 53.,  0.],\n",
       "       [ 0., 93., 32., 97., 90., 85.,  0.],\n",
       "       [ 0.,  0.,  0.,  0.,  0.,  0.,  0.]])"
      ]
     },
     "execution_count": 181,
     "metadata": {},
     "output_type": "execute_result"
    }
   ],
   "source": [
    "z = np.zeros((7,7))\n",
    "z[1:-1,1:-1] = x\n",
    "z"
   ]
  },
  {
   "cell_type": "code",
   "execution_count": 182,
   "id": "c2ee5232",
   "metadata": {},
   "outputs": [
    {
     "data": {
      "text/plain": [
       "array([[ 0,  0,  0,  0,  0,  0,  0],\n",
       "       [ 0, 79, 91, 53, 28, 91,  0],\n",
       "       [ 0,  1, 75, 36, 40, 55,  0],\n",
       "       [ 0, 99,  3, 10, 23, 49,  0],\n",
       "       [ 0, 41, 46, 50, 75, 53,  0],\n",
       "       [ 0, 93, 32, 97, 90, 85,  0],\n",
       "       [ 0,  0,  0,  0,  0,  0,  0]], dtype=int32)"
      ]
     },
     "execution_count": 182,
     "metadata": {},
     "output_type": "execute_result"
    }
   ],
   "source": [
    "np.pad(x,1)"
   ]
  },
  {
   "cell_type": "code",
   "execution_count": 187,
   "id": "0792112c",
   "metadata": {},
   "outputs": [
    {
     "data": {
      "text/plain": [
       "array([[ 0,  0,  0,  0,  0,  0,  0,  0,  0],\n",
       "       [ 0,  0, 79, 91, 53, 28, 91,  0,  0],\n",
       "       [ 0,  0,  1, 75, 36, 40, 55,  0,  0],\n",
       "       [ 0,  0, 99,  3, 10, 23, 49,  0,  0],\n",
       "       [ 0,  0, 41, 46, 50, 75, 53,  0,  0],\n",
       "       [ 0,  0, 93, 32, 97, 90, 85,  0,  0],\n",
       "       [ 0,  0,  0,  0,  0,  0,  0,  0,  0]], dtype=int32)"
      ]
     },
     "execution_count": 187,
     "metadata": {},
     "output_type": "execute_result"
    }
   ],
   "source": [
    "np.pad(x,((1,1),(2,2)))"
   ]
  },
  {
   "cell_type": "code",
   "execution_count": null,
   "id": "4abf234d",
   "metadata": {},
   "outputs": [],
   "source": []
  },
  {
   "cell_type": "code",
   "execution_count": 193,
   "id": "4faa110d",
   "metadata": {},
   "outputs": [
    {
     "data": {
      "text/plain": [
       "array([ 0,  1,  2,  3,  4,  5,  6,  7,  8,  9, 10, 11, 12, 13, 14, 15, 16,\n",
       "       17, 18, 19])"
      ]
     },
     "execution_count": 193,
     "metadata": {},
     "output_type": "execute_result"
    }
   ],
   "source": [
    "x = np.arange(0,20)\n",
    "x"
   ]
  },
  {
   "cell_type": "code",
   "execution_count": null,
   "id": "936aa861",
   "metadata": {},
   "outputs": [],
   "source": []
  }
 ],
 "metadata": {
  "kernelspec": {
   "display_name": "Learning_venv",
   "language": "python",
   "name": "python3"
  },
  "language_info": {
   "codemirror_mode": {
    "name": "ipython",
    "version": 3
   },
   "file_extension": ".py",
   "mimetype": "text/x-python",
   "name": "python",
   "nbconvert_exporter": "python",
   "pygments_lexer": "ipython3",
   "version": "3.13.3"
  }
 },
 "nbformat": 4,
 "nbformat_minor": 5
}
