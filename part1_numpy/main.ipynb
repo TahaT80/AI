{
 "cells": [
  {
   "cell_type": "code",
   "execution_count": 1,
   "id": "9e3db89e",
   "metadata": {},
   "outputs": [],
   "source": [
    "import numpy as np"
   ]
  },
  {
   "cell_type": "code",
   "execution_count": 2,
   "id": "b43f1bb3",
   "metadata": {},
   "outputs": [],
   "source": [
    "\n",
    "a = np.array([1,2,3,4])"
   ]
  },
  {
   "cell_type": "code",
   "execution_count": 3,
   "id": "6e00e715",
   "metadata": {},
   "outputs": [
    {
     "data": {
      "text/plain": [
       "array([1, 2, 3, 4])"
      ]
     },
     "execution_count": 3,
     "metadata": {},
     "output_type": "execute_result"
    }
   ],
   "source": [
    "a"
   ]
  },
  {
   "cell_type": "code",
   "execution_count": 4,
   "id": "05e0d958",
   "metadata": {},
   "outputs": [
    {
     "data": {
      "text/plain": [
       "array([[1, 2, 3],\n",
       "       [4, 5, 6]])"
      ]
     },
     "execution_count": 4,
     "metadata": {},
     "output_type": "execute_result"
    }
   ],
   "source": [
    "b = np.array([[1,2,3],[4,5,6]])\n",
    "b"
   ]
  },
  {
   "cell_type": "code",
   "execution_count": 5,
   "id": "8132e4a0",
   "metadata": {},
   "outputs": [
    {
     "name": "stdout",
     "output_type": "stream",
     "text": [
      "(4,) (2, 3)\n"
     ]
    }
   ],
   "source": [
    "print(a.shape,b.shape)"
   ]
  },
  {
   "cell_type": "code",
   "execution_count": 6,
   "id": "ac11daa0",
   "metadata": {},
   "outputs": [
    {
     "data": {
      "text/plain": [
       "(4, 1)"
      ]
     },
     "execution_count": 6,
     "metadata": {},
     "output_type": "execute_result"
    }
   ],
   "source": [
    "c = a.reshape((4,1))\n",
    "c.shape"
   ]
  },
  {
   "cell_type": "code",
   "execution_count": 7,
   "id": "13b31131",
   "metadata": {},
   "outputs": [
    {
     "data": {
      "text/plain": [
       "(2, 2, 1)"
      ]
     },
     "execution_count": 7,
     "metadata": {},
     "output_type": "execute_result"
    }
   ],
   "source": [
    "d = a.reshape((2,2,1))\n",
    "d.shape"
   ]
  },
  {
   "cell_type": "code",
   "execution_count": 8,
   "id": "ebc874cb",
   "metadata": {},
   "outputs": [
    {
     "data": {
      "text/plain": [
       "(2, 2, 1)"
      ]
     },
     "execution_count": 8,
     "metadata": {},
     "output_type": "execute_result"
    }
   ],
   "source": [
    "dd = a.reshape((2,-1,1))\n",
    "dd.shape   "
   ]
  },
  {
   "cell_type": "code",
   "execution_count": null,
   "id": "e8bf98b4",
   "metadata": {},
   "outputs": [],
   "source": [
    "a.resize((2,-1,1))    # این میاد خودش رو ریشیپ میکنه و در داده ریاد به درد میخوره\n"
   ]
  },
  {
   "cell_type": "code",
   "execution_count": 9,
   "id": "ba231ee2",
   "metadata": {},
   "outputs": [
    {
     "data": {
      "text/plain": [
       "array([1, 2, 3, 4, 5, 6])"
      ]
     },
     "execution_count": 9,
     "metadata": {},
     "output_type": "execute_result"
    }
   ],
   "source": [
    "a = np.array([1,2,3])\n",
    "b = np.array([4,5,6])\n",
    "c = np.concatenate((a,b))\n",
    "c"
   ]
  },
  {
   "cell_type": "code",
   "execution_count": 10,
   "id": "150c5d99",
   "metadata": {},
   "outputs": [
    {
     "data": {
      "text/plain": [
       "array([5, 7, 9])"
      ]
     },
     "execution_count": 10,
     "metadata": {},
     "output_type": "execute_result"
    }
   ],
   "source": [
    "a = np.array([1,2,3])\n",
    "b = np.array([4,5,6])\n",
    "c= a+b\n",
    "c"
   ]
  },
  {
   "cell_type": "code",
   "execution_count": 11,
   "id": "57b01bdc",
   "metadata": {},
   "outputs": [
    {
     "data": {
      "text/plain": [
       "array([ 4, 10, 18])"
      ]
     },
     "execution_count": 11,
     "metadata": {},
     "output_type": "execute_result"
    }
   ],
   "source": [
    "a = np.array([1,2,3])\n",
    "b = np.array([4,5,6])\n",
    "c= a*b\n",
    "c"
   ]
  },
  {
   "cell_type": "code",
   "execution_count": 67,
   "id": "cb23c65b",
   "metadata": {},
   "outputs": [
    {
     "data": {
      "text/plain": [
       "array([[ 1,  4,  9],\n",
       "       [ 4, 10, 18],\n",
       "       [ 7, 16, 27]])"
      ]
     },
     "execution_count": 67,
     "metadata": {},
     "output_type": "execute_result"
    }
   ],
   "source": [
    "# broadcasting\n",
    "a = np.array([1,2,3])\n",
    "b = np.array([[1,2,3],[4,5,6],[7,8,9]])\n",
    "c= a*b\n",
    "c"
   ]
  },
  {
   "cell_type": "code",
   "execution_count": null,
   "id": "c66aab74",
   "metadata": {},
   "outputs": [
    {
     "name": "stdout",
     "output_type": "stream",
     "text": [
      "[[4]\n",
      " [5]\n",
      " [6]]\n",
      "[[4]\n",
      " [5]\n",
      " [6]]\n"
     ]
    },
    {
     "data": {
      "text/plain": [
       "array([32])"
      ]
     },
     "execution_count": 51,
     "metadata": {},
     "output_type": "execute_result"
    }
   ],
   "source": [
    "a = np.array([[1],[2],[3]])\n",
    "b = np.array([4,5,6])\n",
    "c= b.dot(a)     # ضرب ماتریکسی\n",
    "c\n"
   ]
  },
  {
   "cell_type": "code",
   "execution_count": 13,
   "id": "1872fd5a",
   "metadata": {},
   "outputs": [
    {
     "data": {
      "text/plain": [
       "array([11, 12, 13])"
      ]
     },
     "execution_count": 13,
     "metadata": {},
     "output_type": "execute_result"
    }
   ],
   "source": [
    "c = np.array((10))\n",
    "d = a + c\n",
    "d"
   ]
  },
  {
   "cell_type": "code",
   "execution_count": 14,
   "id": "489b816f",
   "metadata": {},
   "outputs": [
    {
     "data": {
      "text/plain": [
       "array([11, 12, 13])"
      ]
     },
     "execution_count": 14,
     "metadata": {},
     "output_type": "execute_result"
    }
   ],
   "source": [
    "e = a + 10\n",
    "e"
   ]
  },
  {
   "cell_type": "code",
   "execution_count": 15,
   "id": "e3550fff",
   "metadata": {},
   "outputs": [
    {
     "data": {
      "text/plain": [
       "array([3, 5, 7])"
      ]
     },
     "execution_count": 15,
     "metadata": {},
     "output_type": "execute_result"
    }
   ],
   "source": [
    "a = np.array([1, 2, 3,4, 5, 6, 7, 8, 9])\n",
    "b = a[2:7:2]\n",
    "b"
   ]
  },
  {
   "cell_type": "code",
   "execution_count": 16,
   "id": "39e89a25",
   "metadata": {},
   "outputs": [
    {
     "data": {
      "text/plain": [
       "array([4, 5, 6, 7, 8, 9])"
      ]
     },
     "execution_count": 16,
     "metadata": {},
     "output_type": "execute_result"
    }
   ],
   "source": [
    "c = a[a>3]\n",
    "c"
   ]
  },
  {
   "cell_type": "code",
   "execution_count": 17,
   "id": "c6825c02",
   "metadata": {},
   "outputs": [
    {
     "data": {
      "text/plain": [
       "array([1, 2, 3, 4, 5, 6, 7, 8, 9])"
      ]
     },
     "execution_count": 17,
     "metadata": {},
     "output_type": "execute_result"
    }
   ],
   "source": [
    "a"
   ]
  },
  {
   "cell_type": "code",
   "execution_count": 18,
   "id": "44ab2164",
   "metadata": {},
   "outputs": [
    {
     "data": {
      "text/plain": [
       "np.int64(45)"
      ]
     },
     "execution_count": 18,
     "metadata": {},
     "output_type": "execute_result"
    }
   ],
   "source": [
    "num_a = np.sum(a)\n",
    "num_a"
   ]
  },
  {
   "cell_type": "code",
   "execution_count": 19,
   "id": "5bf70234",
   "metadata": {},
   "outputs": [
    {
     "data": {
      "text/plain": [
       "np.int64(9)"
      ]
     },
     "execution_count": 19,
     "metadata": {},
     "output_type": "execute_result"
    }
   ],
   "source": [
    "max_a = np.max(a)\n",
    "max_a"
   ]
  },
  {
   "cell_type": "code",
   "execution_count": 20,
   "id": "ee35cc5c",
   "metadata": {},
   "outputs": [
    {
     "data": {
      "text/plain": [
       "array([2, 2, 3, 4, 5, 6, 7, 7, 8])"
      ]
     },
     "execution_count": 20,
     "metadata": {},
     "output_type": "execute_result"
    }
   ],
   "source": [
    "a = np.array([2,5,7,2,6,4,3,7,8])\n",
    "b = np.sort(a)\n",
    "b"
   ]
  },
  {
   "cell_type": "code",
   "execution_count": 21,
   "id": "11a90de1",
   "metadata": {},
   "outputs": [
    {
     "data": {
      "text/plain": [
       "array([[ 9, -7, -7, -9],\n",
       "       [ 6, -1,  9,  2],\n",
       "       [ 3, -6,  8, -9]], dtype=int32)"
      ]
     },
     "execution_count": 21,
     "metadata": {},
     "output_type": "execute_result"
    }
   ],
   "source": [
    "a = np.random.randint(-10,10,(3,4))\n",
    "a"
   ]
  },
  {
   "cell_type": "code",
   "execution_count": 22,
   "id": "366296ed",
   "metadata": {},
   "outputs": [
    {
     "data": {
      "text/plain": [
       "array([[1, 2, 3],\n",
       "       [4, 5, 6]])"
      ]
     },
     "execution_count": 22,
     "metadata": {},
     "output_type": "execute_result"
    }
   ],
   "source": [
    "a = np.array([1,2,3])\n",
    "b = np.array([4,5,6])\n",
    "c = np.vstack((a,b))\n",
    "c\n"
   ]
  },
  {
   "cell_type": "code",
   "execution_count": 23,
   "id": "6c1cdb69",
   "metadata": {},
   "outputs": [
    {
     "data": {
      "text/plain": [
       "(2, 3)"
      ]
     },
     "execution_count": 23,
     "metadata": {},
     "output_type": "execute_result"
    }
   ],
   "source": [
    "c.shape"
   ]
  },
  {
   "cell_type": "code",
   "execution_count": 24,
   "id": "3e4c7fa3",
   "metadata": {},
   "outputs": [
    {
     "data": {
      "text/plain": [
       "array([1, 2, 3, 4, 5, 6])"
      ]
     },
     "execution_count": 24,
     "metadata": {},
     "output_type": "execute_result"
    }
   ],
   "source": [
    "a = np.array([1,2,3])\n",
    "b = np.array([4,5,6])\n",
    "c = np.hstack((a,b))\n",
    "c"
   ]
  },
  {
   "cell_type": "code",
   "execution_count": 25,
   "id": "d7625cdf",
   "metadata": {},
   "outputs": [],
   "source": [
    "a = np.array([1,2,3,4,5,6,7,8,9])\n"
   ]
  },
  {
   "cell_type": "code",
   "execution_count": 26,
   "id": "c113c512",
   "metadata": {},
   "outputs": [
    {
     "data": {
      "text/plain": [
       "np.float64(5.0)"
      ]
     },
     "execution_count": 26,
     "metadata": {},
     "output_type": "execute_result"
    }
   ],
   "source": [
    "mean_a = np.mean(a)\n",
    "mean_a"
   ]
  },
  {
   "cell_type": "code",
   "execution_count": 27,
   "id": "0b2a3d0e",
   "metadata": {},
   "outputs": [
    {
     "data": {
      "text/plain": [
       "np.float64(2.581988897471611)"
      ]
     },
     "execution_count": 27,
     "metadata": {},
     "output_type": "execute_result"
    }
   ],
   "source": [
    "std_a = np.std(a) ## انحراف از معیار\n",
    "std_a"
   ]
  },
  {
   "cell_type": "code",
   "execution_count": 28,
   "id": "01d80e2c",
   "metadata": {},
   "outputs": [
    {
     "data": {
      "text/plain": [
       "np.float64(2.581988897471611)"
      ]
     },
     "execution_count": 28,
     "metadata": {},
     "output_type": "execute_result"
    }
   ],
   "source": [
    "std_a = np.std(a)\n",
    "std_a"
   ]
  },
  {
   "cell_type": "code",
   "execution_count": 29,
   "id": "754bd0fa",
   "metadata": {},
   "outputs": [
    {
     "data": {
      "text/plain": [
       "array([-1.54919334, -1.161895  , -0.77459667, -0.38729833,  0.        ,\n",
       "        0.38729833,  0.77459667,  1.161895  ,  1.54919334])"
      ]
     },
     "execution_count": 29,
     "metadata": {},
     "output_type": "execute_result"
    }
   ],
   "source": [
    "norm_a = (a-mean_a)/std_a  ## به سمت صفر بردن میانگین\n",
    "norm_a"
   ]
  },
  {
   "cell_type": "code",
   "execution_count": 30,
   "id": "1b736c25",
   "metadata": {},
   "outputs": [
    {
     "data": {
      "text/plain": [
       "np.float64(0.0)"
      ]
     },
     "execution_count": 30,
     "metadata": {},
     "output_type": "execute_result"
    }
   ],
   "source": [
    "np.mean(norm_a)"
   ]
  },
  {
   "cell_type": "code",
   "execution_count": 31,
   "id": "e93c0dd8",
   "metadata": {},
   "outputs": [
    {
     "data": {
      "text/plain": [
       "np.float64(1.0)"
      ]
     },
     "execution_count": 31,
     "metadata": {},
     "output_type": "execute_result"
    }
   ],
   "source": [
    "np.std(norm_a)"
   ]
  },
  {
   "cell_type": "markdown",
   "id": "d48eb0be",
   "metadata": {},
   "source": [
    "# new"
   ]
  },
  {
   "cell_type": "code",
   "execution_count": 32,
   "id": "1305de6b",
   "metadata": {},
   "outputs": [],
   "source": [
    "a = np.array([[1,2,3],[4,5,6]])"
   ]
  },
  {
   "cell_type": "code",
   "execution_count": 33,
   "id": "dff9b416",
   "metadata": {},
   "outputs": [
    {
     "data": {
      "text/plain": [
       "(2, 3)"
      ]
     },
     "execution_count": 33,
     "metadata": {},
     "output_type": "execute_result"
    }
   ],
   "source": [
    "a.shape"
   ]
  },
  {
   "cell_type": "code",
   "execution_count": 34,
   "id": "0ca6a541",
   "metadata": {},
   "outputs": [
    {
     "data": {
      "text/plain": [
       "2"
      ]
     },
     "execution_count": 34,
     "metadata": {},
     "output_type": "execute_result"
    }
   ],
   "source": [
    "a.ndim"
   ]
  },
  {
   "cell_type": "markdown",
   "id": "d6e357bd",
   "metadata": {},
   "source": [
    " تعداد بایت ها"
   ]
  },
  {
   "cell_type": "code",
   "execution_count": 35,
   "id": "f8aa4655",
   "metadata": {},
   "outputs": [
    {
     "data": {
      "text/plain": [
       "8"
      ]
     },
     "execution_count": 35,
     "metadata": {},
     "output_type": "execute_result"
    }
   ],
   "source": [
    "a.itemsize  "
   ]
  },
  {
   "cell_type": "markdown",
   "id": "163da327",
   "metadata": {},
   "source": [
    " تعداد کل چیز های شیپ که ضرب شده"
   ]
  },
  {
   "cell_type": "code",
   "execution_count": 36,
   "id": "efe7e33a",
   "metadata": {},
   "outputs": [
    {
     "data": {
      "text/plain": [
       "6"
      ]
     },
     "execution_count": 36,
     "metadata": {},
     "output_type": "execute_result"
    }
   ],
   "source": [
    "a.size  "
   ]
  },
  {
   "cell_type": "markdown",
   "id": "f4b6d0c4",
   "metadata": {},
   "source": [
    " مقدار رم اشغالی"
   ]
  },
  {
   "cell_type": "code",
   "execution_count": 37,
   "id": "f8fdd568",
   "metadata": {},
   "outputs": [
    {
     "data": {
      "text/plain": [
       "48"
      ]
     },
     "execution_count": 37,
     "metadata": {},
     "output_type": "execute_result"
    }
   ],
   "source": [
    "a.size *a.itemsize  "
   ]
  },
  {
   "cell_type": "markdown",
   "id": "e6d7d017",
   "metadata": {},
   "source": [
    "dtype"
   ]
  },
  {
   "cell_type": "code",
   "execution_count": 38,
   "id": "d0aa5d0a",
   "metadata": {},
   "outputs": [
    {
     "data": {
      "text/plain": [
       "dtype('int64')"
      ]
     },
     "execution_count": 38,
     "metadata": {},
     "output_type": "execute_result"
    }
   ],
   "source": [
    "a.dtype"
   ]
  },
  {
   "cell_type": "code",
   "execution_count": 39,
   "id": "115c06a0",
   "metadata": {},
   "outputs": [
    {
     "data": {
      "text/plain": [
       "dtype('uint8')"
      ]
     },
     "execution_count": 39,
     "metadata": {},
     "output_type": "execute_result"
    }
   ],
   "source": [
    "f = np.array([1],dtype = 'uint8')\n",
    "f.dtype"
   ]
  },
  {
   "cell_type": "code",
   "execution_count": 40,
   "id": "c155e5d7",
   "metadata": {},
   "outputs": [
    {
     "data": {
      "text/plain": [
       "750.0"
      ]
     },
     "execution_count": 40,
     "metadata": {},
     "output_type": "execute_result"
    }
   ],
   "source": [
    "1000 *  1024*768*8  / (1024**2)   # uint64هزازتا عکس 6 گیگ رم رو پر میکنه اگه \n",
    "1000 *  1024*768*1  / (1024**2)   # uint8هزازتا عکس 750 مگ رم رو پر میکنه اگه "
   ]
  },
  {
   "cell_type": "markdown",
   "id": "f2853bcd",
   "metadata": {},
   "source": [
    "uint8 از 0 تا 255    <br>\n",
    "int8 از -127 تا +128"
   ]
  },
  {
   "cell_type": "markdown",
   "id": "73f029c9",
   "metadata": {},
   "source": [
    "اگه چیزی صفر داخل نباشه"
   ]
  },
  {
   "cell_type": "code",
   "execution_count": 41,
   "id": "6c4d7bf4",
   "metadata": {},
   "outputs": [
    {
     "data": {
      "text/plain": [
       "np.True_"
      ]
     },
     "execution_count": 41,
     "metadata": {},
     "output_type": "execute_result"
    }
   ],
   "source": [
    "a.all()  "
   ]
  },
  {
   "cell_type": "code",
   "execution_count": 42,
   "id": "14c8ab56",
   "metadata": {},
   "outputs": [
    {
     "data": {
      "text/plain": [
       "np.False_"
      ]
     },
     "execution_count": 42,
     "metadata": {},
     "output_type": "execute_result"
    }
   ],
   "source": [
    "q = np.array([[0,2,3],[4,5,6]])\n",
    "q.all()  "
   ]
  },
  {
   "cell_type": "markdown",
   "id": "1228405f",
   "metadata": {},
   "source": [
    "generate"
   ]
  },
  {
   "cell_type": "code",
   "execution_count": 43,
   "id": "e8e443c0",
   "metadata": {},
   "outputs": [
    {
     "data": {
      "text/plain": [
       "array([ 3,  6,  9, 12, 15, 18], dtype=uint8)"
      ]
     },
     "execution_count": 43,
     "metadata": {},
     "output_type": "execute_result"
    }
   ],
   "source": [
    "np.arange(3,20,3, dtype='uint8')"
   ]
  },
  {
   "cell_type": "code",
   "execution_count": 54,
   "id": "1c021fde",
   "metadata": {},
   "outputs": [
    {
     "data": {
      "text/plain": [
       "(array([ 0.        ,  0.20408163,  0.40816327,  0.6122449 ,  0.81632653,\n",
       "         1.02040816,  1.2244898 ,  1.42857143,  1.63265306,  1.83673469,\n",
       "         2.04081633,  2.24489796,  2.44897959,  2.65306122,  2.85714286,\n",
       "         3.06122449,  3.26530612,  3.46938776,  3.67346939,  3.87755102,\n",
       "         4.08163265,  4.28571429,  4.48979592,  4.69387755,  4.89795918,\n",
       "         5.10204082,  5.30612245,  5.51020408,  5.71428571,  5.91836735,\n",
       "         6.12244898,  6.32653061,  6.53061224,  6.73469388,  6.93877551,\n",
       "         7.14285714,  7.34693878,  7.55102041,  7.75510204,  7.95918367,\n",
       "         8.16326531,  8.36734694,  8.57142857,  8.7755102 ,  8.97959184,\n",
       "         9.18367347,  9.3877551 ,  9.59183673,  9.79591837, 10.        ]),\n",
       " np.float64(0.20408163265306123))"
      ]
     },
     "execution_count": 54,
     "metadata": {},
     "output_type": "execute_result"
    }
   ],
   "source": [
    "np.linspace(0,10,50,retstep=True)"
   ]
  },
  {
   "cell_type": "code",
   "execution_count": 57,
   "id": "9ea0c926",
   "metadata": {},
   "outputs": [
    {
     "data": {
      "text/plain": [
       "array([[0, 0, 0],\n",
       "       [0, 0, 0],\n",
       "       [0, 0, 0],\n",
       "       [0, 0, 0]], dtype=uint8)"
      ]
     },
     "execution_count": 57,
     "metadata": {},
     "output_type": "execute_result"
    }
   ],
   "source": [
    "np.zeros((4,3),dtype='uint8')"
   ]
  },
  {
   "cell_type": "code",
   "execution_count": 58,
   "id": "165ee38b",
   "metadata": {},
   "outputs": [
    {
     "data": {
      "text/plain": [
       "array([[1, 1, 1],\n",
       "       [1, 1, 1],\n",
       "       [1, 1, 1],\n",
       "       [1, 1, 1]], dtype=uint8)"
      ]
     },
     "execution_count": 58,
     "metadata": {},
     "output_type": "execute_result"
    }
   ],
   "source": [
    "np.ones((4,3),dtype='uint8')"
   ]
  },
  {
   "cell_type": "code",
   "execution_count": 60,
   "id": "8cb57132",
   "metadata": {},
   "outputs": [
    {
     "data": {
      "text/plain": [
       "array([[20, 20, 20],\n",
       "       [20, 20, 20],\n",
       "       [20, 20, 20],\n",
       "       [20, 20, 20]], dtype=uint8)"
      ]
     },
     "execution_count": 60,
     "metadata": {},
     "output_type": "execute_result"
    }
   ],
   "source": [
    "np.full((4,3),20,dtype='uint8')"
   ]
  },
  {
   "cell_type": "code",
   "execution_count": 63,
   "id": "279256e9",
   "metadata": {},
   "outputs": [
    {
     "data": {
      "text/plain": [
       "array([[0, 1, 0, 0, 0, 0, 0],\n",
       "       [0, 0, 2, 0, 0, 0, 0],\n",
       "       [0, 0, 0, 3, 0, 0, 0],\n",
       "       [0, 0, 0, 0, 4, 0, 0],\n",
       "       [0, 0, 0, 0, 0, 5, 0],\n",
       "       [0, 0, 0, 0, 0, 0, 6],\n",
       "       [0, 0, 0, 0, 0, 0, 0]])"
      ]
     },
     "execution_count": 63,
     "metadata": {},
     "output_type": "execute_result"
    }
   ],
   "source": [
    "np.diag([1,2,3,4,5,6],k=1)"
   ]
  },
  {
   "cell_type": "code",
   "execution_count": null,
   "id": "9d94d8bd",
   "metadata": {},
   "outputs": [],
   "source": []
  }
 ],
 "metadata": {
  "kernelspec": {
   "display_name": "Learning_venv",
   "language": "python",
   "name": "python3"
  },
  "language_info": {
   "codemirror_mode": {
    "name": "ipython",
    "version": 3
   },
   "file_extension": ".py",
   "mimetype": "text/x-python",
   "name": "python",
   "nbconvert_exporter": "python",
   "pygments_lexer": "ipython3",
   "version": "3.13.3"
  }
 },
 "nbformat": 4,
 "nbformat_minor": 5
}
