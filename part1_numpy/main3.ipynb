{
 "cells": [
  {
   "cell_type": "code",
   "execution_count": 1,
   "id": "45ae4ef2",
   "metadata": {},
   "outputs": [],
   "source": [
    "import numpy as np"
   ]
  },
  {
   "cell_type": "code",
   "execution_count": 2,
   "id": "a0331673",
   "metadata": {},
   "outputs": [
    {
     "data": {
      "text/plain": [
       "array([[1., 0., 0., 0.],\n",
       "       [0., 1., 0., 0.],\n",
       "       [0., 0., 1., 0.],\n",
       "       [0., 0., 0., 1.]])"
      ]
     },
     "execution_count": 2,
     "metadata": {},
     "output_type": "execute_result"
    }
   ],
   "source": [
    "np.eye(4) "
   ]
  },
  {
   "cell_type": "code",
   "execution_count": 3,
   "id": "6d5fcfc4",
   "metadata": {},
   "outputs": [
    {
     "data": {
      "text/plain": [
       "array([[1, 0, 0, 0],\n",
       "       [0, 1, 0, 0],\n",
       "       [0, 0, 1, 0],\n",
       "       [0, 0, 0, 1]])"
      ]
     },
     "execution_count": 3,
     "metadata": {},
     "output_type": "execute_result"
    }
   ],
   "source": [
    "np.diag([1,1,1,1])"
   ]
  },
  {
   "cell_type": "code",
   "execution_count": 4,
   "id": "317a4ba3",
   "metadata": {},
   "outputs": [
    {
     "name": "stdout",
     "output_type": "stream",
     "text": [
      "[[ 1  2  3  4  5]\n",
      " [16 17 18 19  6]\n",
      " [15 24 25 20  7]\n",
      " [14 23 22 21  8]\n",
      " [13 12 11 10  9]]\n"
     ]
    }
   ],
   "source": [
    "\n",
    "def spiral_matrix(n):\n",
    "    mat = np.zeros((n, n), dtype=int)\n",
    "    left, right, top, bottom = 0, n-1, 0, n-1\n",
    "    num = 1\n",
    "    \n",
    "    while left <= right and top <= bottom:\n",
    "        # حرکت به راست\n",
    "        for i in range(left, right+1):\n",
    "            mat[top, i] = num\n",
    "            num += 1\n",
    "        top += 1\n",
    "\n",
    "        # حرکت به پایین\n",
    "        for i in range(top, bottom+1):\n",
    "            mat[i, right] = num\n",
    "            num += 1\n",
    "        right -= 1\n",
    "\n",
    "        # حرکت به چپ\n",
    "        for i in range(right, left-1, -1):\n",
    "            mat[bottom, i] = num\n",
    "            num += 1\n",
    "        bottom -= 1\n",
    "\n",
    "        # حرکت به بالا\n",
    "        for i in range(bottom, top-1, -1):\n",
    "            mat[i, left] = num\n",
    "            num += 1\n",
    "        left += 1\n",
    "\n",
    "    return mat\n",
    "\n",
    "print(spiral_matrix(5))"
   ]
  },
  {
   "cell_type": "code",
   "execution_count": 5,
   "id": "4494de04",
   "metadata": {},
   "outputs": [
    {
     "name": "stdout",
     "output_type": "stream",
     "text": [
      "[[ 1  2  3  4  5  6]\n",
      " [ 7  8  9 10 11 12]\n",
      " [13 14 15 16 17 18]\n",
      " [19 20 21 22 23 24]\n",
      " [25 26 27 28 29 30]\n",
      " [31 32 33 34 35 36]]\n",
      "Main Diagonal: [ 1  8 15 22 29 36]\n",
      "Anti Diagonal: [ 6 11 16 21 26 31]\n",
      "Top-left block:\n",
      " [[ 1  2  3]\n",
      " [ 7  8  9]\n",
      " [13 14 15]]\n",
      "Top-right block:\n",
      " [[ 4  5  6]\n",
      " [10 11 12]\n",
      " [16 17 18]]\n",
      "Bottom-left block:\n",
      " [[19 20 21]\n",
      " [25 26 27]\n",
      " [31 32 33]]\n",
      "Bottom-right block:\n",
      " [[22 23 24]\n",
      " [28 29 30]\n",
      " [34 35 36]]\n"
     ]
    }
   ],
   "source": [
    "a = np.arange(1, 37).reshape(6, 6)\n",
    "print(a)\n",
    "\n",
    "# قطر اصلی\n",
    "print(\"Main Diagonal:\", np.diag(a))\n",
    "\n",
    "# قطر فرعی\n",
    "print(\"Anti Diagonal:\", np.diag(np.fliplr(a)))\n",
    "\n",
    "# چهار بلوک\n",
    "print(\"Top-left block:\\n\", a[:3, :3])\n",
    "print(\"Top-right block:\\n\", a[:3, 3:])\n",
    "print(\"Bottom-left block:\\n\", a[3:, :3])\n",
    "print(\"Bottom-right block:\\n\", a[3:, 3:])\n",
    "\n",
    "\n"
   ]
  },
  {
   "cell_type": "code",
   "execution_count": 6,
   "id": "95b03675",
   "metadata": {},
   "outputs": [
    {
     "name": "stdout",
     "output_type": "stream",
     "text": [
      "Top 5: [96 97 97 97 99]\n",
      "Bottom 5: [0 1 1 1 1]\n",
      "Median: 39.0\n",
      "25%: 20.0\n",
      "50%: 39.0\n",
      "75%: 75.0\n"
     ]
    }
   ],
   "source": [
    "a = np.random.randint(0, 100, (100))\n",
    "\n",
    "# 5 تا بزرگترین\n",
    "print(\"Top 5:\", np.sort(a)[-5:])\n",
    "\n",
    "# 5 تا کوچکترین\n",
    "print(\"Bottom 5:\", np.sort(a)[:5])\n",
    "\n",
    "# میانه\n",
    "print(\"Median:\", np.median(a))\n",
    "\n",
    "# چارک‌ها\n",
    "print(\"25%:\", np.percentile(a, 25))\n",
    "print(\"50%:\", np.percentile(a, 50))  # همون Median\n",
    "print(\"75%:\", np.percentile(a, 75))\n"
   ]
  },
  {
   "cell_type": "code",
   "execution_count": 7,
   "id": "8b0196bf",
   "metadata": {},
   "outputs": [
    {
     "name": "stdout",
     "output_type": "stream",
     "text": [
      "A:\n",
      " [[3 5 9 4 9 4]\n",
      " [6 7 8 3 7 7]\n",
      " [9 5 5 2 9 4]\n",
      " [1 9 7 2 6 9]]\n",
      "Transpose:\n",
      " [[3 6 9 1]\n",
      " [5 7 5 9]\n",
      " [9 8 5 7]\n",
      " [4 3 2 2]\n",
      " [9 7 9 6]\n",
      " [4 7 4 9]]\n",
      "A @ A.T:\n",
      " [[228 228 202 209]\n",
      " [228 256 226 236]\n",
      " [202 226 232 183]\n",
      " [209 236 183 252]]\n",
      "Is symmetric? True\n"
     ]
    }
   ],
   "source": [
    "A = np.random.randint(1, 10, (4, 6))\n",
    "print(\"A:\\n\", A)\n",
    "\n",
    "AT = A.T\n",
    "print(\"Transpose:\\n\", AT)\n",
    "\n",
    "# ضرب ماتریسی A * A^T\n",
    "M = A @ AT\n",
    "print(\"A @ A.T:\\n\", M)\n",
    "\n",
    "# بررسی متقارن بودن\n",
    "print(\"Is symmetric?\", np.allclose(M, M.T))\n"
   ]
  },
  {
   "cell_type": "code",
   "execution_count": 8,
   "id": "50f426bc",
   "metadata": {},
   "outputs": [
    {
     "name": "stdout",
     "output_type": "stream",
     "text": [
      "Image:\n",
      " [[3 8 0 2 0]\n",
      " [5 9 1 9 4]\n",
      " [7 4 1 3 4]\n",
      " [3 7 5 3 5]\n",
      " [6 1 5 0 7]]\n",
      "Kernel:\n",
      " [[ 1  0 -1]\n",
      " [ 1  0 -1]\n",
      " [ 1  0 -1]]\n",
      "Convolution Result:\n",
      " [[13  7 -6]\n",
      " [ 8  5 -6]\n",
      " [ 5  6 -5]]\n"
     ]
    }
   ],
   "source": [
    "image = np.random.randint(0, 10, (5, 5))\n",
    "kernel = np.array([[1,0,-1],\n",
    "                   [1,0,-1],\n",
    "                   [1,0,-1]])\n",
    "\n",
    "# خروجی 3x3 چون (5-3+1)x(5-3+1)\n",
    "out = np.zeros((3, 3), dtype=int)\n",
    "\n",
    "for i in range(3):\n",
    "    for j in range(3):\n",
    "        region = image[i:i+3, j:j+3]   # برش 3x3\n",
    "        out[i, j] = np.sum(region * kernel)\n",
    "\n",
    "print(\"Image:\\n\", image)\n",
    "print(\"Kernel:\\n\", kernel)\n",
    "print(\"Convolution Result:\\n\", out)\n"
   ]
  },
  {
   "cell_type": "code",
   "execution_count": 9,
   "id": "62895bed",
   "metadata": {},
   "outputs": [
    {
     "name": "stdout",
     "output_type": "stream",
     "text": [
      "Outer product:\n",
      " [[ 1  2  3  4  5]\n",
      " [ 2  4  6  8 10]\n",
      " [ 3  6  9 12 15]\n",
      " [ 4  8 12 16 20]\n",
      " [ 5 10 15 20 25]]\n"
     ]
    }
   ],
   "source": [
    "x = np.array([1,2,3,4,5]).reshape(1,5)\n",
    "y = np.array([1,2,3,4,5]).reshape(5,1)\n",
    "\n",
    "print(\"Outer product:\\n\", x * y)\n"
   ]
  },
  {
   "cell_type": "code",
   "execution_count": 10,
   "id": "a45b719f",
   "metadata": {},
   "outputs": [
    {
     "name": "stdout",
     "output_type": "stream",
     "text": [
      "Matrix:\n",
      " [[9 9 7]\n",
      " [3 7 2]\n",
      " [5 6 4]]\n",
      "Eigenvalues: [16.88582232  0.13935237  2.97482532]\n",
      "Eigenvectors:\n",
      " [[-0.81128999 -0.66248954  0.73593818]\n",
      " [-0.34211248  0.07234442 -0.64723324]\n",
      " [-0.47409662  0.74556951  0.19870615]]\n"
     ]
    }
   ],
   "source": [
    "A = np.random.randint(1, 10, (3, 3))\n",
    "vals, vecs = np.linalg.eig(A)\n",
    "\n",
    "print(\"Matrix:\\n\", A)\n",
    "print(\"Eigenvalues:\", vals)\n",
    "print(\"Eigenvectors:\\n\", vecs)\n"
   ]
  },
  {
   "cell_type": "code",
   "execution_count": 11,
   "id": "88c948bc",
   "metadata": {},
   "outputs": [
    {
     "name": "stdout",
     "output_type": "stream",
     "text": [
      "Sudoku valid? True\n"
     ]
    }
   ],
   "source": [
    "def check_sudoku(board):\n",
    "    for i in range(9):\n",
    "        row = board[i, :]\n",
    "        col = board[:, i]\n",
    "        if len(np.unique(row)) != 9 or len(np.unique(col)) != 9:\n",
    "            return False\n",
    "    return True\n",
    "\n",
    "# نمونه تست (سودوکو معتبر)\n",
    "board = np.array([\n",
    "    [5,3,4,6,7,8,9,1,2],\n",
    "    [6,7,2,1,9,5,3,4,8],\n",
    "    [1,9,8,3,4,2,5,6,7],\n",
    "    [8,5,9,7,6,1,4,2,3],\n",
    "    [4,2,6,8,5,3,7,9,1],\n",
    "    [7,1,3,9,2,4,8,5,6],\n",
    "    [9,6,1,5,3,7,2,8,4],\n",
    "    [2,8,7,4,1,9,6,3,5],\n",
    "    [3,4,5,2,8,6,1,7,9]\n",
    "])\n",
    "\n",
    "print(\"Sudoku valid?\", check_sudoku(board))\n"
   ]
  },
  {
   "cell_type": "code",
   "execution_count": null,
   "id": "ec73890c",
   "metadata": {},
   "outputs": [],
   "source": []
  }
 ],
 "metadata": {
  "kernelspec": {
   "display_name": "Python 3",
   "language": "python",
   "name": "python3"
  },
  "language_info": {
   "codemirror_mode": {
    "name": "ipython",
    "version": 3
   },
   "file_extension": ".py",
   "mimetype": "text/x-python",
   "name": "python",
   "nbconvert_exporter": "python",
   "pygments_lexer": "ipython3",
   "version": "3.13.5"
  }
 },
 "nbformat": 4,
 "nbformat_minor": 5
}
