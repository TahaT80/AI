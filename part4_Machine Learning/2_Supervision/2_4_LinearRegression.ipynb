{
 "cells": [
  {
   "cell_type": "markdown",
   "id": "2d4d01fa",
   "metadata": {},
   "source": [
    "# Cost functions\n",
    "# regularization\n",
    "![alt text](image.png)\n"
   ]
  },
  {
   "cell_type": "code",
   "execution_count": null,
   "id": "8f495f92",
   "metadata": {},
   "outputs": [],
   "source": [
    "from sklearn.linear_model import  LinearRegression\n",
    "from sklearn.linear_model import  Lasso #L1\n",
    "from sklearn.linear_model import  Ridge #L2"
   ]
  },
  {
   "cell_type": "markdown",
   "id": "4e76d823",
   "metadata": {},
   "source": [
    "\n",
    "\n",
    "## 1. **Linear Regression (رگرسیون خطی ساده)**\n",
    "\n",
    "* **فرمول کلی:**\n",
    "\n",
    "  $$\n",
    "  y = \\beta_0 + \\beta_1 x_1 + \\beta_2 x_2 + \\dots + \\beta_n x_n\n",
    "  $$\n",
    "* **هدف:** پیدا کردن ضرایب $\\beta_i$ که خط بهترین برازش را تولید کند.\n",
    "* **ویژگی:**\n",
    "\n",
    "  * بدون هیچگونه **regularization** (تنبیه برای ضرایب بزرگ).\n",
    "  * ممکن است در شرایطی که داده‌ها نویز زیاد دارند یا تعداد ویژگی‌ها زیاد است، **overfitting** کند.\n",
    "\n",
    "---\n",
    "\n",
    "## 2. **Ridge Regression (ریج)**\n",
    "\n",
    "* نوعی رگرسیون خطی با **L2 regularization**.\n",
    "* **فرمول هدف:**\n",
    "\n",
    "  $$\n",
    "  \\text{Minimize} \\quad ||y - X\\beta||^2 + \\lambda ||\\beta||^2\n",
    "  $$\n",
    "* **تأثیر:**\n",
    "\n",
    "  * ضرایب را کوچک می‌کند (ولی معمولاً صفر نمی‌کند).\n",
    "  * مفید زمانی که همه ویژگی‌ها مهم هستند ولی باید ضرایب خیلی بزرگ کنترل شوند.\n",
    "* **کاربرد:** وقتی چند ویژگی هم‌خط (collinear) داریم.\n",
    "\n",
    "---\n",
    "\n",
    "## 3. **Lasso Regression (لاسو)**\n",
    "\n",
    "* نوعی رگرسیون خطی با **L1 regularization**.\n",
    "* **فرمول هدف:**\n",
    "\n",
    "  $$\n",
    "  \\text{Minimize} \\quad ||y - X\\beta||^2 + \\lambda \\sum |\\beta_i|\n",
    "  $$\n",
    "* **تأثیر:**\n",
    "\n",
    "  * بعضی ضرایب را کاملاً **صفر** می‌کند → باعث **انتخاب ویژگی (feature selection)** می‌شود.\n",
    "  * در datasets با ویژگی‌های زیاد، کمک می‌کند فقط مهم‌ها باقی بمانند.\n",
    "\n",
    "---\n",
    "\n",
    "## 🔍 تفاوت‌ها در یک نگاه:\n",
    "\n",
    "| ویژگی                 | Linear               | Ridge                   | Lasso                               |\n",
    "| --------------------- | -------------------- | ----------------------- | ----------------------------------- |\n",
    "| Regularization        | ندارد                | L2 (جریمه مربع ضرایب)   | L1 (جریمه قدرمطلق ضرایب)            |\n",
    "| انتخاب ویژگی          | ❌                    | ❌                       | ✅ (برخی ضرایب صفر می‌شوند)          |\n",
    "| مقابله با Overfitting | ضعیف                 | خوب                     | خوب                                 |\n",
    "| مناسب برای            | داده‌های تمیز و ساده | داده‌های با هم‌خطی زیاد | داده‌های با ویژگی‌های زیاد و بی‌ربط |\n",
    "\n",
    "---\n",
    "\n"
   ]
  },
  {
   "cell_type": "markdown",
   "id": "fa0fed65",
   "metadata": {},
   "source": []
  }
 ],
 "metadata": {
  "language_info": {
   "name": "python"
  }
 },
 "nbformat": 4,
 "nbformat_minor": 5
}
