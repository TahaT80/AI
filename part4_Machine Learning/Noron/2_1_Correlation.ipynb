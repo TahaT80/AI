{
 "cells": [
  {
   "cell_type": "code",
   "execution_count": 4,
   "id": "19f5a187",
   "metadata": {},
   "outputs": [],
   "source": [
    "import numpy as np\n",
    "import pandas as pd\n",
    "import matplotlib.pyplot as plt\n",
    "import pickle\n",
    "from PIL import Image\n",
    "\n",
    "import  keras\n"
   ]
  },
  {
   "cell_type": "markdown",
   "id": "6a4946e7",
   "metadata": {},
   "source": [
    "![alt text](image-12.png)\n",
    "\n",
    "![alt text](image-11.png)"
   ]
  },
  {
   "cell_type": "markdown",
   "id": "82901a6d",
   "metadata": {},
   "source": [
    "- این فیلتر برای داده هایی که ادامه دهنده هستن مثل قیمت سهام ولی برای ایریس که گلبرگه و طول برگا پشت هم نیست نمیشه\n",
    "- ترتیب توش مهمه"
   ]
  },
  {
   "cell_type": "markdown",
   "id": "7d685202",
   "metadata": {},
   "source": [
    "- مثل این میمونه قیمت خام بدی\n",
    "- ولی با فیتر مثل این میمونه بیای ار اس ای بدی برای ساخت مدل"
   ]
  },
  {
   "cell_type": "markdown",
   "id": "e4b1a53d",
   "metadata": {},
   "source": [
    "![alt text](image-13.png)\n",
    "\n",
    "- اینجا مطالب مهم تر رو معلوم کرد و خطوط افقی رو میاره"
   ]
  },
  {
   "cell_type": "markdown",
   "id": "f935c7c1",
   "metadata": {},
   "source": [
    "![alt text](image-14.png)"
   ]
  },
  {
   "cell_type": "markdown",
   "id": "ecc80854",
   "metadata": {},
   "source": [
    "![alt text](image-15.png)\n",
    "\n",
    "![alt text](image-16.png)"
   ]
  },
  {
   "cell_type": "markdown",
   "id": "34628e1c",
   "metadata": {},
   "source": [
    "- پیش پردازش یعنی خودمون فیتر بدیم\n",
    "- اگه خودش این فیلتر هارو پیدا کنه فیچرلرنینکگ میکنه"
   ]
  },
  {
   "cell_type": "markdown",
   "id": "0a568b57",
   "metadata": {},
   "source": [
    "![alt text](image-17.png)"
   ]
  },
  {
   "cell_type": "markdown",
   "id": "b6125584",
   "metadata": {},
   "source": []
  }
 ],
 "metadata": {
  "kernelspec": {
   "display_name": "base",
   "language": "python",
   "name": "python3"
  },
  "language_info": {
   "codemirror_mode": {
    "name": "ipython",
    "version": 3
   },
   "file_extension": ".py",
   "mimetype": "text/x-python",
   "name": "python",
   "nbconvert_exporter": "python",
   "pygments_lexer": "ipython3",
   "version": "3.12.7"
  }
 },
 "nbformat": 4,
 "nbformat_minor": 5
}
