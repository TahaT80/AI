{
 "cells": [
  {
   "cell_type": "code",
   "execution_count": 84,
   "id": "7c047b6a",
   "metadata": {},
   "outputs": [
    {
     "name": "stdout",
     "output_type": "stream",
     "text": [
      "Looking in indexes: https://pypi.org/simple, https://pypi.ngc.nvidia.com\n",
      "Requirement already satisfied: opencv-python in c:\\users\\taha\\.conda\\envs\\tf-gpu-env\\lib\\site-packages (4.12.0.88)\n",
      "Requirement already satisfied: numpy<2.0 in c:\\users\\taha\\.conda\\envs\\tf-gpu-env\\lib\\site-packages (from opencv-python) (1.24.4)\n"
     ]
    }
   ],
   "source": [
    "! pip install opencv-python"
   ]
  },
  {
   "cell_type": "code",
   "execution_count": 85,
   "id": "19f5a187",
   "metadata": {},
   "outputs": [],
   "source": [
    "import numpy as np\n",
    "import pandas as pd\n",
    "import matplotlib.pyplot as plt\n",
    "import pickle\n",
    "\n",
    "import tensorflow as tf\n",
    "from keras.models import Sequential\n",
    "from keras.layers import Dense\n",
    "from keras.layers import Input\n",
    "from keras.layers import Conv2D\n",
    "from keras.layers import MaxPooling2D\n",
    "from keras.layers import Flatten\n",
    "\n",
    "from keras.utils import to_categorical\n",
    "from sklearn.preprocessing import LabelEncoder\n",
    "\n",
    "import cv2\n",
    "\n",
    "from glob import glob\n",
    "import os"
   ]
  },
  {
   "cell_type": "code",
   "execution_count": 86,
   "id": "f58ead8c",
   "metadata": {},
   "outputs": [],
   "source": [
    "# ! unzip captcha-samples-wordpress.zip > /dev/null"
   ]
  },
  {
   "cell_type": "code",
   "execution_count": 87,
   "id": "26c7dea8",
   "metadata": {},
   "outputs": [
    {
     "data": {
      "text/plain": [
       "(24, 72, 3)"
      ]
     },
     "execution_count": 87,
     "metadata": {},
     "output_type": "execute_result"
    }
   ],
   "source": [
    "im = cv2.imread('train/22PL.png')\n",
    "im.shape"
   ]
  },
  {
   "cell_type": "code",
   "execution_count": 88,
   "id": "84dcd69a",
   "metadata": {},
   "outputs": [
    {
     "data": {
      "text/plain": [
       "(24, 72)"
      ]
     },
     "execution_count": 88,
     "metadata": {},
     "output_type": "execute_result"
    }
   ],
   "source": [
    "im = 255 - cv2.cvtColor(im,cv2.COLOR_RGB2GRAY)/255   # تبدیل مود رنگ\n",
    "im.shape"
   ]
  },
  {
   "cell_type": "code",
   "execution_count": 89,
   "id": "bc67852d",
   "metadata": {},
   "outputs": [
    {
     "data": {
      "text/plain": [
       "<matplotlib.image.AxesImage at 0x20067b8b970>"
      ]
     },
     "execution_count": 89,
     "metadata": {},
     "output_type": "execute_result"
    },
    {
     "data": {
      "image/png": "[encoded data removed]",
      "text/plain": [
       "<Figure size 640x480 with 1 Axes>"
      ]
     },
     "metadata": {},
     "output_type": "display_data"
    }
   ],
   "source": [
    "plt.imshow(im,'gray')"
   ]
  },
  {
   "cell_type": "code",
   "execution_count": 90,
   "id": "fc595ca4",
   "metadata": {},
   "outputs": [],
   "source": [
    "def load_data(p):\n",
    "    pattern = os.path.join(p,'*.png')\n",
    "    files = glob(pattern)\n",
    "    X = []\n",
    "    Y = []\n",
    "    for file in files:\n",
    "        chars = list(os.path.splitext(os.path.basename(file))[0])\n",
    "        if len(chars) != 4:\n",
    "            print(chars)\n",
    "            continue\n",
    "        im = cv2.imread(file)\n",
    "        im = (255 - cv2.cvtColor(im,cv2.COLOR_RGB2GRAY))/255  \n",
    "        X.append(im)\n",
    "        # Y.append(os.path.basename(file)[:-4])\n",
    "        Y.append(chars)\n",
    "    X = np.array(X,ndmin=3)\n",
    "    Y = np.array(Y,ndmin=2)\n",
    "    return X,Y"
   ]
  },
  {
   "cell_type": "code",
   "execution_count": 91,
   "id": "5685c2eb",
   "metadata": {},
   "outputs": [
    {
     "name": "stdout",
     "output_type": "stream",
     "text": [
      "['A', 'Z', 'Q', 'K', '(', '1', ')']\n"
     ]
    }
   ],
   "source": [
    "x_train,y_train = load_data('train/')\n",
    "x_test,y_test = load_data('test/')"
   ]
  },
  {
   "cell_type": "code",
   "execution_count": 92,
   "id": "b19c3536",
   "metadata": {},
   "outputs": [
    {
     "name": "stdout",
     "output_type": "stream",
     "text": [
      "(9843, 24, 72) (9843, 4)\n",
      "(100, 24, 72) (100, 4)\n"
     ]
    }
   ],
   "source": [
    "print(x_train.shape,y_train.shape)\n",
    "print(x_test.shape,y_test.shape)"
   ]
  },
  {
   "cell_type": "code",
   "execution_count": 93,
   "id": "abe1667d",
   "metadata": {},
   "outputs": [],
   "source": [
    "encoder = LabelEncoder()\n",
    "encoder.fit(y_train.reshape(-1))\n",
    "encoder.classes_\n",
    "with open('encoder.bin','wb')as f:\n",
    "    pickle.dump(encoder,f)"
   ]
  },
  {
   "cell_type": "code",
   "execution_count": 94,
   "id": "f1e8cc89",
   "metadata": {},
   "outputs": [
    {
     "name": "stdout",
     "output_type": "stream",
     "text": [
      "(9843, 4)\n"
     ]
    }
   ],
   "source": [
    "y_encoded_train = encoder.transform(y_train.reshape(-1)).reshape(-1,4)\n",
    "y_encoded_test = encoder.transform(y_test.reshape(-1)).reshape(-1,4)\n",
    "print(y_encoded_train.shape)"
   ]
  },
  {
   "cell_type": "code",
   "execution_count": 95,
   "id": "f55f1b1e",
   "metadata": {},
   "outputs": [
    {
     "name": "stdout",
     "output_type": "stream",
     "text": [
      "(9843, 32)\n"
     ]
    }
   ],
   "source": [
    "yt = to_categorical(y_encoded_train[:,0])\n",
    "yt_test = to_categorical(y_encoded_test[:,0])\n",
    "print(yt.shape)"
   ]
  },
  {
   "cell_type": "code",
   "execution_count": 96,
   "id": "53167643",
   "metadata": {},
   "outputs": [
    {
     "name": "stdout",
     "output_type": "stream",
     "text": [
      "(9843, 24, 72)\n"
     ]
    }
   ],
   "source": [
    "print(x_train.shape)"
   ]
  },
  {
   "cell_type": "code",
   "execution_count": 97,
   "id": "40b77a9f",
   "metadata": {},
   "outputs": [
    {
     "name": "stdout",
     "output_type": "stream",
     "text": [
      "Model: \"sequential_5\"\n",
      "_________________________________________________________________\n",
      " Layer (type)                Output Shape              Param #   \n",
      "=================================================================\n",
      " conv2d_19 (Conv2D)          (None, 24, 72, 4)         40        \n",
      "                                                                 \n",
      " conv2d_20 (Conv2D)          (None, 24, 72, 8)         296       \n",
      "                                                                 \n",
      " conv2d_21 (Conv2D)          (None, 24, 72, 16)        1168      \n",
      "                                                                 \n",
      " flatten_5 (Flatten)         (None, 27648)             0         \n",
      "                                                                 \n",
      " dense_15 (Dense)            (None, 128)               3539072   \n",
      "                                                                 \n",
      " dense_16 (Dense)            (None, 64)                8256      \n",
      "                                                                 \n",
      " dense_17 (Dense)            (None, 32)                2080      \n",
      "                                                                 \n",
      "=================================================================\n",
      "Total params: 3,550,912\n",
      "Trainable params: 3,550,912\n",
      "Non-trainable params: 0\n",
      "_________________________________________________________________\n"
     ]
    }
   ],
   "source": [
    "model = Sequential()\n",
    "\n",
    "model.add(Input(shape=(24, 72,1)))\n",
    "# feature Learning\n",
    "model.add(Conv2D(4,(3,3),padding='same'))  # (3,3) عکس کوچیک\n",
    "model.add(Conv2D(8,(3,3),padding='same'))  \n",
    "model.add(Conv2D(16,(3,3),padding='same'))  \n",
    "# model.add(Conv2D(32,(3,3),padding='same'))  \n",
    "# classification\n",
    "model.add(Flatten())\n",
    "model.add(Dense(128,activation='relu'))\n",
    "model.add(Dense(64,activation='relu'))\n",
    "model.add(Dense(32,activation='softmax'))\n",
    "\n",
    "model.summary()"
   ]
  },
  {
   "cell_type": "code",
   "execution_count": 98,
   "id": "b991fa07",
   "metadata": {},
   "outputs": [],
   "source": [
    "model.compile( optimizer='adam',loss='categorical_crossentropy',metrics=['accuracy'])"
   ]
  },
  {
   "cell_type": "code",
   "execution_count": 99,
   "id": "6e68a350",
   "metadata": {},
   "outputs": [
    {
     "name": "stdout",
     "output_type": "stream",
     "text": [
      "Epoch 1/20\n",
      "308/308 [==============================] - 12s 34ms/step - loss: 2.2332 - accuracy: 0.3389 - val_loss: 1.1790 - val_accuracy: 0.6500\n",
      "Epoch 2/20\n",
      "308/308 [==============================] - 6s 20ms/step - loss: 0.6528 - accuracy: 0.7764 - val_loss: 0.7402 - val_accuracy: 0.7600\n",
      "Epoch 3/20\n",
      "308/308 [==============================] - 6s 19ms/step - loss: 0.2889 - accuracy: 0.9045 - val_loss: 0.4561 - val_accuracy: 0.8700\n",
      "Epoch 4/20\n",
      "308/308 [==============================] - 6s 19ms/step - loss: 0.1704 - accuracy: 0.9403 - val_loss: 0.1278 - val_accuracy: 0.9600\n",
      "Epoch 5/20\n",
      "308/308 [==============================] - 7s 24ms/step - loss: 0.1099 - accuracy: 0.9624 - val_loss: 0.2698 - val_accuracy: 0.9100\n",
      "Epoch 6/20\n",
      "308/308 [==============================] - 8s 25ms/step - loss: 0.0807 - accuracy: 0.9739 - val_loss: 0.3061 - val_accuracy: 0.9300\n",
      "Epoch 7/20\n",
      "308/308 [==============================] - 7s 22ms/step - loss: 0.1018 - accuracy: 0.9639 - val_loss: 0.2198 - val_accuracy: 0.9300\n",
      "Epoch 8/20\n",
      "308/308 [==============================] - 8s 25ms/step - loss: 0.0570 - accuracy: 0.9809 - val_loss: 0.0798 - val_accuracy: 0.9700\n",
      "Epoch 9/20\n",
      "308/308 [==============================] - 7s 24ms/step - loss: 0.0559 - accuracy: 0.9828 - val_loss: 0.1240 - val_accuracy: 0.9400\n",
      "Epoch 10/20\n",
      "308/308 [==============================] - 7s 23ms/step - loss: 0.0598 - accuracy: 0.9789 - val_loss: 0.1802 - val_accuracy: 0.9400\n",
      "Epoch 11/20\n",
      "308/308 [==============================] - 7s 22ms/step - loss: 0.0498 - accuracy: 0.9832 - val_loss: 0.0599 - val_accuracy: 0.9800\n",
      "Epoch 12/20\n",
      "308/308 [==============================] - 7s 21ms/step - loss: 0.0492 - accuracy: 0.9842 - val_loss: 0.0414 - val_accuracy: 0.9800\n",
      "Epoch 13/20\n",
      "308/308 [==============================] - 8s 26ms/step - loss: 0.0540 - accuracy: 0.9817 - val_loss: 0.0835 - val_accuracy: 0.9700\n",
      "Epoch 14/20\n",
      "308/308 [==============================] - 8s 26ms/step - loss: 0.0317 - accuracy: 0.9885 - val_loss: 0.3203 - val_accuracy: 0.9500\n",
      "Epoch 15/20\n",
      "308/308 [==============================] - 13s 41ms/step - loss: 0.0454 - accuracy: 0.9847 - val_loss: 0.3457 - val_accuracy: 0.9400\n",
      "Epoch 16/20\n",
      "308/308 [==============================] - 19s 62ms/step - loss: 0.0442 - accuracy: 0.9852 - val_loss: 0.0999 - val_accuracy: 0.9600\n",
      "Epoch 17/20\n",
      "308/308 [==============================] - 9s 29ms/step - loss: 0.0292 - accuracy: 0.9902 - val_loss: 0.0876 - val_accuracy: 0.9700\n",
      "Epoch 18/20\n",
      "308/308 [==============================] - 8s 26ms/step - loss: 0.0307 - accuracy: 0.9906 - val_loss: 0.0887 - val_accuracy: 0.9700\n",
      "Epoch 19/20\n",
      "308/308 [==============================] - 7s 22ms/step - loss: 0.0371 - accuracy: 0.9881 - val_loss: 0.2332 - val_accuracy: 0.9500\n",
      "Epoch 20/20\n",
      "308/308 [==============================] - 7s 23ms/step - loss: 0.0382 - accuracy: 0.9870 - val_loss: 0.3253 - val_accuracy: 0.9100\n"
     ]
    }
   ],
   "source": [
    "h = model.fit(x_train,yt,validation_data=(x_test,yt_test),epochs=20)"
   ]
  },
  {
   "cell_type": "code",
   "execution_count": 100,
   "id": "b5e8f43f",
   "metadata": {},
   "outputs": [
    {
     "data": {
      "text/plain": [
       "<matplotlib.legend.Legend at 0x2006d521d60>"
      ]
     },
     "execution_count": 100,
     "metadata": {},
     "output_type": "execute_result"
    },
    {
     "data": {
      "image/png": "[encoded data removed]",
      "text/plain": [
       "<Figure size 1500x500 with 2 Axes>"
      ]
     },
     "metadata": {},
     "output_type": "display_data"
    }
   ],
   "source": [
    "plt.figure(figsize=(15, 5))\n",
    "\n",
    "plt.subplot(1, 2, 1)\n",
    "plt.plot(h.history['accuracy'])\n",
    "plt.plot(h.history['val_accuracy'])\n",
    "plt.legend(['train', 'test'])\n",
    "\n",
    "plt.subplot(1, 2, 2)\n",
    "plt.plot(h.history['loss'])\n",
    "plt.plot(h.history['val_loss'])\n",
    "plt.legend(['train', 'test'])\n"
   ]
  },
  {
   "cell_type": "code",
   "execution_count": 102,
   "id": "ea02ae4a",
   "metadata": {},
   "outputs": [
    {
     "data": {
      "image/png": "[encoded data removed]",
      "text/plain": [
       "<Figure size 640x480 with 1 Axes>"
      ]
     },
     "metadata": {},
     "output_type": "display_data"
    }
   ],
   "source": [
    "f = 'test/DL4C.png'\n",
    "im = cv2.imread(f)\n",
    "im = cv2.cvtColor(im,cv2.COLOR_BGR2GRAY)\n",
    "im = (255-im)/255\n",
    "plt.imshow(im,'gray');"
   ]
  },
  {
   "cell_type": "code",
   "execution_count": 103,
   "id": "25bed3c6",
   "metadata": {},
   "outputs": [
    {
     "name": "stdout",
     "output_type": "stream",
     "text": [
      "1/1 [==============================] - 1s 592ms/step\n"
     ]
    },
    {
     "data": {
      "text/plain": [
       "array([[1.18345443e-21, 0.00000000e+00, 0.00000000e+00, 2.47926739e-35,\n",
       "        0.00000000e+00, 3.13229468e-35, 0.00000000e+00, 0.00000000e+00,\n",
       "        9.74668416e-37, 4.07416495e-15, 1.96394711e-15, 9.99995112e-01,\n",
       "        4.51792609e-20, 1.70400881e-32, 2.80462415e-12, 1.92143634e-08,\n",
       "        1.18181644e-29, 9.76562747e-22, 5.67204858e-27, 3.42411766e-18,\n",
       "        3.15274527e-20, 1.52332370e-13, 6.10569771e-07, 1.48410056e-22,\n",
       "        1.15022883e-36, 2.08210481e-28, 4.29867578e-06, 4.62142651e-30,\n",
       "        2.42784376e-23, 4.12212279e-32, 3.78747119e-37, 7.58216691e-20]],\n",
       "      dtype=float32)"
      ]
     },
     "execution_count": 103,
     "metadata": {},
     "output_type": "execute_result"
    }
   ],
   "source": [
    "r = model.predict(im.reshape(1,24,72,1))\n",
    "r"
   ]
  },
  {
   "cell_type": "code",
   "execution_count": 104,
   "id": "9460d488",
   "metadata": {},
   "outputs": [
    {
     "data": {
      "text/plain": [
       "11"
      ]
     },
     "execution_count": 104,
     "metadata": {},
     "output_type": "execute_result"
    }
   ],
   "source": [
    "np.argmax(r)"
   ]
  },
  {
   "cell_type": "code",
   "execution_count": 106,
   "id": "aa67800b",
   "metadata": {},
   "outputs": [
    {
     "data": {
      "text/plain": [
       "array(['D'], dtype='<U1')"
      ]
     },
     "execution_count": 106,
     "metadata": {},
     "output_type": "execute_result"
    }
   ],
   "source": [
    "encoder.inverse_transform([np.argmax(r)])"
   ]
  },
  {
   "cell_type": "code",
   "execution_count": 107,
   "id": "95bf2b81",
   "metadata": {},
   "outputs": [],
   "source": [
    "model.save('model.h5')"
   ]
  }
 ],
 "metadata": {
  "kernelspec": {
   "display_name": "tf-gpu-env",
   "language": "python",
   "name": "python3"
  },
  "language_info": {
   "codemirror_mode": {
    "name": "ipython",
    "version": 3
   },
   "file_extension": ".py",
   "mimetype": "text/x-python",
   "name": "python",
   "nbconvert_exporter": "python",
   "pygments_lexer": "ipython3",
   "version": "3.8.20"
  }
 },
 "nbformat": 4,
 "nbformat_minor": 5
}
