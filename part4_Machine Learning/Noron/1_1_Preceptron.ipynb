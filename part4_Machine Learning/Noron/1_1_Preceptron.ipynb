{
 "cells": [
  {
   "cell_type": "markdown",
   "id": "9fc7d643",
   "metadata": {},
   "source": [
    "![alt text](image.png)\n",
    "\n",
    "\n",
    "![alt text](image-1.png)"
   ]
  },
  {
   "cell_type": "code",
   "execution_count": 2,
   "id": "19f5a187",
   "metadata": {},
   "outputs": [],
   "source": [
    "import numpy as np"
   ]
  },
  {
   "cell_type": "code",
   "execution_count": 3,
   "id": "b19df281",
   "metadata": {},
   "outputs": [],
   "source": [
    "def step(x):\n",
    "    if x>=0:\n",
    "        return 1\n",
    "    return 0"
   ]
  },
  {
   "cell_type": "code",
   "execution_count": 4,
   "id": "5c4ba632",
   "metadata": {},
   "outputs": [],
   "source": [
    "# def perceptron(x,w):\n",
    "#     t = x*w\n",
    "#     t = sum(t)\n",
    "#     return step(t)\n",
    "\n",
    "def perceptron(x,w):\n",
    "    x_new = x.reshape(1,-1)\n",
    "    w_new = w.reshape(-1,1)\n",
    "    r = x_new.dot(w_new)\n",
    "    return step(r)"
   ]
  },
  {
   "cell_type": "markdown",
   "id": "77192048",
   "metadata": {},
   "source": [
    "![alt text](image-2.png)"
   ]
  },
  {
   "cell_type": "code",
   "execution_count": 5,
   "id": "83a0bcb7",
   "metadata": {},
   "outputs": [],
   "source": [
    "def p_not(x):\n",
    "    y = -1 * x + 0.5\n",
    "    return step(y)"
   ]
  },
  {
   "cell_type": "markdown",
   "id": "6d2f90c4",
   "metadata": {},
   "source": [
    "not"
   ]
  },
  {
   "cell_type": "code",
   "execution_count": 6,
   "id": "b82129cb",
   "metadata": {
    "editable": true,
    "slideshow": {
     "slide_type": ""
    },
    "tags": []
   },
   "outputs": [
    {
     "data": {
      "text/plain": [
       "1"
      ]
     },
     "execution_count": 6,
     "metadata": {},
     "output_type": "execute_result"
    }
   ],
   "source": [
    "x = np.array([1,0])\n",
    "w = np.array([0.5,-1])\n",
    "perceptron(x,w)"
   ]
  },
  {
   "cell_type": "markdown",
   "id": "b1232836",
   "metadata": {},
   "source": [
    "and"
   ]
  },
  {
   "cell_type": "code",
   "execution_count": 7,
   "id": "846771bb",
   "metadata": {},
   "outputs": [
    {
     "data": {
      "text/plain": [
       "1"
      ]
     },
     "execution_count": 7,
     "metadata": {},
     "output_type": "execute_result"
    }
   ],
   "source": [
    "x = np.array([1,1,1])\n",
    "w = np.array([-1.5,1,1])\n",
    "perceptron(x,w)"
   ]
  },
  {
   "cell_type": "markdown",
   "id": "8100b8af",
   "metadata": {},
   "source": [
    "![alt text](image-3.png)"
   ]
  },
  {
   "cell_type": "markdown",
   "id": "322dacca",
   "metadata": {},
   "source": [
    "![alt text](image-4.png)"
   ]
  },
  {
   "cell_type": "markdown",
   "id": "574d2039",
   "metadata": {},
   "source": [
    "\n",
    "- Tenserflow -> teano(C++) -> Google -> معماریش فیکس و استاتیک -> برای صنعت بهتره\n",
    "- Pytorch -> Torch -> Facebook -> معماریش داینامیک و میشه عوض کرد - برای کارای تحقیقاتی و اکادمیک\n",
    "- Dlib -> C++\n",
    "- Dynet -> C++\n",
    "- Caffe - > C++\n",
    "- mlpack -> C++"
   ]
  },
  {
   "cell_type": "code",
   "execution_count": null,
   "id": "9159873c",
   "metadata": {},
   "outputs": [],
   "source": [
    "# ! pip install tensorflow\n",
    "# ! pip install torch"
   ]
  },
  {
   "cell_type": "markdown",
   "id": "85766413-3d79-4ddd-bd2b-c5dd5745a873",
   "metadata": {},
   "source": [
    "- CPU -> 8\n",
    "  - xeon Gold -> 80\n",
    "- GPU -> بدرد هوشمصنویی و هک پسورد و ... میخوره\n",
    "  - Ti 1080 -> 3500\n",
    "  - CUDA\n",
    "- TPU"
   ]
  },
  {
   "cell_type": "code",
   "execution_count": 2,
   "id": "585d1d60-9b9e-4e4c-ba17-add0a958f3e3",
   "metadata": {},
   "outputs": [
    {
     "name": "stdout",
     "output_type": "stream",
     "text": [
      "Mon Jul 21 21:01:19 2025       \n",
      "+-----------------------------------------------------------------------------------------+\n",
      "| NVIDIA-SMI 576.88                 Driver Version: 576.88         CUDA Version: 12.9     |\n",
      "|-----------------------------------------+------------------------+----------------------+\n",
      "| GPU  Name                  Driver-Model | Bus-Id          Disp.A | Volatile Uncorr. ECC |\n",
      "| Fan  Temp   Perf          Pwr:Usage/Cap |           Memory-Usage | GPU-Util  Compute M. |\n",
      "|                                         |                        |               MIG M. |\n",
      "|=========================================+========================+======================|\n",
      "|   0  NVIDIA GeForce GTX 750 Ti    WDDM  |   00000000:01:00.0  On |                  N/A |\n",
      "| 35%   46C    P0              3W /   46W |     711MiB /   2048MiB |      6%      Default |\n",
      "|                                         |                        |                  N/A |\n",
      "+-----------------------------------------+------------------------+----------------------+\n",
      "                                                                                         \n",
      "+-----------------------------------------------------------------------------------------+\n",
      "| Processes:                                                                              |\n",
      "|  GPU   GI   CI              PID   Type   Process name                        GPU Memory |\n",
      "|        ID   ID                                                               Usage      |\n",
      "|=========================================================================================|\n",
      "|    0   N/A  N/A            5024    C+G   ...ms\\Microsoft VS Code\\Code.exe      N/A      |\n",
      "|    0   N/A  N/A            7012    C+G   C:\\Windows\\explorer.exe               N/A      |\n",
      "|    0   N/A  N/A            7652    C+G   ...h_cw5n1h2txyewy\\SearchApp.exe      N/A      |\n",
      "|    0   N/A  N/A            8636    C+G   ...am Files\\VideoLAN\\VLC\\vlc.exe      N/A      |\n",
      "|    0   N/A  N/A            9388    C+G   ...5n1h2txyewy\\TextInputHost.exe      N/A      |\n",
      "|    0   N/A  N/A            9412    C+G   ...Chrome\\Application\\chrome.exe      N/A      |\n",
      "|    0   N/A  N/A            9796    C+G   ...Chrome\\Application\\chrome.exe      N/A      |\n",
      "|    0   N/A  N/A           11376    C+G   ...h_cw5n1h2txyewy\\SearchApp.exe      N/A      |\n",
      "|    0   N/A  N/A           11772    C+G   ....0.3351.95\\msedgewebview2.exe      N/A      |\n",
      "+-----------------------------------------------------------------------------------------+\n"
     ]
    }
   ],
   "source": [
    "!nvidia-smi"
   ]
  },
  {
   "cell_type": "code",
   "execution_count": 1,
   "id": "4e9c6820-7cd0-492a-9882-a1166d446066",
   "metadata": {},
   "outputs": [],
   "source": [
    "import tensorflow as tf"
   ]
  },
  {
   "cell_type": "code",
   "execution_count": 5,
   "id": "39ff970d-571e-4ead-a0dd-c22e7b83a30b",
   "metadata": {},
   "outputs": [
    {
     "data": {
      "text/plain": [
       "<module 'tensorflow._api.v2.version' from 'C:\\\\Users\\\\Taha\\\\AppData\\\\Roaming\\\\Python\\\\Python312\\\\site-packages\\\\tensorflow\\\\_api\\\\v2\\\\version\\\\__init__.py'>"
      ]
     },
     "execution_count": 5,
     "metadata": {},
     "output_type": "execute_result"
    }
   ],
   "source": [
    "tf.version"
   ]
  },
  {
   "cell_type": "markdown",
   "id": "05f1c3aa",
   "metadata": {},
   "source": [
    "## تابع تحریک"
   ]
  },
  {
   "cell_type": "markdown",
   "id": "98d1cea3-8492-4a2d-9ab2-23f90e4c7091",
   "metadata": {},
   "source": [
    "جای step function\n",
    "\n",
    "![alt text](image-5.png)\n",
    "\n",
    "- میشه ازش احتمال رو به دست اورد\n",
    "- 0.1 بین"
   ]
  },
  {
   "cell_type": "markdown",
   "id": "f38ac5c2",
   "metadata": {},
   "source": [
    "![alt text](image-7.png)\n",
    "\n",
    "- -1.1 بین\n",
    "- سرعت بالاتری داره"
   ]
  },
  {
   "cell_type": "markdown",
   "id": "aaf4a769",
   "metadata": {},
   "source": [
    "![alt text](image-6.png)\n",
    "\n",
    "- پراستفاده\n",
    "- برای رگرسیون یا لایه میانی کاربرد داره"
   ]
  },
  {
   "cell_type": "markdown",
   "id": "856ffb89",
   "metadata": {},
   "source": [
    "![alt text](image-8.png)"
   ]
  },
  {
   "cell_type": "markdown",
   "id": "bd2982d3",
   "metadata": {},
   "source": [
    "### Softmax\n",
    "\n",
    "- یک ولیو پیوسته رو به یک تعداد ثابت از اعداد گسسته مپ کنه\n",
    "- تابع توضیع احتمال\n",
    "- برای مالتی کلس کلسیفر استفاده میشه\n",
    "\n",
    "![alt text](image-9.png)"
   ]
  },
  {
   "cell_type": "markdown",
   "id": "c54e9c24",
   "metadata": {},
   "source": [
    "- باینری بودیم سیگموید \n",
    "- مالتی کلاس بودیم سافت مکس"
   ]
  },
  {
   "cell_type": "markdown",
   "id": "0e184c19",
   "metadata": {},
   "source": []
  }
 ],
 "metadata": {
  "kernelspec": {
   "display_name": "Python 3 (ipykernel)",
   "language": "python",
   "name": "python3"
  },
  "language_info": {
   "codemirror_mode": {
    "name": "ipython",
    "version": 3
   },
   "file_extension": ".py",
   "mimetype": "text/x-python",
   "name": "python",
   "nbconvert_exporter": "python",
   "pygments_lexer": "ipython3",
   "version": "3.12.7"
  }
 },
 "nbformat": 4,
 "nbformat_minor": 5
}
