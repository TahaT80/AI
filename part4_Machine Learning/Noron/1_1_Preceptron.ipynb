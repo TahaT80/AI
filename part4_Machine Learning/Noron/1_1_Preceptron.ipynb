{
 "cells": [
  {
   "cell_type": "markdown",
   "id": "9fc7d643",
   "metadata": {},
   "source": [
    "![alt text](image.png)\n",
    "\n",
    "\n",
    "![alt text](image-1.png)"
   ]
  },
  {
   "cell_type": "code",
   "execution_count": 5,
   "id": "19f5a187",
   "metadata": {},
   "outputs": [],
   "source": [
    "import numpy as np"
   ]
  },
  {
   "cell_type": "code",
   "execution_count": 7,
   "id": "b19df281",
   "metadata": {},
   "outputs": [],
   "source": [
    "def step(x):\n",
    "    if x>=0:\n",
    "        return 1\n",
    "    return 0"
   ]
  },
  {
   "cell_type": "code",
   "execution_count": 8,
   "id": "5c4ba632",
   "metadata": {},
   "outputs": [],
   "source": [
    "# def perceptron(x,w):\n",
    "#     t = x*w\n",
    "#     t = sum(t)\n",
    "#     return step(t)\n",
    "\n",
    "def perceptron(x,w):\n",
    "    x_new = x.reshape(1,-1)\n",
    "    w_new = w.reshape(-1,1)\n",
    "    r = x_new.dot(w_new)\n",
    "    return step(r)"
   ]
  },
  {
   "cell_type": "markdown",
   "id": "77192048",
   "metadata": {},
   "source": [
    "![alt text](image-2.png)"
   ]
  },
  {
   "cell_type": "code",
   "execution_count": 9,
   "id": "83a0bcb7",
   "metadata": {},
   "outputs": [],
   "source": [
    "def p_not(x):\n",
    "    y = -1 * x + 0.5\n",
    "    return step(y)"
   ]
  },
  {
   "cell_type": "markdown",
   "id": "6d2f90c4",
   "metadata": {},
   "source": [
    "not"
   ]
  },
  {
   "cell_type": "code",
   "execution_count": 12,
   "id": "b82129cb",
   "metadata": {},
   "outputs": [
    {
     "data": {
      "text/plain": [
       "1"
      ]
     },
     "execution_count": 12,
     "metadata": {},
     "output_type": "execute_result"
    }
   ],
   "source": [
    "x = np.array([1,0])\n",
    "w = np.array([0.5,-1])\n",
    "perceptron(x,w)"
   ]
  },
  {
   "cell_type": "markdown",
   "id": "b1232836",
   "metadata": {},
   "source": [
    "and"
   ]
  },
  {
   "cell_type": "code",
   "execution_count": 15,
   "id": "846771bb",
   "metadata": {},
   "outputs": [
    {
     "data": {
      "text/plain": [
       "1"
      ]
     },
     "execution_count": 15,
     "metadata": {},
     "output_type": "execute_result"
    }
   ],
   "source": [
    "x = np.array([1,1,1])\n",
    "w = np.array([-1.5,1,1])\n",
    "perceptron(x,w)"
   ]
  },
  {
   "cell_type": "markdown",
   "id": "8100b8af",
   "metadata": {},
   "source": [
    "![alt text](image-3.png)"
   ]
  },
  {
   "cell_type": "markdown",
   "id": "322dacca",
   "metadata": {},
   "source": [
    "![alt text](image-4.png)"
   ]
  }
 ],
 "metadata": {
  "kernelspec": {
   "display_name": "Learning_venv",
   "language": "python",
   "name": "python3"
  },
  "language_info": {
   "codemirror_mode": {
    "name": "ipython",
    "version": 3
   },
   "file_extension": ".py",
   "mimetype": "text/x-python",
   "name": "python",
   "nbconvert_exporter": "python",
   "pygments_lexer": "ipython3",
   "version": "3.13.3"
  }
 },
 "nbformat": 4,
 "nbformat_minor": 5
}
