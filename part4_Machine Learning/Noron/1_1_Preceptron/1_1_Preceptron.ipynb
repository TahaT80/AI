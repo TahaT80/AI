{
 "cells": [
  {
   "cell_type": "code",
   "execution_count": 1,
   "id": "8921c3a9",
   "metadata": {},
   "outputs": [
    {
     "name": "stdout",
     "output_type": "stream",
     "text": [
      "TensorFlow: 2.10.0\n",
      "Built with CUDA: True\n",
      "GPUs: [PhysicalDevice(name='/physical_device:GPU:0', device_type='GPU')]\n"
     ]
    }
   ],
   "source": [
    "import tensorflow as tf\n",
    "print(\"TensorFlow:\", tf.__version__)\n",
    "print(\"Built with CUDA:\", tf.test.is_built_with_cuda())\n",
    "print(\"GPUs:\", tf.config.list_physical_devices('GPU'))\n"
   ]
  },
  {
   "cell_type": "markdown",
   "id": "9fc7d643",
   "metadata": {},
   "source": [
    "![alt text](image.png)\n",
    "\n",
    "\n",
    "![alt text](image-1.png)"
   ]
  },
  {
   "cell_type": "markdown",
   "id": "d98bc99a",
   "metadata": {},
   "source": [
    "- فرق پرسپترون با دیپ اینه که پرسپترون فقط خطی حساب میکنه ولی اون یکی غیر خطی\n"
   ]
  },
  {
   "cell_type": "code",
   "execution_count": null,
   "id": "19f5a187",
   "metadata": {},
   "outputs": [],
   "source": [
    "import numpy as np"
   ]
  },
  {
   "cell_type": "code",
   "execution_count": null,
   "id": "b19df281",
   "metadata": {},
   "outputs": [],
   "source": [
    "def step(x):\n",
    "    if x>=0:\n",
    "        return 1\n",
    "    return 0"
   ]
  },
  {
   "cell_type": "code",
   "execution_count": null,
   "id": "5c4ba632",
   "metadata": {},
   "outputs": [],
   "source": [
    "# def perceptron(x,w):\n",
    "#     t = x*w\n",
    "#     t = sum(t)\n",
    "#     return step(t)\n",
    "\n",
    "def perceptron(x,w):\n",
    "    x_new = x.reshape(1,-1)\n",
    "    w_new = w.reshape(-1,1)\n",
    "    r = x_new.dot(w_new)\n",
    "    return step(r)"
   ]
  },
  {
   "cell_type": "markdown",
   "id": "77192048",
   "metadata": {},
   "source": [
    "![alt text](image-2.png)"
   ]
  },
  {
   "cell_type": "code",
   "execution_count": null,
   "id": "83a0bcb7",
   "metadata": {},
   "outputs": [],
   "source": [
    "def p_not(x):\n",
    "    y = -1 * x + 0.5\n",
    "    return step(y)"
   ]
  },
  {
   "cell_type": "markdown",
   "id": "6d2f90c4",
   "metadata": {},
   "source": [
    "not"
   ]
  },
  {
   "cell_type": "code",
   "execution_count": null,
   "id": "b82129cb",
   "metadata": {
    "editable": true,
    "slideshow": {
     "slide_type": ""
    },
    "tags": []
   },
   "outputs": [],
   "source": [
    "x = np.array([1,0])\n",
    "w = np.array([0.5,-1])\n",
    "perceptron(x,w)"
   ]
  },
  {
   "cell_type": "markdown",
   "id": "b1232836",
   "metadata": {},
   "source": [
    "and"
   ]
  },
  {
   "cell_type": "code",
   "execution_count": null,
   "id": "846771bb",
   "metadata": {},
   "outputs": [],
   "source": [
    "x = np.array([1,1,1])\n",
    "w = np.array([-1.5,1,1])\n",
    "perceptron(x,w)"
   ]
  },
  {
   "cell_type": "markdown",
   "id": "8100b8af",
   "metadata": {},
   "source": [
    "![alt text](image-3.png)"
   ]
  },
  {
   "cell_type": "markdown",
   "id": "322dacca",
   "metadata": {},
   "source": [
    "![alt text](image-4.png)"
   ]
  },
  {
   "cell_type": "markdown",
   "id": "574d2039",
   "metadata": {},
   "source": [
    "\n",
    "- Tenserflow -> teano(C++) -> Google -> معماریش فیکس و استاتیک -> برای صنعت بهتره\n",
    "- Pytorch -> Torch -> Facebook -> معماریش داینامیک و میشه عوض کرد - برای کارای تحقیقاتی و اکادمیک\n",
    "- Dlib -> C++\n",
    "- Dynet -> C++\n",
    "- Caffe - > C++\n",
    "- mlpack -> C++"
   ]
  },
  {
   "cell_type": "code",
   "execution_count": null,
   "id": "9159873c",
   "metadata": {},
   "outputs": [],
   "source": [
    "# ! pip install tensorflow\n",
    "# ! pip install torch\n",
    "# ! C:\\ProgramData\\anaconda3\\python.exe -m pip install --upgrade pip"
   ]
  },
  {
   "cell_type": "markdown",
   "id": "85766413-3d79-4ddd-bd2b-c5dd5745a873",
   "metadata": {},
   "source": [
    "- CPU -> 8\n",
    "  - xeon Gold -> 80\n",
    "- GPU -> بدرد هوشمصنویی و هک پسورد و ... میخوره\n",
    "  - Ti 1080 -> 3500\n",
    "  - CUDA\n",
    "- TPU"
   ]
  },
  {
   "cell_type": "code",
   "execution_count": null,
   "id": "585d1d60-9b9e-4e4c-ba17-add0a958f3e3",
   "metadata": {},
   "outputs": [],
   "source": [
    "!nvidia-smi"
   ]
  },
  {
   "cell_type": "code",
   "execution_count": null,
   "id": "4e9c6820-7cd0-492a-9882-a1166d446066",
   "metadata": {},
   "outputs": [],
   "source": [
    "import tensorflow as tf"
   ]
  },
  {
   "cell_type": "code",
   "execution_count": null,
   "id": "39ff970d-571e-4ead-a0dd-c22e7b83a30b",
   "metadata": {},
   "outputs": [],
   "source": [
    "tf.version"
   ]
  },
  {
   "cell_type": "markdown",
   "id": "05f1c3aa",
   "metadata": {},
   "source": [
    "## تابع تحریک"
   ]
  },
  {
   "cell_type": "markdown",
   "id": "98d1cea3-8492-4a2d-9ab2-23f90e4c7091",
   "metadata": {},
   "source": [
    "جای step function\n",
    "\n",
    "![alt text](image-5.png)\n",
    "\n",
    "- میشه ازش احتمال رو به دست اورد\n",
    "- 0.1 بین"
   ]
  },
  {
   "cell_type": "markdown",
   "id": "f38ac5c2",
   "metadata": {},
   "source": [
    "![alt text](image-7.png)\n",
    "\n",
    "- -1.1 بین\n",
    "- سرعت بالاتری داره"
   ]
  },
  {
   "cell_type": "markdown",
   "id": "aaf4a769",
   "metadata": {},
   "source": [
    "![alt text](image-6.png)\n",
    "\n",
    "- پراستفاده\n",
    "- برای رگرسیون یا لایه میانی کاربرد داره"
   ]
  },
  {
   "cell_type": "markdown",
   "id": "856ffb89",
   "metadata": {},
   "source": [
    "![alt text](image-8.png)"
   ]
  },
  {
   "cell_type": "markdown",
   "id": "bd2982d3",
   "metadata": {},
   "source": [
    "### Softmax\n",
    "\n",
    "- یک ولیو پیوسته رو به یک تعداد ثابت از اعداد گسسته مپ کنه\n",
    "- تابع توضیع احتمال\n",
    "- برای مالتی کلس کلسیفر استفاده میشه\n",
    "\n",
    "![alt text](image-9.png)"
   ]
  },
  {
   "cell_type": "markdown",
   "id": "c54e9c24",
   "metadata": {},
   "source": [
    "- باینری بودیم سیگموید \n",
    "- مالتی کلاس بودیم سافت مکس"
   ]
  },
  {
   "cell_type": "code",
   "execution_count": null,
   "id": "0e184c19",
   "metadata": {},
   "outputs": [],
   "source": [
    "from keras.models import Sequential # ساده فید فوروارد هر لایه میره تو لایه بعدی بعدش\n",
    "# from keras.models import Functional # برای مدل های پیچیده که فیدبک داشته باشه\n",
    "# from keras.models import Model # اگه بخایم یه شبکه عصبی کاملا فاکشنال درست کنیم "
   ]
  },
  {
   "cell_type": "markdown",
   "id": "7d14f098",
   "metadata": {},
   "source": [
    "- شبکه عصبی یک لایه 99.99 درصد رو پیدا میکنه\n"
   ]
  },
  {
   "cell_type": "code",
   "execution_count": null,
   "id": "c139cf9f",
   "metadata": {},
   "outputs": [],
   "source": [
    "from keras.layers import Dense # ساده ترین که همون پرسپترون هست\n",
    "from keras.layers import Input # ورودی شبکه عصبی"
   ]
  },
  {
   "cell_type": "code",
   "execution_count": null,
   "id": "216a8189",
   "metadata": {},
   "outputs": [],
   "source": [
    "# from keras.datasets import mnist # همون دیجیت ولی بزرگ تر"
   ]
  },
  {
   "cell_type": "code",
   "execution_count": null,
   "id": "848da3ef",
   "metadata": {},
   "outputs": [],
   "source": [
    "import numpy as np\n",
    "import pandas as pd\n",
    "\n",
    "import pickle  # از رم تو هارد ذخیره میکنه"
   ]
  },
  {
   "cell_type": "code",
   "execution_count": null,
   "id": "1b55fdad",
   "metadata": {},
   "outputs": [],
   "source": [
    "df = pd.read_csv('./iris.csv')\n",
    "df"
   ]
  },
  {
   "cell_type": "code",
   "execution_count": null,
   "id": "3f9c97a4",
   "metadata": {},
   "outputs": [],
   "source": [
    "x = df.drop(['Species','Id'], axis=1).values\n",
    "y = df['Species'].values"
   ]
  },
  {
   "cell_type": "code",
   "execution_count": null,
   "id": "eedea81f",
   "metadata": {},
   "outputs": [],
   "source": [
    "from keras.utils import to_categorical\n",
    "from sklearn.preprocessing import LabelEncoder"
   ]
  },
  {
   "cell_type": "code",
   "execution_count": null,
   "id": "2f653872",
   "metadata": {},
   "outputs": [],
   "source": [
    "encoder = LabelEncoder()\n",
    "y_labeled = encoder.fit_transform(y)\n",
    "y_labeled"
   ]
  },
  {
   "cell_type": "code",
   "execution_count": null,
   "id": "7132c97c",
   "metadata": {},
   "outputs": [],
   "source": [
    "with open('encoder.bin', 'wb') as f:\n",
    "    pickle.dump(encoder, f)"
   ]
  },
  {
   "cell_type": "code",
   "execution_count": null,
   "id": "81392e4d",
   "metadata": {},
   "outputs": [],
   "source": [
    "encoder.classes_"
   ]
  },
  {
   "cell_type": "code",
   "execution_count": null,
   "id": "0a0f64b0",
   "metadata": {},
   "outputs": [],
   "source": [
    "y_one_hot = to_categorical(y_labeled)\n",
    "y_one_hot"
   ]
  },
  {
   "cell_type": "markdown",
   "id": "592d0716",
   "metadata": {},
   "source": [
    "- Input =>توی ورودی به تعداد فیچر ها\n",
    "- Dense => تو لایه اخر به تعداد کلاس ها\n",
    "- لایه وسط بشه میانگین ورودی و خروجی\n",
    "\n",
    "- اگه وسط خیلی زیاد شد میشه به توان 2 رند کرد که دلیل خاصی نداره مثلا اگه شد 17 ما 16 تا بزاریم"
   ]
  },
  {
   "cell_type": "markdown",
   "id": "950b8f8c",
   "metadata": {},
   "source": [
    "### Output : \n",
    "- Regression : Relu , Linear\n",
    "- Binary Classification : Sigmoid\n",
    "- MultiClass : Softmax\n",
    "\n",
    "### Other :\n",
    "- Relu , tanh\n",
    "\n",
    "\n"
   ]
  },
  {
   "cell_type": "code",
   "execution_count": null,
   "id": "a3acea75",
   "metadata": {},
   "outputs": [],
   "source": [
    "model = Sequential() #-> یعنی مودل فیت فوروارده\n",
    "\n",
    "model.add(Input(shape=(4,)))  # ورودی 4 تا نود داره\n",
    "\n",
    "\n",
    "# لایه اول\n",
    "model.add(Dense(4, activation='relu'))  # تعداد فیچر های ورودی \n",
    "\n",
    "# لایه هیدن\n",
    "model.add(Dense(3, activation='relu')) # لایه اول 2 تا نود داره و اکتیویشن رلو => 4+3/2\n",
    "\n",
    "# لایه اخر\n",
    "model.add(Dense(3, activation='softmax'))  # لایه آخر 3 تا نود داره و اکتیویشن سافت مکس برای کلاسیفیکیشن\n",
    "model.summary()\n",
    "\n",
    "\n",
    "# 47*4  چون فلوته و هر فلوت 4 بایت جا میگیره"
   ]
  },
  {
   "cell_type": "markdown",
   "id": "c5b5267a",
   "metadata": {},
   "source": [
    "### optimizer  \n",
    "- adam -> جدید تره -> برای کلسیفیکیشن\n",
    "- RMSprop -> برای رگریسون\n",
    "- SGD -> دقت پاییت ولی سرعت بالا\n",
    "\n",
    "### loss\n",
    "- تابع هزینه که میگه از جواب چقدر فاصله داریم\n",
    "\n",
    "- Regression : MSE\n",
    "- Binary Classification : binary_crossentropy\n",
    "- MultiClass : categorical_crossentropy\n",
    "\n",
    "### metrics\n",
    "- رگرسون بود نمیخاد بدیم \n",
    "- accuracy=>  کلسیفیکیشن بودیم میشه همون F1 score"
   ]
  },
  {
   "cell_type": "code",
   "execution_count": null,
   "id": "d527f936",
   "metadata": {},
   "outputs": [],
   "source": [
    "model.compile('adam', loss='categorical_crossentropy', metrics=['accuracy'])"
   ]
  },
  {
   "cell_type": "markdown",
   "id": "f257c9b4",
   "metadata": {},
   "source": [
    "### epochs\n",
    "- یه بار وزن هارو رندوم میده و از دیتای اول شروع میکنه تا اخر و با هر دیتا وزن هارو اپدیت میکنه که این کار رو میگن یک دونه اپوک\n",
    "- دیتا های پایین تر تاثیر بیشتری میزارن و باید تعداد بالاتری بگیریم \n",
    "- هرچی تعداد اپوک بیشتر بشه فرایند اموزش بیشتر انجام میشه و به جواب نزدیک تر میشیم\n",
    "- اگه رکورد ها زیاده یعنی به ازای هر کلاس بین 1000 تا 8000 که اپوک 10 تا 25 باشه اوکیه\n",
    "- اگه دیتا کم باشه باید اپوک هارو زیاد کنیم مثلا 300 تا\n",
    "\n",
    "### EarlyStopping = 500 \n",
    "- میاد جایی که خوب باشه استاپ میکنه\n",
    "\n",
    "### batch_size\n",
    "- اگه بزاریم 100 میاد 100 تا 100 تا اپدیت میکنه که باعت افزایش سرعت میشه\n",
    "- هرچی بزرگ تر باشه جلوگیری میکنه از اور فیت شذن و باعت تاثیر داده پرت کم میشه\n",
    "\n",
    "### validation_split = 0.2\n",
    "- میاد 20 درصد از دیتارو میزاره کنار تست میکنه \n",
    "\n",
    "### validation_data \n",
    "- اگه خودت دیتای تست گداشته بودی کنار از این استفاده میشه"
   ]
  },
  {
   "cell_type": "code",
   "execution_count": null,
   "id": "8052fd05",
   "metadata": {},
   "outputs": [],
   "source": [
    "res = model.fit(x, y_one_hot, epochs=300,validation_split=0.2 )\n",
    "res"
   ]
  },
  {
   "cell_type": "code",
   "execution_count": null,
   "id": "ed6290a9",
   "metadata": {},
   "outputs": [],
   "source": [
    "model.predict(np.array([[1,2,3,4]]))"
   ]
  },
  {
   "cell_type": "code",
   "execution_count": null,
   "id": "a0787cbf",
   "metadata": {},
   "outputs": [],
   "source": [
    "type(res) # هیستوری اکیورسی و لاس "
   ]
  },
  {
   "cell_type": "code",
   "execution_count": null,
   "id": "29188224",
   "metadata": {},
   "outputs": [],
   "source": [
    "import matplotlib.pyplot as plt"
   ]
  },
  {
   "cell_type": "code",
   "execution_count": null,
   "id": "67aa8eb3",
   "metadata": {},
   "outputs": [],
   "source": [
    "plt.figure(figsize=(15, 5))\n",
    "\n",
    "plt.subplot(1, 2, 1)\n",
    "plt.plot(res.history['accuracy'])\n",
    "plt.plot(res.history['val_accuracy'])\n",
    "plt.legend(['train', 'test'])\n",
    "\n",
    "plt.subplot(1, 2, 2)\n",
    "plt.plot(res.history['loss'])\n",
    "plt.plot(res.history['val_loss'])\n",
    "plt.legend(['train', 'test'])\n"
   ]
  },
  {
   "cell_type": "code",
   "execution_count": null,
   "id": "6ca38034",
   "metadata": {},
   "outputs": [],
   "source": [
    "model.save('model.keras')  # ذخیره مدل"
   ]
  }
 ],
 "metadata": {
  "kernelspec": {
   "display_name": "tf-gpu-env",
   "language": "python",
   "name": "python3"
  },
  "language_info": {
   "codemirror_mode": {
    "name": "ipython",
    "version": 3
   },
   "file_extension": ".py",
   "mimetype": "text/x-python",
   "name": "python",
   "nbconvert_exporter": "python",
   "pygments_lexer": "ipython3",
   "version": "3.8.20"
  }
 },
 "nbformat": 4,
 "nbformat_minor": 5
}
