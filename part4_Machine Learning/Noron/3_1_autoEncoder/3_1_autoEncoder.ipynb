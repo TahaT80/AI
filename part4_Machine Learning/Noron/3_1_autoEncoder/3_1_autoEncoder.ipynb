{
 "cells": [
  {
   "cell_type": "markdown",
   "id": "ac697fea",
   "metadata": {},
   "source": [
    "![alt text](image.png)"
   ]
  },
  {
   "cell_type": "markdown",
   "id": "24fc5468",
   "metadata": {},
   "source": []
  }
 ],
 "metadata": {
  "language_info": {
   "name": "python"
  }
 },
 "nbformat": 4,
 "nbformat_minor": 5
}
