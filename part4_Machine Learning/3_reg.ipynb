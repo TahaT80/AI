{
 "cells": [
  {
   "cell_type": "markdown",
   "id": "2d4d01fa",
   "metadata": {},
   "source": [
    "# Cost functions\n",
    "\n",
    "![alt text](image.png)\n"
   ]
  },
  {
   "cell_type": "code",
   "execution_count": null,
   "id": "8f495f92",
   "metadata": {},
   "outputs": [],
   "source": [
    "from sklearn.linear_model import  LinearRegression\n",
    "from sklearn.linear_model import  Lasso #L1\n",
    "from sklearn.linear_model import  Ridge #L2"
   ]
  },
  {
   "cell_type": "code",
   "execution_count": null,
   "id": "4e76d823",
   "metadata": {},
   "outputs": [],
   "source": []
  }
 ],
 "metadata": {
  "language_info": {
   "name": "python"
  }
 },
 "nbformat": 4,
 "nbformat_minor": 5
}
