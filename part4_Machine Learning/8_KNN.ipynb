{
 "cells": [
  {
   "cell_type": "markdown",
   "id": "1eae4db9",
   "metadata": {},
   "source": [
    "# KNN\n",
    "\n",
    "![alt text](image-3.png)\n",
    "\n",
    "- برای کلاس بندی\n",
    "- باید تمیز باشه دیتا\n",
    "- باید نورمال شده باشه دیتا\n",
    "- باید بر اساس فاصله درست طبقه بندی بشه\n",
    "\n",
    "\n",
    "### باید تمام دیتا ست رو داشته باشه که حجم رو زیاد میکنه \n",
    "### ولی رگرسیون یه فرمول ساده رو ذخیره میکرد \n",
    "### زمان زیادی میبره\n",
    "\n",
    "### برای اصلاح دیتا ست هایی که میسینگ ولیو دارن\n",
    "## کاربرد اصلی اون درون یابی"
   ]
  },
  {
   "cell_type": "code",
   "execution_count": 69,
   "id": "20b94c81",
   "metadata": {},
   "outputs": [],
   "source": [
    "%matplotlib inline\n",
    "import numpy as np\n",
    "import pandas as pd\n",
    "import matplotlib.pyplot as plt\n",
    "import seaborn as sns\n",
    "from sklearn.neighbors import KNeighborsClassifier\n",
    "from sklearn.model_selection import train_test_split\n",
    "from sklearn.preprocessing import PolynomialFeatures\n",
    "from sklearn.datasets import load_iris\n",
    "\n",
    "from sklearn.model_selection import cross_val_score ,cross_val_predict"
   ]
  },
  {
   "cell_type": "code",
   "execution_count": 55,
   "id": "b070bf34",
   "metadata": {},
   "outputs": [
    {
     "data": {
      "text/plain": [
       "(150, 4)"
      ]
     },
     "execution_count": 55,
     "metadata": {},
     "output_type": "execute_result"
    }
   ],
   "source": [
    "\n",
    "x,y = load_iris(return_X_y=True)\n",
    "x.shape"
   ]
  },
  {
   "cell_type": "markdown",
   "id": "e6856baa",
   "metadata": {},
   "source": [
    "- weights: \"uniform\" وزن هر فیچر و یونیفورم یعنی هر فیچر وزنش یک باشه و به فاصله کاری نداره\n",
    "- distance -> میاد متناسب با فاصله وزن میده و دور تر ها وزن کمتری داره - مثلا تراکم کم باشه \n",
    "- p: Int = 2, -> درجه نورم 2 کترین فاصله و یک به صورت مربعی حل میکنه\n",
    "- metric:  \"minkowski\", -> اقلیدوسی یعنی کمترین فاصله رو میگیره\n"
   ]
  },
  {
   "cell_type": "code",
   "execution_count": 58,
   "id": "d57309a0",
   "metadata": {},
   "outputs": [
    {
     "data": {
      "text/plain": [
       "(120, 4)"
      ]
     },
     "execution_count": 58,
     "metadata": {},
     "output_type": "execute_result"
    }
   ],
   "source": [
    "X_train, X_test, y_train, y_test = train_test_split(x,y,test_size=0.2)\n",
    "X_train.shape"
   ]
  },
  {
   "cell_type": "code",
   "execution_count": 51,
   "id": "9fcc7ddc",
   "metadata": {},
   "outputs": [],
   "source": [
    "model = KNeighborsClassifier()\n",
    "# model.fit(X_train,y_train)"
   ]
  },
  {
   "cell_type": "code",
   "execution_count": 68,
   "id": "561dd174",
   "metadata": {},
   "outputs": [
    {
     "data": {
      "text/plain": [
       "array([0.875     , 0.91666667, 1.        , 0.95833333, 1.        ])"
      ]
     },
     "execution_count": 68,
     "metadata": {},
     "output_type": "execute_result"
    }
   ],
   "source": [
    "cross_val_score(model,X_train,y_train,cv=5)  # k-fold 5 "
   ]
  },
  {
   "cell_type": "code",
   "execution_count": 72,
   "id": "c440a080",
   "metadata": {},
   "outputs": [
    {
     "data": {
      "text/plain": [
       "array([2, 0, 2, 0, 1, 1, 0, 2, 2, 2, 0, 1, 0, 2, 2, 1, 1, 0, 2, 2, 0, 0,\n",
       "       1, 1, 0, 2, 0, 1, 2, 0])"
      ]
     },
     "execution_count": 72,
     "metadata": {},
     "output_type": "execute_result"
    }
   ],
   "source": [
    "cross_val_predict(model,X_test,y_test,cv=5)  "
   ]
  },
  {
   "cell_type": "code",
   "execution_count": 53,
   "id": "151c4760",
   "metadata": {},
   "outputs": [],
   "source": [
    "# model.score(X_train,y_train)"
   ]
  },
  {
   "cell_type": "code",
   "execution_count": 54,
   "id": "2868acad",
   "metadata": {},
   "outputs": [],
   "source": [
    "# model.score(X_test,y_test)\n"
   ]
  },
  {
   "cell_type": "markdown",
   "id": "c9e99d7d",
   "metadata": {},
   "source": [
    "# K-Fold\n",
    "- برای پیدا کردن بهترین پارامتر ها\n",
    "- LooCV بع تعداد فیچر ها بیاییم بسته بندی کنیم\n",
    "\n",
    "\n",
    "![alt text](image-4.png)"
   ]
  }
 ],
 "metadata": {
  "kernelspec": {
   "display_name": "Learning_venv",
   "language": "python",
   "name": "python3"
  },
  "language_info": {
   "codemirror_mode": {
    "name": "ipython",
    "version": 3
   },
   "file_extension": ".py",
   "mimetype": "text/x-python",
   "name": "python",
   "nbconvert_exporter": "python",
   "pygments_lexer": "ipython3",
   "version": "3.13.3"
  }
 },
 "nbformat": 4,
 "nbformat_minor": 5
}
