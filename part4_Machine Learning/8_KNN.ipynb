{
 "cells": [
  {
   "cell_type": "markdown",
   "id": "1eae4db9",
   "metadata": {},
   "source": [
    "# KNN\n",
    "\n",
    "![alt text](image-3.png)\n",
    "\n",
    "- برای کلاس بندی\n",
    "- باید تمیز باشه دیتا\n",
    "- باید نورمال شده باشه دیتا\n",
    "- باید بر اساس فاصله درست طبقه بندی بشه\n",
    "\n",
    "\n",
    "### باید تمام دیتا ست رو داشته باشه که حجم رو زیاد میکنه \n",
    "### ولی رگرسیون یه فرمول ساده رو ذخیره میکرد \n",
    "### زمان زیادی میبره\n",
    "\n",
    "### برای اصلاح دیتا ست هایی که میسینگ ولیو دارن\n",
    "## کاربرد اصلی اون درون یابی"
   ]
  },
  {
   "cell_type": "code",
   "execution_count": null,
   "id": "20b94c81",
   "metadata": {},
   "outputs": [],
   "source": [
    "%matplotlib inline\n",
    "import numpy as np\n",
    "import pandas as pd\n",
    "import matplotlib.pyplot as plt\n",
    "import seaborn as sns\n",
    "from sklearn.neighbors import KNeighborsClassifier\n",
    "from sklearn.model_selection import train_test_split\n",
    "from sklearn.preprocessing import PolynomialFeatures"
   ]
  }
 ],
 "metadata": {
  "kernelspec": {
   "display_name": "Learning_venv",
   "language": "python",
   "name": "python3"
  },
  "language_info": {
   "codemirror_mode": {
    "name": "ipython",
    "version": 3
   },
   "file_extension": ".py",
   "mimetype": "text/x-python",
   "name": "python",
   "nbconvert_exporter": "python",
   "pygments_lexer": "ipython3",
   "version": "3.13.3"
  }
 },
 "nbformat": 4,
 "nbformat_minor": 5
}
