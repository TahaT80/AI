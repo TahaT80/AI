{
 "cells": [
  {
   "cell_type": "markdown",
   "id": "8793561a",
   "metadata": {},
   "source": [
    "Supervised -> Feature , target\n",
    "\n",
    "    Regression -> عدد پیوسته\n",
    "\n",
    "    Classification -> دسته بندی - اعداد گسسته\n",
    "        Segmentation -> land Segmentation\n",
    "        Object Detection -> yolo\n",
    "        Sentimental Analysis\n",
    "            Binary Classification -> (0,1 - Y,N - cat,dog)\n",
    "            Multiclass Classification -> (Kmeans , autoencoder)\n",
    "                iris -=> setosa , versicolor , virginica\n",
    "                            0          1            2\n",
    "                            0-1       0-1           0-1\n",
    "\n",
    "Unsupervised -> feature\n",
    "    Clustering\n",
    "    X --> T --> X\n",
    "\n",
    "### barchasb gozari ro matn\n",
    "https://github.com/Text-Mining/Persian-NER\n",
    "\n",
    "### TA for Technical Analysis Library in Python\n",
    "https://technical-analysis-library-in-python.readthedocs.io/en/latest/index.html\n",
    "\n",
    "### yfinance for Download market data\n",
    "https://pypi.org/project/yfinance/"
   ]
  },
  {
   "cell_type": "markdown",
   "id": "c596ba35",
   "metadata": {},
   "source": []
  }
 ],
 "metadata": {
  "kernelspec": {
   "display_name": "Learning_venv",
   "language": "python",
   "name": "python3"
  },
  "language_info": {
   "name": "python",
   "version": "3.13.3"
  }
 },
 "nbformat": 4,
 "nbformat_minor": 5
}
