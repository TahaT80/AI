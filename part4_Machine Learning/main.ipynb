{
 "cells": [
  {
   "cell_type": "markdown",
   "id": "c6cebbee",
   "metadata": {},
   "source": [
    "Supervised -> Feature , target\n",
    "\n",
    "    Regression -> عدد پیوسته\n",
    "\n",
    "    Classification -> دسته بندی - اعداد گسسته\n",
    "        Segmentation -> land Segmentation\n",
    "        Object Detection -> yolo\n",
    "        Sentimental Analysis\n",
    "\n",
    "Unsupervised -> feature\n",
    "    Clustering\n",
    "    X --> T --> X\n",
    "\n",
    "### barchasb gozari ro matn\n",
    "https://github.com/Text-Mining/Persian-NER\n",
    "\n",
    "### TA for Technical Analysis Library in Python\n",
    "https://technical-analysis-library-in-python.readthedocs.io/en/latest/index.html\n",
    "\n",
    "### yfinance for Download market data\n",
    "https://pypi.org/project/yfinance/"
   ]
  },
  {
   "cell_type": "code",
   "execution_count": 88,
   "id": "99f27171",
   "metadata": {},
   "outputs": [],
   "source": [
    "%matplotlib inline\n",
    "import numpy as np \n",
    "import pandas as pd \n",
    "import matplotlib.pyplot as plt"
   ]
  },
  {
   "cell_type": "markdown",
   "id": "0da7133b",
   "metadata": {},
   "source": [
    "# نمودار قد"
   ]
  },
  {
   "cell_type": "code",
   "execution_count": 89,
   "id": "18f1608b",
   "metadata": {},
   "outputs": [
    {
     "data": {
      "text/plain": [
       "array([139.48876692, 162.4803546 , 146.50733526, 170.22977909,\n",
       "       184.95735243, 161.39832032, 199.95736709, 156.80125962,\n",
       "       150.6408661 , 199.56827626, 153.52427867, 148.45197431,\n",
       "       165.56469225, 155.21789061, 139.89923278, 189.64352821,\n",
       "       167.13791207, 185.90644638, 207.42347437, 181.28583381,\n",
       "       162.77378503, 156.65121605, 174.27444746, 169.334993  ,\n",
       "       138.88619425, 153.32105245, 165.57183643, 187.815197  ,\n",
       "       168.24055826, 144.01595258, 153.01756128, 160.96877781,\n",
       "       184.28886253, 163.18831734, 163.14420383, 145.69510802,\n",
       "       145.5261473 , 168.6812085 , 144.79787639, 146.61910545,\n",
       "       193.57214211, 180.77580025, 177.87043176, 163.05818226,\n",
       "       181.01414971, 196.50254164, 166.93422963, 193.70178544,\n",
       "       163.95644108, 210.40987674])"
      ]
     },
     "execution_count": 89,
     "metadata": {},
     "output_type": "execute_result"
    }
   ],
   "source": [
    "heights = np.random.normal(170,20,(50))\n",
    "heights"
   ]
  },
  {
   "cell_type": "code",
   "execution_count": 90,
   "id": "a9c33c94",
   "metadata": {},
   "outputs": [
    {
     "data": {
      "text/plain": [
       "np.float64(167.8138584548572)"
      ]
     },
     "execution_count": 90,
     "metadata": {},
     "output_type": "execute_result"
    }
   ],
   "source": [
    "m = heights.mean()\n",
    "m"
   ]
  },
  {
   "cell_type": "code",
   "execution_count": 91,
   "id": "b7f7fa50",
   "metadata": {},
   "outputs": [
    {
     "data": {
      "text/plain": [
       "[<matplotlib.lines.Line2D at 0x1f394b34a50>]"
      ]
     },
     "execution_count": 91,
     "metadata": {},
     "output_type": "execute_result"
    },
    {
     "data": {
      "image/png": "[encoded data removed]",
      "text/plain": [
       "<Figure size 640x480 with 1 Axes>"
      ]
     },
     "metadata": {},
     "output_type": "display_data"
    }
   ],
   "source": [
    "plt.scatter(np.arange(50),heights,marker='.')\n",
    "plt.ylim(0,250)\n",
    "plt.plot([0,50],[m,m],'r')"
   ]
  },
  {
   "cell_type": "markdown",
   "id": "480f7abf",
   "metadata": {},
   "source": [
    "--------------- "
   ]
  },
  {
   "cell_type": "code",
   "execution_count": 92,
   "id": "f743c6b2",
   "metadata": {},
   "outputs": [],
   "source": [
    "heights = np.array([10,15,17,25,8,11,43,74,34,25])"
   ]
  },
  {
   "cell_type": "code",
   "execution_count": 93,
   "id": "a710d646",
   "metadata": {},
   "outputs": [
    {
     "data": {
      "text/plain": [
       "array([0, 1, 2, 3, 4, 5, 6, 7, 8, 9])"
      ]
     },
     "execution_count": 93,
     "metadata": {},
     "output_type": "execute_result"
    }
   ],
   "source": [
    "x = np.arange(0,heights.shape[0])\n",
    "x"
   ]
  },
  {
   "cell_type": "code",
   "execution_count": 94,
   "id": "a2af2649",
   "metadata": {},
   "outputs": [
    {
     "data": {
      "text/plain": [
       "np.float64(26.2)"
      ]
     },
     "execution_count": 94,
     "metadata": {},
     "output_type": "execute_result"
    }
   ],
   "source": [
    "m = heights.mean()\n",
    "m"
   ]
  },
  {
   "cell_type": "code",
   "execution_count": 95,
   "id": "36e68a07",
   "metadata": {},
   "outputs": [],
   "source": [
    "a = 6\n",
    "y = a*x + -5"
   ]
  },
  {
   "cell_type": "code",
   "execution_count": 96,
   "id": "2947d784",
   "metadata": {},
   "outputs": [
    {
     "data": {
      "text/plain": [
       "[<matplotlib.lines.Line2D at 0x1f395b99bd0>]"
      ]
     },
     "execution_count": 96,
     "metadata": {},
     "output_type": "execute_result"
    },
    {
     "data": {
      "image/png": "[encoded data removed]",
      "text/plain": [
       "<Figure size 640x480 with 1 Axes>"
      ]
     },
     "metadata": {},
     "output_type": "display_data"
    }
   ],
   "source": [
    "plt.scatter(x,heights,)\n",
    "plt.plot([0,heights.shape[0]],[m,m],'r')\n",
    "plt.plot(x,y,'m')"
   ]
  },
  {
   "cell_type": "markdown",
   "id": "5dd4abe5",
   "metadata": {},
   "source": [
    "# Cost function"
   ]
  },
  {
   "cell_type": "markdown",
   "id": "7db6ea74",
   "metadata": {},
   "source": [
    "### Sun of Absolute Error (SAE)"
   ]
  },
  {
   "cell_type": "code",
   "execution_count": 97,
   "id": "efe6dcc7",
   "metadata": {},
   "outputs": [
    {
     "data": {
      "text/plain": [
       "np.float64(144.8)"
      ]
     },
     "execution_count": 97,
     "metadata": {},
     "output_type": "execute_result"
    }
   ],
   "source": [
    "np.sum(np.abs(heights-m))"
   ]
  },
  {
   "cell_type": "code",
   "execution_count": 98,
   "id": "17bc5c2b",
   "metadata": {},
   "outputs": [
    {
     "data": {
      "text/plain": [
       "np.int64(158)"
      ]
     },
     "execution_count": 98,
     "metadata": {},
     "output_type": "execute_result"
    }
   ],
   "source": [
    "np.sum(np.abs(heights-y))"
   ]
  },
  {
   "cell_type": "markdown",
   "id": "a2e07215",
   "metadata": {},
   "source": [
    "### Sun of Square Error (SAE)"
   ]
  },
  {
   "cell_type": "code",
   "execution_count": 107,
   "id": "bd3efb0f",
   "metadata": {},
   "outputs": [
    {
     "data": {
      "text/plain": [
       "np.float64(3665.6)"
      ]
     },
     "execution_count": 107,
     "metadata": {},
     "output_type": "execute_result"
    }
   ],
   "source": [
    "np.sum((heights-m)**2)"
   ]
  },
  {
   "cell_type": "code",
   "execution_count": 108,
   "id": "634ac5eb",
   "metadata": {},
   "outputs": [
    {
     "data": {
      "text/plain": [
       "np.int64(3152)"
      ]
     },
     "execution_count": 108,
     "metadata": {},
     "output_type": "execute_result"
    }
   ],
   "source": [
    "np.sum((heights-y)**2)"
   ]
  },
  {
   "cell_type": "code",
   "execution_count": 104,
   "id": "136ecc42",
   "metadata": {},
   "outputs": [
    {
     "data": {
      "text/plain": [
       "array([[10, -5],\n",
       "       [15,  1],\n",
       "       [17,  7],\n",
       "       [25, 13],\n",
       "       [ 8, 19],\n",
       "       [11, 25],\n",
       "       [43, 31],\n",
       "       [74, 37],\n",
       "       [34, 43],\n",
       "       [25, 49]])"
      ]
     },
     "execution_count": 104,
     "metadata": {},
     "output_type": "execute_result"
    }
   ],
   "source": [
    "np.hstack((heights.reshape(-1,1),y.reshape(-1,1)))"
   ]
  },
  {
   "cell_type": "code",
   "execution_count": null,
   "id": "f5e860e0",
   "metadata": {},
   "outputs": [],
   "source": []
  }
 ],
 "metadata": {
  "kernelspec": {
   "display_name": "Learning_venv",
   "language": "python",
   "name": "python3"
  },
  "language_info": {
   "codemirror_mode": {
    "name": "ipython",
    "version": 3
   },
   "file_extension": ".py",
   "mimetype": "text/x-python",
   "name": "python",
   "nbconvert_exporter": "python",
   "pygments_lexer": "ipython3",
   "version": "3.13.3"
  }
 },
 "nbformat": 4,
 "nbformat_minor": 5
}
