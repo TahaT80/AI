{
 "cells": [
  {
   "cell_type": "markdown",
   "id": "d1104e2d",
   "metadata": {},
   "source": [
    "### اور\n",
    "![alt text](image.png)"
   ]
  },
  {
   "cell_type": "markdown",
   "id": "b211e4d8",
   "metadata": {},
   "source": [
    "### منفی اور\n",
    "![alt text](image-1.png)"
   ]
  },
  {
   "cell_type": "markdown",
   "id": "29389e54",
   "metadata": {},
   "source": [
    "### یا\n",
    "\n",
    "![alt text](image-2.png)"
   ]
  },
  {
   "cell_type": "markdown",
   "id": "48efcaf9",
   "metadata": {},
   "source": [
    "![alt text](image-3.png)"
   ]
  }
 ],
 "metadata": {
  "language_info": {
   "name": "python"
  }
 },
 "nbformat": 4,
 "nbformat_minor": 5
}
