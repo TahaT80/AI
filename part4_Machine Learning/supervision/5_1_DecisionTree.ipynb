{
 "cells": [
  {
   "cell_type": "markdown",
   "id": "cbbd106c",
   "metadata": {},
   "source": [
    "# DecisionTree\n",
    "\n",
    "- عدم حساسیت به نورمالایز یا توضیع دیتا\n",
    "- با دیتای نا مناسب جواب خوبی میده\n",
    "- تریشولد یابی میکنی\n",
    "- نسبت به داده های پرت و انرمال خوب کار کینه\n",
    "- بدیش اینه که راحت اورفیت میشه\n",
    "- کاهش بی نظمی دیتا\n",
    "- خالص کردن داده ها همون بی نظمی"
   ]
  },
  {
   "cell_type": "markdown",
   "id": "e81c088c",
   "metadata": {},
   "source": [
    "![alt text](image-1.png)\n",
    "\n"
   ]
  },
  {
   "cell_type": "markdown",
   "id": "b1ba164e",
   "metadata": {},
   "source": [
    "![alt text](image-2.png)"
   ]
  },
  {
   "cell_type": "markdown",
   "id": "60e91833",
   "metadata": {},
   "source": [
    "- ASM -> میاد فیچری که بیشترین تفکیک پذیری رو داره نشون میده"
   ]
  },
  {
   "cell_type": "markdown",
   "id": "0e539926",
   "metadata": {},
   "source": [
    "## ASM\n",
    "- با این دوتاای اس ام رو درمیارن\n",
    "\n",
    "- Entropy => میزان بینظمی\n",
    "- هرچی بیشتر باشه دیتا منظم تره\n",
    "- هرچی پایین تر باشه بیشتر میشه از دیتا نتیجه گرفت\n",
    "\n",
    "![alt text](image-4.png)\n",
    "\n",
    "![alt text](image-6.png)\n",
    "\n",
    "- pi=> احتمال ان ام"
   ]
  },
  {
   "cell_type": "code",
   "execution_count": 1,
   "id": "e9608145",
   "metadata": {},
   "outputs": [],
   "source": [
    "%matplotlib inline\n",
    "import numpy as np \n",
    "import pandas as pd \n",
    "import matplotlib.pyplot as plt\n",
    "\n",
    "from sklearn.tree import DecisionTreeRegressor\n",
    "\n"
   ]
  }
 ],
 "metadata": {
  "kernelspec": {
   "display_name": "Learning_venv",
   "language": "python",
   "name": "python3"
  },
  "language_info": {
   "codemirror_mode": {
    "name": "ipython",
    "version": 3
   },
   "file_extension": ".py",
   "mimetype": "text/x-python",
   "name": "python",
   "nbconvert_exporter": "python",
   "pygments_lexer": "ipython3",
   "version": "3.13.3"
  }
 },
 "nbformat": 4,
 "nbformat_minor": 5
}
