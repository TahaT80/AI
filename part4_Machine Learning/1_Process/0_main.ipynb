{
 "cells": [
  {
   "cell_type": "markdown",
   "id": "1b547d6d",
   "metadata": {},
   "source": [
    "![alt text](image-1.png)"
   ]
  },
  {
   "cell_type": "markdown",
   "id": "8d5dff09",
   "metadata": {},
   "source": [
    "- TP = تو کلاس هست و درست\n",
    "- TN = تو کلاس نیست و درست\n",
    "- FP = تو کلاس هست و غلظ\n",
    "- FN = تو کلاس نیست و غلظ    یعنی باید در کلاس میبود"
   ]
  },
  {
   "cell_type": "markdown",
   "id": "dac86dc4",
   "metadata": {},
   "source": [
    "- TP + FN => میشه کل اعضای یک کلاس مثلا کل گربه ها\n",
    "- recall => چند درصد از گربه هارو درست دسته بندی کردی داخل کلاسش \n",
    "- TP + FP => چند نفر در این کلاس دسته بندی شده\n",
    "- precision => چند نفر از کلاس گربه واقعا گربه ان - خلوص"
   ]
  },
  {
   "cell_type": "code",
   "execution_count": 102,
   "id": "2ab717b5",
   "metadata": {},
   "outputs": [],
   "source": [
    "y_true = [1, 1, 0, 0, 1, 1, 0, 0, 0, 1, 1, 1]\n",
    "y_pred = [1, 0, 1, 1, 1, 1,1, 0, 1, 1, 1, 1]"
   ]
  },
  {
   "cell_type": "markdown",
   "id": "6e8ea3b8",
   "metadata": {},
   "source": [
    "accuracy = (TP + TN) / (TP + TN + FP + FN)"
   ]
  },
  {
   "cell_type": "code",
   "execution_count": null,
   "id": "7c8b78ad",
   "metadata": {},
   "outputs": [
    {
     "data": {
      "text/plain": [
       "58.333333333333336"
      ]
     },
     "execution_count": 103,
     "metadata": {},
     "output_type": "execute_result"
    }
   ],
   "source": [
    "from sklearn.metrics import accuracy_score\n",
    "\n",
    "acc = accuracy_score(y_true, y_pred)\n",
    "acc * 100"
   ]
  },
  {
   "cell_type": "code",
   "execution_count": 104,
   "id": "7b914a42",
   "metadata": {},
   "outputs": [
    {
     "data": {
      "text/plain": [
       "60.0"
      ]
     },
     "execution_count": 104,
     "metadata": {},
     "output_type": "execute_result"
    }
   ],
   "source": [
    "from sklearn.metrics import precision_score\n",
    "\n",
    "pr = precision_score(y_true, y_pred)\n",
    "pr * 100"
   ]
  },
  {
   "cell_type": "code",
   "execution_count": 105,
   "id": "8f6f1612",
   "metadata": {},
   "outputs": [
    {
     "data": {
      "text/plain": [
       "85.71428571428571"
      ]
     },
     "execution_count": 105,
     "metadata": {},
     "output_type": "execute_result"
    }
   ],
   "source": [
    "from sklearn.metrics import recall_score\n",
    "\n",
    "r = recall_score(y_true, y_pred)\n",
    "r * 100"
   ]
  },
  {
   "cell_type": "code",
   "execution_count": null,
   "id": "93880475",
   "metadata": {},
   "outputs": [],
   "source": []
  },
  {
   "cell_type": "code",
   "execution_count": null,
   "id": "56eea9bc",
   "metadata": {},
   "outputs": [],
   "source": []
  }
 ],
 "metadata": {
  "kernelspec": {
   "display_name": "Learning_venv",
   "language": "python",
   "name": "python3"
  },
  "language_info": {
   "codemirror_mode": {
    "name": "ipython",
    "version": 3
   },
   "file_extension": ".py",
   "mimetype": "text/x-python",
   "name": "python",
   "nbconvert_exporter": "python",
   "pygments_lexer": "ipython3",
   "version": "3.12.2"
  }
 },
 "nbformat": 4,
 "nbformat_minor": 5
}
