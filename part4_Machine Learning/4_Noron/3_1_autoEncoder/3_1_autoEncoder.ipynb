{
 "cells": [
  {
   "cell_type": "markdown",
   "id": "ac697fea",
   "metadata": {},
   "source": [
    "![alt text](image.png)\n",
    "\n",
    "- متن خام میدن به اتوانکودر و جواب اونو میدن به شبکه عصبی"
   ]
  },
  {
   "cell_type": "markdown",
   "id": "24fc5468",
   "metadata": {},
   "source": [
    "# Attention\n",
    "## Transformer -> T gpt\n",
    "\n",
    "![alt text](image-1.png)\n",
    "\n",
    "- input embedding همون اتو انکودر "
   ]
  },
  {
   "cell_type": "code",
   "execution_count": 10,
   "id": "e6d997d9",
   "metadata": {},
   "outputs": [],
   "source": [
    "import matplotlib.pyplot as plt\n",
    "from keras.layers import Input\n",
    "from keras.layers import Dense\n",
    "from keras.models import Model  \n",
    "\n",
    "from keras.datasets import mnist"
   ]
  },
  {
   "cell_type": "code",
   "execution_count": 2,
   "id": "063301cf",
   "metadata": {},
   "outputs": [],
   "source": [
    "# برخلاف همیشه اول مدل میساختیم بعد لایه میدادیم الان لایه میسازیم بعد مدل\n",
    "\n",
    "input = Input(shape=(784,))\n",
    "\n",
    "encoded  = Dense(10,activation='relu')(input)  # هدف کاهش بعد 32 64\n",
    "                    # هدف کلاسترینگ بود تعداد کلاس ها\n",
    "\n",
    "decoded = Dense(784,activation='sigmoid')(encoded)\n",
    "\n",
    "\n",
    "autoencoder = Model(input,decoded)\n",
    "encoder  = Model(input,encoded)\n",
    "\n",
    "\n",
    "\n",
    "encoded_input = Input(shape=(10,))\n",
    "decoded_layar = autoencoder.layers[-1](encoded_input)\n",
    "decoder  = Model(encoded_input,decoded_layar) #-> چون اینپوت نداره باید فیک بسازیم\n",
    "\n",
    "autoencoder.compile('adam',loss='binary_crossentropy')"
   ]
  },
  {
   "cell_type": "code",
   "execution_count": 3,
   "id": "c7a5a6b6",
   "metadata": {},
   "outputs": [],
   "source": [
    "(x_train, _), (x_test, _) =mnist.load_data()"
   ]
  },
  {
   "cell_type": "code",
   "execution_count": 4,
   "id": "b4731005",
   "metadata": {},
   "outputs": [
    {
     "data": {
      "text/plain": [
       "(60000, 28, 28)"
      ]
     },
     "execution_count": 4,
     "metadata": {},
     "output_type": "execute_result"
    }
   ],
   "source": [
    "x_train.shape"
   ]
  },
  {
   "cell_type": "code",
   "execution_count": 5,
   "id": "26b381ff",
   "metadata": {},
   "outputs": [],
   "source": [
    "x_train= x_train/255.0\n",
    "x_test= x_test/255.0\n",
    "x_train= x_train.reshape(-1,784)\n",
    "x_test= x_test.reshape(-1,784)"
   ]
  },
  {
   "cell_type": "code",
   "execution_count": 6,
   "id": "74a1adb0",
   "metadata": {},
   "outputs": [
    {
     "data": {
      "text/plain": [
       "(60000, 784)"
      ]
     },
     "execution_count": 6,
     "metadata": {},
     "output_type": "execute_result"
    }
   ],
   "source": [
    "x_train.shape"
   ]
  },
  {
   "cell_type": "code",
   "execution_count": 7,
   "id": "01c02cd8",
   "metadata": {},
   "outputs": [
    {
     "name": "stdout",
     "output_type": "stream",
     "text": [
      "Epoch 1/30\n",
      "1875/1875 [==============================] - 14s 7ms/step - loss: 0.2117 - val_loss: 0.1674\n",
      "Epoch 2/30\n",
      "1875/1875 [==============================] - 25s 13ms/step - loss: 0.1647 - val_loss: 0.1603\n",
      "Epoch 3/30\n",
      "1875/1875 [==============================] - 38s 20ms/step - loss: 0.1598 - val_loss: 0.1568\n",
      "Epoch 4/30\n",
      "1875/1875 [==============================] - 16s 9ms/step - loss: 0.1573 - val_loss: 0.1552\n",
      "Epoch 5/30\n",
      "1875/1875 [==============================] - 16s 9ms/step - loss: 0.1561 - val_loss: 0.1544\n",
      "Epoch 6/30\n",
      "1875/1875 [==============================] - 14s 8ms/step - loss: 0.1555 - val_loss: 0.1536\n",
      "Epoch 7/30\n",
      "1875/1875 [==============================] - 15s 8ms/step - loss: 0.1550 - val_loss: 0.1535\n",
      "Epoch 8/30\n",
      "1875/1875 [==============================] - 14s 8ms/step - loss: 0.1546 - val_loss: 0.1531\n",
      "Epoch 9/30\n",
      "1875/1875 [==============================] - 22s 12ms/step - loss: 0.1543 - val_loss: 0.1528\n",
      "Epoch 10/30\n",
      "1875/1875 [==============================] - 22s 12ms/step - loss: 0.1541 - val_loss: 0.1526\n",
      "Epoch 11/30\n",
      "1875/1875 [==============================] - 29s 16ms/step - loss: 0.1539 - val_loss: 0.1525\n",
      "Epoch 12/30\n",
      "1875/1875 [==============================] - 12s 6ms/step - loss: 0.1538 - val_loss: 0.1522\n",
      "Epoch 13/30\n",
      "1875/1875 [==============================] - 11s 6ms/step - loss: 0.1537 - val_loss: 0.1522\n",
      "Epoch 14/30\n",
      "1875/1875 [==============================] - 28s 15ms/step - loss: 0.1536 - val_loss: 0.1521\n",
      "Epoch 15/30\n",
      "1875/1875 [==============================] - 20s 10ms/step - loss: 0.1535 - val_loss: 0.1521\n",
      "Epoch 16/30\n",
      "1875/1875 [==============================] - 23s 12ms/step - loss: 0.1534 - val_loss: 0.1520\n",
      "Epoch 17/30\n",
      "1875/1875 [==============================] - 37s 20ms/step - loss: 0.1533 - val_loss: 0.1520\n",
      "Epoch 18/30\n",
      "1875/1875 [==============================] - 18s 9ms/step - loss: 0.1533 - val_loss: 0.1520\n",
      "Epoch 19/30\n",
      "1875/1875 [==============================] - 17s 9ms/step - loss: 0.1532 - val_loss: 0.1519\n",
      "Epoch 20/30\n",
      "1875/1875 [==============================] - 29s 15ms/step - loss: 0.1532 - val_loss: 0.1520\n",
      "Epoch 21/30\n",
      "1875/1875 [==============================] - 28s 15ms/step - loss: 0.1531 - val_loss: 0.1518\n",
      "Epoch 22/30\n",
      "1875/1875 [==============================] - 13s 7ms/step - loss: 0.1531 - val_loss: 0.1518\n",
      "Epoch 23/30\n",
      "1875/1875 [==============================] - 13s 7ms/step - loss: 0.1530 - val_loss: 0.1517\n",
      "Epoch 24/30\n",
      "1875/1875 [==============================] - 13s 7ms/step - loss: 0.1530 - val_loss: 0.1518\n",
      "Epoch 25/30\n",
      "1875/1875 [==============================] - 14s 8ms/step - loss: 0.1530 - val_loss: 0.1516\n",
      "Epoch 26/30\n",
      "1875/1875 [==============================] - 14s 7ms/step - loss: 0.1529 - val_loss: 0.1516\n",
      "Epoch 27/30\n",
      "1875/1875 [==============================] - 12s 6ms/step - loss: 0.1529 - val_loss: 0.1516\n",
      "Epoch 28/30\n",
      "1875/1875 [==============================] - 12s 7ms/step - loss: 0.1529 - val_loss: 0.1516\n",
      "Epoch 29/30\n",
      "1875/1875 [==============================] - 12s 7ms/step - loss: 0.1529 - val_loss: 0.1516\n",
      "Epoch 30/30\n",
      "1875/1875 [==============================] - 12s 7ms/step - loss: 0.1528 - val_loss: 0.1515\n"
     ]
    }
   ],
   "source": [
    "H = autoencoder.fit(x_train,x_train,validation_data=(x_test,x_test),epochs=30)"
   ]
  },
  {
   "cell_type": "code",
   "execution_count": 16,
   "id": "3b2c5d40",
   "metadata": {},
   "outputs": [
    {
     "data": {
      "image/png": "[encoded data removed]",
      "text/plain": [
       "<Figure size 640x480 with 1 Axes>"
      ]
     },
     "metadata": {},
     "output_type": "display_data"
    }
   ],
   "source": [
    "img = x_test[50]\n",
    "plt.imshow(img.reshape(28,28),'gray');\n"
   ]
  },
  {
   "cell_type": "code",
   "execution_count": 17,
   "id": "85959885",
   "metadata": {},
   "outputs": [
    {
     "name": "stdout",
     "output_type": "stream",
     "text": [
      "1/1 [==============================] - 0s 442ms/step\n"
     ]
    },
    {
     "data": {
      "text/plain": [
       "array([[ 7.818609 ,  4.658303 ,  4.173977 ,  8.927332 ,  6.571169 ,\n",
       "         0.7345541, 10.140398 ,  4.962452 ,  7.485314 ,  5.368667 ]],\n",
       "      dtype=float32)"
      ]
     },
     "execution_count": 17,
     "metadata": {},
     "output_type": "execute_result"
    }
   ],
   "source": [
    "encoded_img =  encoder.predict(img.reshape(1,-1))\n",
    "encoded_img"
   ]
  },
  {
   "cell_type": "code",
   "execution_count": 19,
   "id": "69d79c77",
   "metadata": {},
   "outputs": [
    {
     "name": "stdout",
     "output_type": "stream",
     "text": [
      "1/1 [==============================] - 0s 136ms/step\n"
     ]
    },
    {
     "data": {
      "text/plain": [
       "<matplotlib.image.AxesImage at 0x22e43e5f2e0>"
      ]
     },
     "execution_count": 19,
     "metadata": {},
     "output_type": "execute_result"
    },
    {
     "data": {
      "image/png": "[encoded data removed]",
      "text/plain": [
       "<Figure size 640x480 with 1 Axes>"
      ]
     },
     "metadata": {},
     "output_type": "display_data"
    }
   ],
   "source": [
    "decoder_img = decoder.predict(encoded_img)\n",
    "plt.imshow(decoder_img.reshape(28,28),'gray')"
   ]
  },
  {
   "cell_type": "code",
   "execution_count": 21,
   "id": "bdf1c5b7",
   "metadata": {},
   "outputs": [
    {
     "name": "stdout",
     "output_type": "stream",
     "text": [
      "1/1 [==============================] - 0s 87ms/step\n"
     ]
    },
    {
     "data": {
      "text/plain": [
       "<matplotlib.image.AxesImage at 0x22e41bf51f0>"
      ]
     },
     "execution_count": 21,
     "metadata": {},
     "output_type": "execute_result"
    },
    {
     "data": {
      "image/png": "[encoded data removed]",
      "text/plain": [
       "<Figure size 640x480 with 1 Axes>"
      ]
     },
     "metadata": {},
     "output_type": "display_data"
    }
   ],
   "source": [
    "import numpy as np\n",
    "\n",
    "data = np.random.normal(0.5,0.25,(1,10))\n",
    "decoder_img = decoder.predict(data)\n",
    "plt.imshow(decoder_img.reshape(28,28),'gray')"
   ]
  },
  {
   "cell_type": "code",
   "execution_count": null,
   "id": "486c9989",
   "metadata": {},
   "outputs": [],
   "source": []
  }
 ],
 "metadata": {
  "kernelspec": {
   "display_name": "tf-gpu-env",
   "language": "python",
   "name": "python3"
  },
  "language_info": {
   "codemirror_mode": {
    "name": "ipython",
    "version": 3
   },
   "file_extension": ".py",
   "mimetype": "text/x-python",
   "name": "python",
   "nbconvert_exporter": "python",
   "pygments_lexer": "ipython3",
   "version": "3.8.20"
  }
 },
 "nbformat": 4,
 "nbformat_minor": 5
}
