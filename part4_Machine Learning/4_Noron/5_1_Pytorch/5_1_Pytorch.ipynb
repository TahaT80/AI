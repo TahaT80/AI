{
 "cells": [
  {
   "cell_type": "code",
   "execution_count": 2,
   "id": "5d804188",
   "metadata": {},
   "outputs": [],
   "source": [
    "# ! pip install torch"
   ]
  },
  {
   "cell_type": "code",
   "execution_count": null,
   "id": "fb0d0375",
   "metadata": {},
   "outputs": [],
   "source": [
    "import torch"
   ]
  },
  {
   "cell_type": "code",
   "execution_count": 5,
   "id": "7b759faa",
   "metadata": {},
   "outputs": [],
   "source": [
    "class NeuralNetwork(torch.nn.Module):\n",
    "    def __init__(self,input_dim):\n",
    "        super().__init__()\n",
    "        self.layar_1= torch.nn.Linear(input_dim,32) # Linear => dense \n",
    "        torch.nn.init.kaiming_uniform_(self.layar_1.weight,nonlinearity='relu')\n",
    "        self.layar_2= torch.nn.Linear(32,1) \n",
    "        \n",
    "    def forward(self,x):\n",
    "        x = torch.nn.functional.relu(self.layar_1(x))\n",
    "        x = torch.nn.functional.sigmoid(self.layar_2(x))\n",
    "        return x\n",
    "        "
   ]
  },
  {
   "cell_type": "code",
   "execution_count": 6,
   "id": "92147acd",
   "metadata": {},
   "outputs": [
    {
     "name": "stdout",
     "output_type": "stream",
     "text": [
      "NeuralNetwork(\n",
      "  (layar_1): Linear(in_features=2, out_features=32, bias=True)\n",
      "  (layar_2): Linear(in_features=32, out_features=1, bias=True)\n",
      ")\n"
     ]
    }
   ],
   "source": [
    "model = NeuralNetwork(2)\n",
    "print(model)"
   ]
  },
  {
   "cell_type": "code",
   "execution_count": 7,
   "id": "e538ebcd",
   "metadata": {},
   "outputs": [],
   "source": [
    "loss_fn = torch.nn.BCELoss()\n",
    "opt = torch.optim.Adam(model.parameters(),0.1)"
   ]
  },
  {
   "cell_type": "code",
   "execution_count": null,
   "id": "c3a456ed",
   "metadata": {},
   "outputs": [],
   "source": [
    "epochs = 30\n",
    "losses = []\n",
    "for epoch in range(epochs):\n",
    "    for x,y in data_generator():\n",
    "        opt.zero_grad()\n",
    "        p = model(x)\n",
    "        l = loss_fn(p,y)\n",
    "        losses.append(l.item())\n",
    "        l.backward()\n",
    "        opt.step()"
   ]
  }
 ],
 "metadata": {
  "kernelspec": {
   "display_name": "Python 3",
   "language": "python",
   "name": "python3"
  },
  "language_info": {
   "codemirror_mode": {
    "name": "ipython",
    "version": 3
   },
   "file_extension": ".py",
   "mimetype": "text/x-python",
   "name": "python",
   "nbconvert_exporter": "python",
   "pygments_lexer": "ipython3",
   "version": "3.13.5"
  }
 },
 "nbformat": 4,
 "nbformat_minor": 5
}
