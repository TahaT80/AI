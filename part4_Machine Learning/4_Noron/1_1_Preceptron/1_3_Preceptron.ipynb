{
 "cells": [
  {
   "cell_type": "code",
   "execution_count": 16,
   "id": "19f5a187",
   "metadata": {},
   "outputs": [],
   "source": [
    "import numpy as np\n",
    "import pandas as pd\n",
    "import matplotlib.pyplot as plt\n",
    "import pickle\n",
    "\n",
    "import tensorflow as tf\n",
    "from keras.models import Sequential\n",
    "from keras.layers import Dense\n",
    "from keras.layers import Input\n",
    "\n",
    "from keras.utils import to_categorical\n",
    "from sklearn.preprocessing import LabelEncoder\n",
    "\n",
    "from keras.datasets import mnist # مثل دیجیت ولی جای 8.8 الان 28.28"
   ]
  },
  {
   "cell_type": "code",
   "execution_count": 17,
   "id": "598ea9e0",
   "metadata": {},
   "outputs": [],
   "source": [
    "data = mnist.load_data()"
   ]
  },
  {
   "cell_type": "code",
   "execution_count": 18,
   "id": "3c1418e0",
   "metadata": {},
   "outputs": [],
   "source": [
    "(x_train, y_train), (x_test, y_test) = data"
   ]
  },
  {
   "cell_type": "code",
   "execution_count": 19,
   "id": "fe0b744e",
   "metadata": {},
   "outputs": [
    {
     "data": {
      "text/plain": [
       "((60000, 28, 28), (10000, 28, 28))"
      ]
     },
     "execution_count": 19,
     "metadata": {},
     "output_type": "execute_result"
    }
   ],
   "source": [
    "x_train.shape,x_test.shape"
   ]
  },
  {
   "cell_type": "code",
   "execution_count": 20,
   "id": "a435c159",
   "metadata": {},
   "outputs": [
    {
     "data": {
      "text/plain": [
       "<matplotlib.image.AxesImage at 0x186b630bc10>"
      ]
     },
     "execution_count": 20,
     "metadata": {},
     "output_type": "execute_result"
    },
    {
     "data": {
      "image/png": "[encoded data removed]",
      "text/plain": [
       "<Figure size 640x480 with 1 Axes>"
      ]
     },
     "metadata": {},
     "output_type": "display_data"
    }
   ],
   "source": [
    "plt.imshow(x_train[14116], cmap='gray')"
   ]
  },
  {
   "cell_type": "code",
   "execution_count": 21,
   "id": "c3c29595",
   "metadata": {},
   "outputs": [
    {
     "data": {
      "text/plain": [
       "array([5, 0, 4, 1, 9, 2, 1, 3, 1, 4], dtype=uint8)"
      ]
     },
     "execution_count": 21,
     "metadata": {},
     "output_type": "execute_result"
    }
   ],
   "source": [
    "y_train[:10]"
   ]
  },
  {
   "cell_type": "code",
   "execution_count": 22,
   "id": "c0d9a837",
   "metadata": {},
   "outputs": [
    {
     "data": {
      "text/plain": [
       "array([[0., 0., 0., 0., 0., 1., 0., 0., 0., 0.],\n",
       "       [1., 0., 0., 0., 0., 0., 0., 0., 0., 0.],\n",
       "       [0., 0., 0., 0., 1., 0., 0., 0., 0., 0.],\n",
       "       [0., 1., 0., 0., 0., 0., 0., 0., 0., 0.],\n",
       "       [0., 0., 0., 0., 0., 0., 0., 0., 0., 1.],\n",
       "       [0., 0., 1., 0., 0., 0., 0., 0., 0., 0.],\n",
       "       [0., 1., 0., 0., 0., 0., 0., 0., 0., 0.],\n",
       "       [0., 0., 0., 1., 0., 0., 0., 0., 0., 0.],\n",
       "       [0., 1., 0., 0., 0., 0., 0., 0., 0., 0.],\n",
       "       [0., 0., 0., 0., 1., 0., 0., 0., 0., 0.]], dtype=float32)"
      ]
     },
     "execution_count": 22,
     "metadata": {},
     "output_type": "execute_result"
    }
   ],
   "source": [
    "y_train_oh = to_categorical(y_train)\n",
    "y_test_oh = to_categorical(y_test)\n",
    "y_train_oh[:10]"
   ]
  },
  {
   "cell_type": "code",
   "execution_count": 23,
   "id": "d570599a",
   "metadata": {},
   "outputs": [],
   "source": [
    "x_train_vec = x_train.reshape(60000, -1)/255\n",
    "x_test_vec = x_test.reshape(10000, -1) /255"
   ]
  },
  {
   "cell_type": "code",
   "execution_count": 24,
   "id": "6ee7b747",
   "metadata": {},
   "outputs": [
    {
     "data": {
      "text/plain": [
       "((60000, 28, 28), (60000, 784))"
      ]
     },
     "execution_count": 24,
     "metadata": {},
     "output_type": "execute_result"
    }
   ],
   "source": [
    "x_train.shape,x_train_vec.shape\n"
   ]
  },
  {
   "cell_type": "code",
   "execution_count": 25,
   "id": "af67031c",
   "metadata": {},
   "outputs": [
    {
     "name": "stdout",
     "output_type": "stream",
     "text": [
      "1.0 0.0\n"
     ]
    }
   ],
   "source": [
    "print(x_train_vec.max(), x_train_vec.min())"
   ]
  },
  {
   "cell_type": "markdown",
   "id": "35cd72bd",
   "metadata": {},
   "source": [
    "- در شبکه عصبی دیتارو بیاریم روی 0 و1 که شبکه سبک تر بشه\n",
    "- تصویر معمولا نرمال نیست"
   ]
  },
  {
   "cell_type": "code",
   "execution_count": 26,
   "id": "b4956a48",
   "metadata": {},
   "outputs": [
    {
     "data": {
      "text/plain": [
       "(10, 784)"
      ]
     },
     "execution_count": 26,
     "metadata": {},
     "output_type": "execute_result"
    }
   ],
   "source": [
    "len(np.unique(y_train)),x_train_vec.shape[1]"
   ]
  },
  {
   "cell_type": "code",
   "execution_count": 27,
   "id": "da1c6256",
   "metadata": {},
   "outputs": [
    {
     "name": "stdout",
     "output_type": "stream",
     "text": [
      "Model: \"sequential_1\"\n",
      "_________________________________________________________________\n",
      " Layer (type)                Output Shape              Param #   \n",
      "=================================================================\n",
      " dense_3 (Dense)             (None, 784)               615440    \n",
      "                                                                 \n",
      " dense_4 (Dense)             (None, 256)               200960    \n",
      "                                                                 \n",
      " dense_5 (Dense)             (None, 10)                2570      \n",
      "                                                                 \n",
      "=================================================================\n",
      "Total params: 818,970\n",
      "Trainable params: 818,970\n",
      "Non-trainable params: 0\n",
      "_________________________________________________________________\n"
     ]
    }
   ],
   "source": [
    "model = Sequential()\n",
    "\n",
    "model.add(Input(shape = (x_train_vec.shape[1],)))\n",
    "\n",
    "model.add(Dense(x_train_vec.shape[1],activation='relu'))\n",
    "\n",
    "model.add(Dense(256,activation='relu'))\n",
    "\n",
    "model.add(Dense(len(np.unique(y_train)),activation='softmax'))\n",
    "model.summary()"
   ]
  },
  {
   "cell_type": "code",
   "execution_count": 28,
   "id": "0ee7e6b0",
   "metadata": {},
   "outputs": [],
   "source": [
    "model.compile( optimizer='adam',loss='categorical_crossentropy',metrics=['accuracy'])"
   ]
  },
  {
   "cell_type": "markdown",
   "id": "a02f3139",
   "metadata": {},
   "source": [
    "![alt text](image-10.png)"
   ]
  },
  {
   "cell_type": "markdown",
   "id": "ce439112",
   "metadata": {},
   "source": [
    "- CSVLogger -> بعد هر تپوک نتایج رو سیو کنه \n",
    "- LambdaCallback -> تابع میدی تابع مارو صدا میزنه"
   ]
  },
  {
   "cell_type": "code",
   "execution_count": 29,
   "id": "f658fbc7",
   "metadata": {},
   "outputs": [],
   "source": [
    "from keras.callbacks import EarlyStopping\n",
    "\n",
    "# monitor: str = \"val_loss\",\n",
    "# min_delta: تا وقتی تعیرات دیگه صفر باشه\n",
    "# patience: میگه صبر کن ببین به ازای ان تا اپوک صبر کن تا دلتا رو تست کنی \n",
    "# verbose: چاپ بکنه چیزی\n",
    "# mode: str = \"auto\", تشخصیص خودکار بالارونده یا پایین رونده بودن  مثلا لاس باید بریم مینیموم\n",
    "# baseline: حداقلی که باید از فلان بالاتر بره. حداقل انقدر کیفیت رو میخام\n",
    "# restore_best_weights: bool = False, اگه ترو باشه میاد بهترین وزن هارو میزاره تو خروجی مثلا اگه ما 10 تا رفتیم بهترین وزن 8 بوده اونو میزاره\n",
    "# start_from_epoch: int = از کدوم اپوک شروع کنه"
   ]
  },
  {
   "cell_type": "code",
   "execution_count": 30,
   "id": "4704fd38",
   "metadata": {},
   "outputs": [
    {
     "name": "stdout",
     "output_type": "stream",
     "text": [
      "Epoch 1/10\n",
      "1875/1875 [==============================] - 37s 19ms/step - loss: 0.1826 - accuracy: 0.9446 - val_loss: 0.1362 - val_accuracy: 0.9565\n",
      "Epoch 2/10\n",
      "1875/1875 [==============================] - 31s 17ms/step - loss: 0.0798 - accuracy: 0.9751 - val_loss: 0.0971 - val_accuracy: 0.9692\n",
      "Epoch 3/10\n",
      "1875/1875 [==============================] - 32s 17ms/step - loss: 0.0563 - accuracy: 0.9820 - val_loss: 0.0790 - val_accuracy: 0.9771\n",
      "Epoch 4/10\n",
      "1875/1875 [==============================] - 29s 15ms/step - loss: 0.0407 - accuracy: 0.9872 - val_loss: 0.0779 - val_accuracy: 0.9770\n",
      "Epoch 5/10\n",
      "1875/1875 [==============================] - 32s 17ms/step - loss: 0.0334 - accuracy: 0.9894 - val_loss: 0.0876 - val_accuracy: 0.9763\n",
      "Epoch 5: early stopping\n"
     ]
    }
   ],
   "source": [
    "es = EarlyStopping(min_delta=0.01,patience=2,verbose=True)\n",
    "\n",
    "res = model.fit(x_train_vec,y_train_oh,epochs=10,validation_data=(x_test_vec,y_test_oh),callbacks=[es])"
   ]
  },
  {
   "cell_type": "code",
   "execution_count": 31,
   "id": "0e55ed0b",
   "metadata": {},
   "outputs": [],
   "source": [
    "# es = EarlyStopping(min_delta=0.01,patience=10,verbose=True)\n",
    "\n",
    "# res = model.fit(x_train_vec,y_train_oh,epochs=10,validation_data=(x_test_vec,y_test_oh))"
   ]
  },
  {
   "cell_type": "code",
   "execution_count": 32,
   "id": "267953f6",
   "metadata": {},
   "outputs": [
    {
     "data": {
      "image/png": "[encoded data removed]",
      "text/plain": [
       "<Figure size 1500x500 with 2 Axes>"
      ]
     },
     "metadata": {},
     "output_type": "display_data"
    }
   ],
   "source": [
    "plt.figure(figsize=(15,5))\n",
    "plt.subplot(1,2,1)\n",
    "plt.plot(res.history['accuracy'])\n",
    "plt.plot(res.history['val_accuracy'])\n",
    "plt.legend(['train','test'])\n",
    "plt.subplot(1,2,2)\n",
    "plt.plot(res.history['loss'])\n",
    "plt.plot(res.history['val_loss'])\n",
    "plt.legend(['train','test']);"
   ]
  },
  {
   "cell_type": "code",
   "execution_count": 33,
   "id": "b611f794",
   "metadata": {},
   "outputs": [],
   "source": [
    "model.save('1_3_model.h5')"
   ]
  },
  {
   "cell_type": "code",
   "execution_count": null,
   "id": "bcf05a22",
   "metadata": {},
   "outputs": [],
   "source": []
  }
 ],
 "metadata": {
  "kernelspec": {
   "display_name": "tf-gpu-env",
   "language": "python",
   "name": "python3"
  },
  "language_info": {
   "codemirror_mode": {
    "name": "ipython",
    "version": 3
   },
   "file_extension": ".py",
   "mimetype": "text/x-python",
   "name": "python",
   "nbconvert_exporter": "python",
   "pygments_lexer": "ipython3",
   "version": "3.8.20"
  }
 },
 "nbformat": 4,
 "nbformat_minor": 5
}
