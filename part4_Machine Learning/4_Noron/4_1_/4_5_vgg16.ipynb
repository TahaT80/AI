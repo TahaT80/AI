{
  "cells": [
    {
      "cell_type": "code",
      "execution_count": 2,
      "id": "c698c3df",
      "metadata": {
        "id": "c698c3df"
      },
      "outputs": [],
      "source": [
        "from keras.applications import VGG16\n",
        "from keras.applications import imagenet_utils\n",
        "\n",
        "# from keras.preprocessing.image import img_to_array\n",
        "# from keras.preprocessing.image import load_img\n",
        "from keras.layers import (\n",
        "    Flatten,\n",
        "    Dense,\n",
        "    Dropout,\n",
        "    BatchNormalization,\n",
        "    Activation,\n",
        "    GlobalAveragePooling2D,\n",
        ")\n",
        "from keras.models import Model\n",
        "import numpy as np\n",
        "import matplotlib.pyplot as plt\n",
        "import tensorflow as tf\n",
        "from glob import glob\n",
        "import os\n",
        "import cv2\n",
        "import pickle\n",
        "from keras.utils import to_categorical\n",
        "from sklearn.preprocessing import LabelEncoder\n",
        "\n",
        "from keras.layers import BatchNormalization"
      ]
    },
    {
      "cell_type": "code",
      "execution_count": 3,
      "id": "377276d9",
      "metadata": {
        "id": "377276d9"
      },
      "outputs": [],
      "source": [
        "model = VGG16(include_top=False, input_shape=(48, 144, 3), pooling=None)"
      ]
    },
    {
      "cell_type": "code",
      "execution_count": 4,
      "id": "3d2b738f",
      "metadata": {
        "colab": {
          "base_uri": "https://localhost:8080/",
          "height": 767
        },
        "id": "3d2b738f",
        "outputId": "657d8333-99fc-4511-c77b-42857a10c1f3"
      },
      "outputs": [
        {
          "name": "stdout",
          "output_type": "stream",
          "text": [
            "Model: \"vgg16\"\n",
            "_________________________________________________________________\n",
            " Layer (type)                Output Shape              Param #   \n",
            "=================================================================\n",
            " input_1 (InputLayer)        [(None, 48, 144, 3)]      0         \n",
            "                                                                 \n",
            " block1_conv1 (Conv2D)       (None, 48, 144, 64)       1792      \n",
            "                                                                 \n",
            " block1_conv2 (Conv2D)       (None, 48, 144, 64)       36928     \n",
            "                                                                 \n",
            " block1_pool (MaxPooling2D)  (None, 24, 72, 64)        0         \n",
            "                                                                 \n",
            " block2_conv1 (Conv2D)       (None, 24, 72, 128)       73856     \n",
            "                                                                 \n",
            " block2_conv2 (Conv2D)       (None, 24, 72, 128)       147584    \n",
            "                                                                 \n",
            " block2_pool (MaxPooling2D)  (None, 12, 36, 128)       0         \n",
            "                                                                 \n",
            " block3_conv1 (Conv2D)       (None, 12, 36, 256)       295168    \n",
            "                                                                 \n",
            " block3_conv2 (Conv2D)       (None, 12, 36, 256)       590080    \n",
            "                                                                 \n",
            " block3_conv3 (Conv2D)       (None, 12, 36, 256)       590080    \n",
            "                                                                 \n",
            " block3_pool (MaxPooling2D)  (None, 6, 18, 256)        0         \n",
            "                                                                 \n",
            " block4_conv1 (Conv2D)       (None, 6, 18, 512)        1180160   \n",
            "                                                                 \n",
            " block4_conv2 (Conv2D)       (None, 6, 18, 512)        2359808   \n",
            "                                                                 \n",
            " block4_conv3 (Conv2D)       (None, 6, 18, 512)        2359808   \n",
            "                                                                 \n",
            " block4_pool (MaxPooling2D)  (None, 3, 9, 512)         0         \n",
            "                                                                 \n",
            " block5_conv1 (Conv2D)       (None, 3, 9, 512)         2359808   \n",
            "                                                                 \n",
            " block5_conv2 (Conv2D)       (None, 3, 9, 512)         2359808   \n",
            "                                                                 \n",
            " block5_conv3 (Conv2D)       (None, 3, 9, 512)         2359808   \n",
            "                                                                 \n",
            " block5_pool (MaxPooling2D)  (None, 1, 4, 512)         0         \n",
            "                                                                 \n",
            "=================================================================\n",
            "Total params: 14,714,688\n",
            "Trainable params: 14,714,688\n",
            "Non-trainable params: 0\n",
            "_________________________________________________________________\n"
          ]
        }
      ],
      "source": [
        "model.summary()"
      ]
    },
    {
      "cell_type": "code",
      "execution_count": 5,
      "id": "b72fa7cb",
      "metadata": {
        "id": "b72fa7cb"
      },
      "outputs": [],
      "source": [
        "for l in model.layers[:-4]:\n",
        "    l.trainable = False"
      ]
    },
    {
      "cell_type": "code",
      "execution_count": null,
      "id": "3b8a5b61",
      "metadata": {
        "id": "3b8a5b61"
      },
      "outputs": [],
      "source": [
        "a = GlobalAveragePooling2D()(model.output)\n",
        "\n",
        "a = Dense(256, use_bias=False)(a)\n",
        "a = BatchNormalization()(a)\n",
        "a = Activation(\"relu\")(a)\n",
        "a = Dropout(0.5)(a)\n",
        "\n",
        "\n",
        "def shared_branch(a, name):\n",
        "    # لایه‌های اشتراکی برای تمام branchها\n",
        "    x = Dense(128, use_bias=False)(a)\n",
        "    x = BatchNormalization()(x)\n",
        "    x = Activation(\"relu\")(x)\n",
        "    x = Dropout(0.3)(x)\n",
        "\n",
        "    # لایه‌های خاص هر branch\n",
        "    x = Dense(64, use_bias=False)(x)\n",
        "    x = BatchNormalization()(x)\n",
        "    x = Activation(\"relu\")(x)\n",
        "    x = Dropout(0.2)(x)\n",
        "\n",
        "    return Dense(32, activation=\"softmax\", name=name)(x)\n",
        "\n",
        "\n",
        "out1 = shared_branch(a, \"out1\")\n",
        "out2 = shared_branch(a, \"out2\")\n",
        "out3 = shared_branch(a, \"out3\")\n",
        "out4 = shared_branch(a, \"out4\")\n",
        "from keras.optimizers import Adam\n",
        "\n",
        "model2 = Model(model.input, outputs=[out1, out2, out3, out4])\n",
        "model2.compile(\n",
        "    optimizer=Adam(learning_rate=1e-4),\n",
        "    loss={\n",
        "        \"out1\": \"categorical_crossentropy\",\n",
        "        \"out2\": \"categorical_crossentropy\",\n",
        "        \"out3\": \"categorical_crossentropy\",\n",
        "        \"out4\": \"categorical_crossentropy\",\n",
        "    },\n",
        "    loss_weights={\"out1\": 1.0, \"out2\": 1.5, \"out3\": 1.5, \"out4\": 1.1},\n",
        "    metrics={\n",
        "        \"out1\": [\"accuracy\"],\n",
        "        \"out2\": [\"accuracy\"],\n",
        "        \"out3\": [\"accuracy\"],\n",
        "        \"out4\": [\"accuracy\"],\n",
        "    },\n",
        ")"
      ]
    },
    {
      "cell_type": "code",
      "execution_count": 7,
      "id": "08dfffb2",
      "metadata": {
        "colab": {
          "base_uri": "https://localhost:8080/",
          "height": 1000
        },
        "id": "08dfffb2",
        "outputId": "13907e86-e172-4ecc-9235-7c32eb0b620f"
      },
      "outputs": [
        {
          "name": "stdout",
          "output_type": "stream",
          "text": [
            "Model: \"model\"\n",
            "__________________________________________________________________________________________________\n",
            " Layer (type)                   Output Shape         Param #     Connected to                     \n",
            "==================================================================================================\n",
            " input_1 (InputLayer)           [(None, 48, 144, 3)  0           []                               \n",
            "                                ]                                                                 \n",
            "                                                                                                  \n",
            " block1_conv1 (Conv2D)          (None, 48, 144, 64)  1792        ['input_1[0][0]']                \n",
            "                                                                                                  \n",
            " block1_conv2 (Conv2D)          (None, 48, 144, 64)  36928       ['block1_conv1[0][0]']           \n",
            "                                                                                                  \n",
            " block1_pool (MaxPooling2D)     (None, 24, 72, 64)   0           ['block1_conv2[0][0]']           \n",
            "                                                                                                  \n",
            " block2_conv1 (Conv2D)          (None, 24, 72, 128)  73856       ['block1_pool[0][0]']            \n",
            "                                                                                                  \n",
            " block2_conv2 (Conv2D)          (None, 24, 72, 128)  147584      ['block2_conv1[0][0]']           \n",
            "                                                                                                  \n",
            " block2_pool (MaxPooling2D)     (None, 12, 36, 128)  0           ['block2_conv2[0][0]']           \n",
            "                                                                                                  \n",
            " block3_conv1 (Conv2D)          (None, 12, 36, 256)  295168      ['block2_pool[0][0]']            \n",
            "                                                                                                  \n",
            " block3_conv2 (Conv2D)          (None, 12, 36, 256)  590080      ['block3_conv1[0][0]']           \n",
            "                                                                                                  \n",
            " block3_conv3 (Conv2D)          (None, 12, 36, 256)  590080      ['block3_conv2[0][0]']           \n",
            "                                                                                                  \n",
            " block3_pool (MaxPooling2D)     (None, 6, 18, 256)   0           ['block3_conv3[0][0]']           \n",
            "                                                                                                  \n",
            " block4_conv1 (Conv2D)          (None, 6, 18, 512)   1180160     ['block3_pool[0][0]']            \n",
            "                                                                                                  \n",
            " block4_conv2 (Conv2D)          (None, 6, 18, 512)   2359808     ['block4_conv1[0][0]']           \n",
            "                                                                                                  \n",
            " block4_conv3 (Conv2D)          (None, 6, 18, 512)   2359808     ['block4_conv2[0][0]']           \n",
            "                                                                                                  \n",
            " block4_pool (MaxPooling2D)     (None, 3, 9, 512)    0           ['block4_conv3[0][0]']           \n",
            "                                                                                                  \n",
            " block5_conv1 (Conv2D)          (None, 3, 9, 512)    2359808     ['block4_pool[0][0]']            \n",
            "                                                                                                  \n",
            " block5_conv2 (Conv2D)          (None, 3, 9, 512)    2359808     ['block5_conv1[0][0]']           \n",
            "                                                                                                  \n",
            " block5_conv3 (Conv2D)          (None, 3, 9, 512)    2359808     ['block5_conv2[0][0]']           \n",
            "                                                                                                  \n",
            " block5_pool (MaxPooling2D)     (None, 1, 4, 512)    0           ['block5_conv3[0][0]']           \n",
            "                                                                                                  \n",
            " global_average_pooling2d (Glob  (None, 512)         0           ['block5_pool[0][0]']            \n",
            " alAveragePooling2D)                                                                              \n",
            "                                                                                                  \n",
            " dense (Dense)                  (None, 256)          131072      ['global_average_pooling2d[0][0]'\n",
            "                                                                 ]                                \n",
            "                                                                                                  \n",
            " batch_normalization (BatchNorm  (None, 256)         1024        ['dense[0][0]']                  \n",
            " alization)                                                                                       \n",
            "                                                                                                  \n",
            " activation (Activation)        (None, 256)          0           ['batch_normalization[0][0]']    \n",
            "                                                                                                  \n",
            " dropout (Dropout)              (None, 256)          0           ['activation[0][0]']             \n",
            "                                                                                                  \n",
            " dense_1 (Dense)                (None, 128)          32768       ['dropout[0][0]']                \n",
            "                                                                                                  \n",
            " dense_3 (Dense)                (None, 128)          32768       ['dropout[0][0]']                \n",
            "                                                                                                  \n",
            " dense_5 (Dense)                (None, 128)          32768       ['dropout[0][0]']                \n",
            "                                                                                                  \n",
            " dense_7 (Dense)                (None, 128)          32768       ['dropout[0][0]']                \n",
            "                                                                                                  \n",
            " batch_normalization_1 (BatchNo  (None, 128)         512         ['dense_1[0][0]']                \n",
            " rmalization)                                                                                     \n",
            "                                                                                                  \n",
            " batch_normalization_3 (BatchNo  (None, 128)         512         ['dense_3[0][0]']                \n",
            " rmalization)                                                                                     \n",
            "                                                                                                  \n",
            " batch_normalization_5 (BatchNo  (None, 128)         512         ['dense_5[0][0]']                \n",
            " rmalization)                                                                                     \n",
            "                                                                                                  \n",
            " batch_normalization_7 (BatchNo  (None, 128)         512         ['dense_7[0][0]']                \n",
            " rmalization)                                                                                     \n",
            "                                                                                                  \n",
            " activation_1 (Activation)      (None, 128)          0           ['batch_normalization_1[0][0]']  \n",
            "                                                                                                  \n",
            " activation_3 (Activation)      (None, 128)          0           ['batch_normalization_3[0][0]']  \n",
            "                                                                                                  \n",
            " activation_5 (Activation)      (None, 128)          0           ['batch_normalization_5[0][0]']  \n",
            "                                                                                                  \n",
            " activation_7 (Activation)      (None, 128)          0           ['batch_normalization_7[0][0]']  \n",
            "                                                                                                  \n",
            " dropout_1 (Dropout)            (None, 128)          0           ['activation_1[0][0]']           \n",
            "                                                                                                  \n",
            " dropout_3 (Dropout)            (None, 128)          0           ['activation_3[0][0]']           \n",
            "                                                                                                  \n",
            " dropout_5 (Dropout)            (None, 128)          0           ['activation_5[0][0]']           \n",
            "                                                                                                  \n",
            " dropout_7 (Dropout)            (None, 128)          0           ['activation_7[0][0]']           \n",
            "                                                                                                  \n",
            " dense_2 (Dense)                (None, 64)           8192        ['dropout_1[0][0]']              \n",
            "                                                                                                  \n",
            " dense_4 (Dense)                (None, 64)           8192        ['dropout_3[0][0]']              \n",
            "                                                                                                  \n",
            " dense_6 (Dense)                (None, 64)           8192        ['dropout_5[0][0]']              \n",
            "                                                                                                  \n",
            " dense_8 (Dense)                (None, 64)           8192        ['dropout_7[0][0]']              \n",
            "                                                                                                  \n",
            " batch_normalization_2 (BatchNo  (None, 64)          256         ['dense_2[0][0]']                \n",
            " rmalization)                                                                                     \n",
            "                                                                                                  \n",
            " batch_normalization_4 (BatchNo  (None, 64)          256         ['dense_4[0][0]']                \n",
            " rmalization)                                                                                     \n",
            "                                                                                                  \n",
            " batch_normalization_6 (BatchNo  (None, 64)          256         ['dense_6[0][0]']                \n",
            " rmalization)                                                                                     \n",
            "                                                                                                  \n",
            " batch_normalization_8 (BatchNo  (None, 64)          256         ['dense_8[0][0]']                \n",
            " rmalization)                                                                                     \n",
            "                                                                                                  \n",
            " activation_2 (Activation)      (None, 64)           0           ['batch_normalization_2[0][0]']  \n",
            "                                                                                                  \n",
            " activation_4 (Activation)      (None, 64)           0           ['batch_normalization_4[0][0]']  \n",
            "                                                                                                  \n",
            " activation_6 (Activation)      (None, 64)           0           ['batch_normalization_6[0][0]']  \n",
            "                                                                                                  \n",
            " activation_8 (Activation)      (None, 64)           0           ['batch_normalization_8[0][0]']  \n",
            "                                                                                                  \n",
            " dropout_2 (Dropout)            (None, 64)           0           ['activation_2[0][0]']           \n",
            "                                                                                                  \n",
            " dropout_4 (Dropout)            (None, 64)           0           ['activation_4[0][0]']           \n",
            "                                                                                                  \n",
            " dropout_6 (Dropout)            (None, 64)           0           ['activation_6[0][0]']           \n",
            "                                                                                                  \n",
            " dropout_8 (Dropout)            (None, 64)           0           ['activation_8[0][0]']           \n",
            "                                                                                                  \n",
            " out1 (Dense)                   (None, 32)           2080        ['dropout_2[0][0]']              \n",
            "                                                                                                  \n",
            " out2 (Dense)                   (None, 32)           2080        ['dropout_4[0][0]']              \n",
            "                                                                                                  \n",
            " out3 (Dense)                   (None, 32)           2080        ['dropout_6[0][0]']              \n",
            "                                                                                                  \n",
            " out4 (Dense)                   (None, 32)           2080        ['dropout_8[0][0]']              \n",
            "                                                                                                  \n",
            "==================================================================================================\n",
            "Total params: 15,022,016\n",
            "Trainable params: 7,384,704\n",
            "Non-trainable params: 7,637,312\n",
            "__________________________________________________________________________________________________\n"
          ]
        }
      ],
      "source": [
        "model2.summary()\n"
      ]
    },
    {
      "cell_type": "code",
      "execution_count": 8,
      "id": "3815bf66",
      "metadata": {
        "colab": {
          "base_uri": "https://localhost:8080/"
        },
        "id": "3815bf66",
        "outputId": "20dc4770-c9d0-446e-d335-b92ec6ad14b4"
      },
      "outputs": [],
      "source": [
        "with open('encoder.bin','rb')as f:\n",
        "    encoder = pickle.load(f)"
      ]
    },
    {
      "cell_type": "code",
      "execution_count": 9,
      "id": "a2dfb49f",
      "metadata": {
        "colab": {
          "base_uri": "https://localhost:8080/"
        },
        "id": "a2dfb49f",
        "outputId": "3c4fb952-9ec6-4d08-f4b0-addaa7e360a3"
      },
      "outputs": [
        {
          "data": {
            "text/plain": [
              "array(['2', '3', '4', '5', '6', '7', '8', '9', 'A', 'B', 'C', 'D', 'E',\n",
              "       'F', 'G', 'H', 'J', 'K', 'L', 'M', 'N', 'P', 'Q', 'R', 'S', 'T',\n",
              "       'U', 'V', 'W', 'X', 'Y', 'Z'], dtype='<U1')"
            ]
          },
          "execution_count": 9,
          "metadata": {},
          "output_type": "execute_result"
        }
      ],
      "source": [
        "encoder.classes_"
      ]
    },
    {
      "cell_type": "code",
      "execution_count": 10,
      "id": "2e5472b9",
      "metadata": {
        "id": "2e5472b9"
      },
      "outputs": [],
      "source": [
        "# def datagenerator(path, batch_size=100):\n",
        "#     pattern= os.path.join(path,'*.png')\n",
        "#     fills= glob(pattern)\n",
        "#     while True:\n",
        "#         offset=0\n",
        "#         while offset<len(fills):\n",
        "#             items = fills[offset:offset+batch_size]\n",
        "#             offset+=batch_size\n",
        "#             x = []\n",
        "#             y1 = []\n",
        "#             y2 = []\n",
        "#             y3 = []\n",
        "#             y4 = []\n",
        "#             for f in items:\n",
        "#                 char = list(os.path.splitext(os.path.basename(f))[0])\n",
        "#                 if len(char)!=4:\n",
        "#                     continue\n",
        "#                 im = cv2.imread(f)\n",
        "#                 im = cv2.cvtColor(im,cv2.COLOR_BGR2RGB)\n",
        "#                 im = cv2.resize(im,(144,48)).astype(np.float32)\n",
        "#                 im = imagenet_utils.preprocess_input(im)\n",
        "#                 x.append(im)\n",
        "#                 char = [to_categorical(encoder.transform([i]),num_classes=len(encoder.classes_)).reshape(-1) for i in char]\n",
        "#                 y1.append(char[0])\n",
        "#                 y2.append(char[1])\n",
        "#                 y3.append(char[2])\n",
        "#                 y4.append(char[3])\n",
        "#             X = np.array(x,ndmin=4)\n",
        "#             Y1 = np.array(y1)\n",
        "#             Y2 = np.array(y2)\n",
        "#             Y3 = np.array(y3)\n",
        "#             Y4 = np.array(y4)\n",
        "#             yield X,(Y1,Y2,Y3,Y4)"
      ]
    },
    {
      "cell_type": "code",
      "execution_count": 11,
      "id": "3079cee7",
      "metadata": {
        "id": "3079cee7"
      },
      "outputs": [],
      "source": [
        "# data = datagenerator('train')\n",
        "# for x,y in data:\n",
        "#     print(len(x),len(y))\n",
        "#     # print(x.shape,y.shape)"
      ]
    },
    {
      "cell_type": "code",
      "execution_count": 12,
      "id": "JBBZbVBQZjzm",
      "metadata": {
        "id": "JBBZbVBQZjzm"
      },
      "outputs": [],
      "source": [
        "# # تعریف output_signature برای ۴ خروجی\n",
        "# num_classes = len(encoder.classes_)\n",
        "# output_signature = (\n",
        "#     tf.TensorSpec(shape=(None, 48, 144, 3), dtype=tf.float32),  # ورودی تصویر\n",
        "#     (\n",
        "#         tf.TensorSpec(shape=(None, num_classes), dtype=tf.float32),  # Y1\n",
        "#         tf.TensorSpec(shape=(None, num_classes), dtype=tf.float32),  # Y2\n",
        "#         tf.TensorSpec(shape=(None, num_classes), dtype=tf.float32),  # Y3\n",
        "#         tf.TensorSpec(shape=(None, num_classes), dtype=tf.float32)   # Y4\n",
        "#     )\n",
        "# )\n",
        "\n",
        "\n",
        "# def create_dataset(path, batch_size=100):\n",
        "#     def gen():\n",
        "#         return datagenerator(path, batch_size)\n",
        "\n",
        "#     dataset = tf.data.Dataset.from_generator(\n",
        "#         gen,\n",
        "#         output_signature=output_signature\n",
        "#     )\n",
        "#     return dataset\n",
        "\n"
      ]
    },
    {
      "cell_type": "code",
      "execution_count": 13,
      "id": "e18786e8",
      "metadata": {
        "colab": {
          "base_uri": "https://localhost:8080/"
        },
        "id": "e18786e8",
        "outputId": "a4b41b3f-a7cf-490c-fcea-29d233f2b05b"
      },
      "outputs": [],
      "source": [
        "# train_dir = 'train'\n",
        "# val_dir   = 'test'\n",
        "\n",
        "# batch_size = 100\n",
        "# steps_per_epoch  = max(1, len(glob(train_dir+'/*.png')) // batch_size)\n",
        "# val_steps        = max(1, len(glob(val_dir  +'/*.png')) // batch_size)\n",
        "\n",
        "# # h = model2.fit(\n",
        "# #     datagenerator(train_dir, batch_size=batch_size),\n",
        "# #     steps_per_epoch=steps_per_epoch,\n",
        "# #     epochs=40\n",
        "# # )\n",
        "\n",
        "\n",
        "\n",
        "# train_dataset = create_dataset(train_dir, batch_size)\n",
        "# val_dataset = create_dataset(val_dir, batch_size)\n",
        "\n",
        "# h = model2.fit(\n",
        "#     train_dataset,\n",
        "#     steps_per_epoch=steps_per_epoch,\n",
        "#     epochs=50,\n",
        "#     validation_data=val_dataset,\n",
        "#     validation_steps=val_steps\n",
        "# )"
      ]
    },
    {
      "cell_type": "code",
      "execution_count": 14,
      "id": "05d833d1",
      "metadata": {},
      "outputs": [
        {
          "name": "stdout",
          "output_type": "stream",
          "text": [
            "Epoch 1/20\n",
            "308/308 [==============================] - 56s 150ms/step - loss: 18.3899 - out1_loss: 3.6138 - out2_loss: 3.6533 - out3_loss: 3.7146 - out4_loss: 3.7243 - out1_accuracy: 0.0529 - out2_accuracy: 0.0447 - out3_accuracy: 0.0432 - out4_accuracy: 0.0399\n",
            "Epoch 2/20\n",
            "308/308 [==============================] - 42s 136ms/step - loss: 17.0027 - out1_loss: 3.2398 - out2_loss: 3.3775 - out3_loss: 3.4421 - out4_loss: 3.5335 - out1_accuracy: 0.1106 - out2_accuracy: 0.0846 - out3_accuracy: 0.0750 - out4_accuracy: 0.0584\n",
            "Epoch 3/20\n",
            "308/308 [==============================] - 42s 136ms/step - loss: 15.8873 - out1_loss: 2.9288 - out2_loss: 3.1549 - out3_loss: 3.2585 - out4_loss: 3.3386 - out1_accuracy: 0.1906 - out2_accuracy: 0.1360 - out3_accuracy: 0.1099 - out4_accuracy: 0.0863\n",
            "Epoch 4/20\n",
            "308/308 [==============================] - 49s 159ms/step - loss: 14.8479 - out1_loss: 2.6590 - out2_loss: 2.9487 - out3_loss: 3.0552 - out4_loss: 3.1830 - out1_accuracy: 0.2694 - out2_accuracy: 0.1920 - out3_accuracy: 0.1583 - out4_accuracy: 0.1191\n",
            "Epoch 5/20\n",
            "308/308 [==============================] - 44s 144ms/step - loss: 13.8379 - out1_loss: 2.4375 - out2_loss: 2.7226 - out3_loss: 2.8627 - out4_loss: 3.0224 - out1_accuracy: 0.3399 - out2_accuracy: 0.2606 - out3_accuracy: 0.2176 - out4_accuracy: 0.1631\n",
            "Epoch 6/20\n",
            "308/308 [==============================] - 43s 140ms/step - loss: 12.7739 - out1_loss: 2.2025 - out2_loss: 2.4992 - out3_loss: 2.6465 - out4_loss: 2.8527 - out1_accuracy: 0.4158 - out2_accuracy: 0.3223 - out3_accuracy: 0.2799 - out4_accuracy: 0.1995\n",
            "Epoch 7/20\n",
            "308/308 [==============================] - 43s 139ms/step - loss: 11.8234 - out1_loss: 2.0090 - out2_loss: 2.2916 - out3_loss: 2.4484 - out4_loss: 2.7043 - out1_accuracy: 0.4769 - out2_accuracy: 0.3818 - out3_accuracy: 0.3354 - out4_accuracy: 0.2430\n",
            "Epoch 8/20\n",
            "308/308 [==============================] - 43s 139ms/step - loss: 10.8583 - out1_loss: 1.8448 - out2_loss: 2.0838 - out3_loss: 2.2349 - out4_loss: 2.5355 - out1_accuracy: 0.5119 - out2_accuracy: 0.4410 - out3_accuracy: 0.4029 - out4_accuracy: 0.2858\n",
            "Epoch 9/20\n",
            "308/308 [==============================] - 44s 142ms/step - loss: 9.9368 - out1_loss: 1.6712 - out2_loss: 1.9034 - out3_loss: 2.0386 - out4_loss: 2.3526 - out1_accuracy: 0.5630 - out2_accuracy: 0.4938 - out3_accuracy: 0.4572 - out4_accuracy: 0.3388\n",
            "Epoch 10/20\n",
            "308/308 [==============================] - 44s 142ms/step - loss: 9.0781 - out1_loss: 1.5313 - out2_loss: 1.7268 - out3_loss: 1.8531 - out4_loss: 2.1769 - out1_accuracy: 0.6047 - out2_accuracy: 0.5433 - out3_accuracy: 0.5158 - out4_accuracy: 0.3965\n",
            "Epoch 11/20\n",
            "308/308 [==============================] - 43s 140ms/step - loss: 8.2873 - out1_loss: 1.4164 - out2_loss: 1.5535 - out3_loss: 1.6841 - out4_loss: 2.0145 - out1_accuracy: 0.6336 - out2_accuracy: 0.5999 - out3_accuracy: 0.5614 - out4_accuracy: 0.4357\n",
            "Epoch 12/20\n",
            "308/308 [==============================] - 43s 138ms/step - loss: 7.6159 - out1_loss: 1.3050 - out2_loss: 1.4189 - out3_loss: 1.5354 - out4_loss: 1.8794 - out1_accuracy: 0.6604 - out2_accuracy: 0.6371 - out3_accuracy: 0.6037 - out4_accuracy: 0.4681\n",
            "Epoch 13/20\n",
            "308/308 [==============================] - 42s 138ms/step - loss: 6.8955 - out1_loss: 1.1978 - out2_loss: 1.2643 - out3_loss: 1.3829 - out4_loss: 1.7269 - out1_accuracy: 0.6935 - out2_accuracy: 0.6851 - out3_accuracy: 0.6483 - out4_accuracy: 0.5208\n",
            "Epoch 14/20\n",
            "308/308 [==============================] - 43s 141ms/step - loss: 6.3479 - out1_loss: 1.1096 - out2_loss: 1.1515 - out3_loss: 1.2764 - out4_loss: 1.5965 - out1_accuracy: 0.7164 - out2_accuracy: 0.7119 - out3_accuracy: 0.6707 - out4_accuracy: 0.5539\n",
            "Epoch 15/20\n",
            "308/308 [==============================] - 43s 139ms/step - loss: 5.8645 - out1_loss: 1.0230 - out2_loss: 1.0691 - out3_loss: 1.1635 - out4_loss: 1.4926 - out1_accuracy: 0.7341 - out2_accuracy: 0.7269 - out3_accuracy: 0.7051 - out4_accuracy: 0.5838\n",
            "Epoch 16/20\n",
            "308/308 [==============================] - 43s 139ms/step - loss: 5.3857 - out1_loss: 0.9629 - out2_loss: 0.9700 - out3_loss: 1.0561 - out4_loss: 1.3835 - out1_accuracy: 0.7553 - out2_accuracy: 0.7607 - out3_accuracy: 0.7359 - out4_accuracy: 0.6176\n",
            "Epoch 17/20\n",
            "308/308 [==============================] - 43s 141ms/step - loss: 4.9610 - out1_loss: 0.8862 - out2_loss: 0.8903 - out3_loss: 0.9666 - out4_loss: 1.2895 - out1_accuracy: 0.7681 - out2_accuracy: 0.7831 - out3_accuracy: 0.7643 - out4_accuracy: 0.6382\n",
            "Epoch 18/20\n",
            "308/308 [==============================] - 46s 149ms/step - loss: 4.5966 - out1_loss: 0.8299 - out2_loss: 0.8232 - out3_loss: 0.8816 - out4_loss: 1.2094 - out1_accuracy: 0.7806 - out2_accuracy: 0.7952 - out3_accuracy: 0.7830 - out4_accuracy: 0.6721\n",
            "Epoch 19/20\n",
            "308/308 [==============================] - 43s 138ms/step - loss: 4.2739 - out1_loss: 0.7748 - out2_loss: 0.7745 - out3_loss: 0.8092 - out4_loss: 1.1235 - out1_accuracy: 0.7934 - out2_accuracy: 0.8033 - out3_accuracy: 0.8019 - out4_accuracy: 0.6913\n",
            "Epoch 20/20\n",
            "308/308 [==============================] - 43s 139ms/step - loss: 3.9752 - out1_loss: 0.7522 - out2_loss: 0.7040 - out3_loss: 0.7475 - out4_loss: 1.0457 - out1_accuracy: 0.7989 - out2_accuracy: 0.8204 - out3_accuracy: 0.8159 - out4_accuracy: 0.7150\n"
          ]
        }
      ],
      "source": [
        "def load_data(p):\n",
        "    pattern = os.path.join(p, \"*.png\")\n",
        "    files = glob(pattern)\n",
        "    x = []\n",
        "    y1 = []\n",
        "    y2 = []\n",
        "    y3 = []\n",
        "    y4 = []\n",
        "    for f in files:\n",
        "        char = list(os.path.splitext(os.path.basename(f))[0])\n",
        "        if len(char) != 4:\n",
        "            continue\n",
        "        im = cv2.imread(f)\n",
        "        # im = img_to_array(im)\n",
        "        im = cv2.resize(im, (144, 48))\n",
        "        im = imagenet_utils.preprocess_input(im)\n",
        "\n",
        "        x.append(im)\n",
        "        char = [\n",
        "            to_categorical(encoder.transform([i])[0], num_classes=len(encoder.classes_))\n",
        "            for i in char\n",
        "        ]\n",
        "\n",
        "        y1.append(char[0])\n",
        "        y2.append(char[1])\n",
        "        y3.append(char[2])\n",
        "        y4.append(char[3])\n",
        "    X = np.array(x, ndmin=4)\n",
        "    Y1 = np.array(y1)\n",
        "    Y2 = np.array(y2)\n",
        "    Y3 = np.array(y3)\n",
        "    Y4 = np.array(y4)\n",
        "    return X, Y1, Y2, Y3, Y4\n",
        "\n",
        "\n",
        "x_train, Y1, Y2, Y3, Y4 = load_data(\"../2_1_Convolutional/train/\")\n",
        "h = model2.fit(x_train, {\"out1\": Y1, \"out2\": Y2, \"out3\": Y3, \"out4\": Y4}, epochs=20)"
      ]
    },
    {
      "cell_type": "code",
      "execution_count": 34,
      "id": "7288eaaa",
      "metadata": {
        "colab": {
          "base_uri": "https://localhost:8080/",
          "height": 266
        },
        "id": "7288eaaa",
        "outputId": "6f8e3bc2-40e3-42f2-811d-332ddf17bfa0"
      },
      "outputs": [
        {
          "name": "stderr",
          "output_type": "stream",
          "text": [
            "Clipping input data to the valid range for imshow with RGB data ([0..1] for floats or [0..255] for integers).\n"
          ]
        },
        {
          "data": {
            "text/plain": [
              "<matplotlib.image.AxesImage at 0x204a8c7aac0>"
            ]
          },
          "execution_count": 34,
          "metadata": {},
          "output_type": "execute_result"
        },
        {
          "data": {
            "image/png": "[encoded data removed]",
            "text/plain": [
              "<Figure size 640x480 with 1 Axes>"
            ]
          },
          "metadata": {},
          "output_type": "display_data"
        }
      ],
      "source": [
        "f = \"../2_1_Convolutional/test/K6YC.png\"\n",
        "im = cv2.imread(f)\n",
        "im = cv2.cvtColor(im, cv2.COLOR_BGR2RGB)\n",
        "im = cv2.resize(im, (144, 48))\n",
        "f = imagenet_utils.preprocess_input(im)\n",
        "# f = cv2.resize(f,(144,48))\n",
        "# f.shape\n",
        "plt.imshow(f)"
      ]
    },
    {
      "cell_type": "code",
      "execution_count": 35,
      "id": "db598832",
      "metadata": {
        "colab": {
          "base_uri": "https://localhost:8080/"
        },
        "id": "db598832",
        "outputId": "f22239ac-7f15-4ff8-d785-4d546cca1cf1"
      },
      "outputs": [
        {
          "name": "stdout",
          "output_type": "stream",
          "text": [
            "1/1 [==============================] - 0s 48ms/step\n"
          ]
        }
      ],
      "source": [
        "p = model2.predict(f.reshape(1,48,144,3))\n"
      ]
    },
    {
      "cell_type": "code",
      "execution_count": 36,
      "id": "9527eadb",
      "metadata": {
        "colab": {
          "base_uri": "https://localhost:8080/"
        },
        "id": "9527eadb",
        "outputId": "91df26d8-9236-4990-c019-d2361f644a2c"
      },
      "outputs": [
        {
          "name": "stdout",
          "output_type": "stream",
          "text": [
            "['K']\n",
            "['6']\n",
            "['Y']\n",
            "['C']\n"
          ]
        }
      ],
      "source": [
        "for i in p:\n",
        "    # print(np.argmax(i))\n",
        "    print(encoder.inverse_transform([np.argmax(i)]))"
      ]
    },
    {
      "cell_type": "code",
      "execution_count": 19,
      "id": "AD_Fm17fd9gW",
      "metadata": {
        "id": "AD_Fm17fd9gW"
      },
      "outputs": [],
      "source": [
        "model2.save('model2.keras')"
      ]
    }
  ],
  "metadata": {
    "accelerator": "GPU",
    "colab": {
      "gpuType": "T4",
      "provenance": []
    },
    "kernelspec": {
      "display_name": "tf-gpu-env",
      "language": "python",
      "name": "python3"
    },
    "language_info": {
      "codemirror_mode": {
        "name": "ipython",
        "version": 3
      },
      "file_extension": ".py",
      "mimetype": "text/x-python",
      "name": "python",
      "nbconvert_exporter": "python",
      "pygments_lexer": "ipython3",
      "version": "3.8.20"
    }
  },
  "nbformat": 4,
  "nbformat_minor": 5
}
