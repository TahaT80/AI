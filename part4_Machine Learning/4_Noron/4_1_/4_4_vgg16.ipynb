{
  "cells": [
    {
      "cell_type": "code",
      "execution_count": 1,
      "id": "c698c3df",
      "metadata": {
        "id": "c698c3df"
      },
      "outputs": [],
      "source": [
        "from keras.applications import VGG16\n",
        "from keras.applications import imagenet_utils\n",
        "# from keras.preprocessing.image import img_to_array\n",
        "# from keras.preprocessing.image import load_img\n",
        "from keras.layers import Flatten, Dense, Dropout, BatchNormalization, Activation,GlobalAveragePooling2D\n",
        "from keras.models import Model\n",
        "import numpy as np\n",
        "import matplotlib.pyplot as plt\n",
        "import tensorflow as tf\n",
        "from glob import glob\n",
        "import os\n",
        "import cv2\n",
        "import pickle\n",
        "from keras.utils import to_categorical\n",
        "from sklearn.preprocessing import LabelEncoder\n",
        "\n",
        "from keras.layers import BatchNormalization"
      ]
    },
    {
      "cell_type": "code",
      "execution_count": 2,
      "id": "377276d9",
      "metadata": {
        "id": "377276d9"
      },
      "outputs": [],
      "source": [
        "model = VGG16(include_top=False,input_shape=(48,144,3),pooling=None)"
      ]
    },
    {
      "cell_type": "code",
      "execution_count": 3,
      "id": "3d2b738f",
      "metadata": {
        "colab": {
          "base_uri": "https://localhost:8080/",
          "height": 767
        },
        "id": "3d2b738f",
        "outputId": "657d8333-99fc-4511-c77b-42857a10c1f3"
      },
      "outputs": [
        {
          "name": "stdout",
          "output_type": "stream",
          "text": [
            "Model: \"vgg16\"\n",
            "_________________________________________________________________\n",
            " Layer (type)                Output Shape              Param #   \n",
            "=================================================================\n",
            " input_1 (InputLayer)        [(None, 48, 144, 3)]      0         \n",
            "                                                                 \n",
            " block1_conv1 (Conv2D)       (None, 48, 144, 64)       1792      \n",
            "                                                                 \n",
            " block1_conv2 (Conv2D)       (None, 48, 144, 64)       36928     \n",
            "                                                                 \n",
            " block1_pool (MaxPooling2D)  (None, 24, 72, 64)        0         \n",
            "                                                                 \n",
            " block2_conv1 (Conv2D)       (None, 24, 72, 128)       73856     \n",
            "                                                                 \n",
            " block2_conv2 (Conv2D)       (None, 24, 72, 128)       147584    \n",
            "                                                                 \n",
            " block2_pool (MaxPooling2D)  (None, 12, 36, 128)       0         \n",
            "                                                                 \n",
            " block3_conv1 (Conv2D)       (None, 12, 36, 256)       295168    \n",
            "                                                                 \n",
            " block3_conv2 (Conv2D)       (None, 12, 36, 256)       590080    \n",
            "                                                                 \n",
            " block3_conv3 (Conv2D)       (None, 12, 36, 256)       590080    \n",
            "                                                                 \n",
            " block3_pool (MaxPooling2D)  (None, 6, 18, 256)        0         \n",
            "                                                                 \n",
            " block4_conv1 (Conv2D)       (None, 6, 18, 512)        1180160   \n",
            "                                                                 \n",
            " block4_conv2 (Conv2D)       (None, 6, 18, 512)        2359808   \n",
            "                                                                 \n",
            " block4_conv3 (Conv2D)       (None, 6, 18, 512)        2359808   \n",
            "                                                                 \n",
            " block4_pool (MaxPooling2D)  (None, 3, 9, 512)         0         \n",
            "                                                                 \n",
            " block5_conv1 (Conv2D)       (None, 3, 9, 512)         2359808   \n",
            "                                                                 \n",
            " block5_conv2 (Conv2D)       (None, 3, 9, 512)         2359808   \n",
            "                                                                 \n",
            " block5_conv3 (Conv2D)       (None, 3, 9, 512)         2359808   \n",
            "                                                                 \n",
            " block5_pool (MaxPooling2D)  (None, 1, 4, 512)         0         \n",
            "                                                                 \n",
            "=================================================================\n",
            "Total params: 14,714,688\n",
            "Trainable params: 14,714,688\n",
            "Non-trainable params: 0\n",
            "_________________________________________________________________\n"
          ]
        }
      ],
      "source": [
        "model.summary()"
      ]
    },
    {
      "cell_type": "code",
      "execution_count": 4,
      "id": "b72fa7cb",
      "metadata": {
        "id": "b72fa7cb"
      },
      "outputs": [],
      "source": [
        "for l in model.layers:\n",
        "    l.trainable=False"
      ]
    },
    {
      "cell_type": "code",
      "execution_count": null,
      "id": "3b8a5b61",
      "metadata": {
        "id": "3b8a5b61"
      },
      "outputs": [],
      "source": [
        "a = Flatten()(model.output)\n",
        "a = Dense(256, activation='relu')(a)\n",
        "a = BatchNormalization()(a)\n",
        "a = Dropout(0.5)(a)\n",
        "\n",
        "\n",
        "\n",
        "\n",
        "\n",
        "\n",
        "a1 = Dense(128, activation='relu')(a)\n",
        "a1 = BatchNormalization()(a1)\n",
        "\n",
        "out1 = Dense(32, activation=\"softmax\", name=\"out1\")(a1)\n",
        "\n",
        "a2 = Dense(128, activation='relu')(a)\n",
        "a2 = BatchNormalization()(a2)\n",
        "out2 = Dense(32, activation=\"softmax\", name=\"out2\")(a2)\n",
        "\n",
        "a3 = Dense(128, activation='relu')(a)\n",
        "a3 = BatchNormalization()(a3)\n",
        "\n",
        "out3 = Dense(32, activation=\"softmax\", name=\"out3\")(a3)\n",
        "\n",
        "a4 = Dense(128, activation='relu')(a)\n",
        "a4 = BatchNormalization()(a4)\n",
        "out4 = Dense(32, activation=\"softmax\", name=\"out4\")(a4)\n",
        "\n",
        "\n",
        "model2 = Model(model.input,outputs=[out1, out2, out3, out4])\n",
        "model2.compile(\n",
        "    optimizer='adam',\n",
        "    loss={\n",
        "        \"out1\": \"categorical_crossentropy\",\n",
        "        \"out2\": \"categorical_crossentropy\",\n",
        "        \"out3\": \"categorical_crossentropy\",\n",
        "        \"out4\": \"categorical_crossentropy\"\n",
        "    },loss_weights={\"out1\":1.0, \"out2\":1.5, \"out3\":1.5, \"out4\":1.0},\n",
        "    metrics={\n",
        "        \"out1\": [\"accuracy\"],\n",
        "        \"out2\": [\"accuracy\"],\n",
        "        \"out3\": [\"accuracy\"],\n",
        "        \"out4\": [\"accuracy\"]\n",
        "    }\n",
        ")\n",
        "\n",
        "\n"
      ]
    },
    {
      "cell_type": "code",
      "execution_count": 6,
      "id": "08dfffb2",
      "metadata": {
        "colab": {
          "base_uri": "https://localhost:8080/",
          "height": 1000
        },
        "id": "08dfffb2",
        "outputId": "13907e86-e172-4ecc-9235-7c32eb0b620f"
      },
      "outputs": [
        {
          "name": "stdout",
          "output_type": "stream",
          "text": [
            "Model: \"model\"\n",
            "__________________________________________________________________________________________________\n",
            " Layer (type)                   Output Shape         Param #     Connected to                     \n",
            "==================================================================================================\n",
            " input_1 (InputLayer)           [(None, 48, 144, 3)  0           []                               \n",
            "                                ]                                                                 \n",
            "                                                                                                  \n",
            " block1_conv1 (Conv2D)          (None, 48, 144, 64)  1792        ['input_1[0][0]']                \n",
            "                                                                                                  \n",
            " block1_conv2 (Conv2D)          (None, 48, 144, 64)  36928       ['block1_conv1[0][0]']           \n",
            "                                                                                                  \n",
            " block1_pool (MaxPooling2D)     (None, 24, 72, 64)   0           ['block1_conv2[0][0]']           \n",
            "                                                                                                  \n",
            " block2_conv1 (Conv2D)          (None, 24, 72, 128)  73856       ['block1_pool[0][0]']            \n",
            "                                                                                                  \n",
            " block2_conv2 (Conv2D)          (None, 24, 72, 128)  147584      ['block2_conv1[0][0]']           \n",
            "                                                                                                  \n",
            " block2_pool (MaxPooling2D)     (None, 12, 36, 128)  0           ['block2_conv2[0][0]']           \n",
            "                                                                                                  \n",
            " block3_conv1 (Conv2D)          (None, 12, 36, 256)  295168      ['block2_pool[0][0]']            \n",
            "                                                                                                  \n",
            " block3_conv2 (Conv2D)          (None, 12, 36, 256)  590080      ['block3_conv1[0][0]']           \n",
            "                                                                                                  \n",
            " block3_conv3 (Conv2D)          (None, 12, 36, 256)  590080      ['block3_conv2[0][0]']           \n",
            "                                                                                                  \n",
            " block3_pool (MaxPooling2D)     (None, 6, 18, 256)   0           ['block3_conv3[0][0]']           \n",
            "                                                                                                  \n",
            " block4_conv1 (Conv2D)          (None, 6, 18, 512)   1180160     ['block3_pool[0][0]']            \n",
            "                                                                                                  \n",
            " block4_conv2 (Conv2D)          (None, 6, 18, 512)   2359808     ['block4_conv1[0][0]']           \n",
            "                                                                                                  \n",
            " block4_conv3 (Conv2D)          (None, 6, 18, 512)   2359808     ['block4_conv2[0][0]']           \n",
            "                                                                                                  \n",
            " block4_pool (MaxPooling2D)     (None, 3, 9, 512)    0           ['block4_conv3[0][0]']           \n",
            "                                                                                                  \n",
            " block5_conv1 (Conv2D)          (None, 3, 9, 512)    2359808     ['block4_pool[0][0]']            \n",
            "                                                                                                  \n",
            " block5_conv2 (Conv2D)          (None, 3, 9, 512)    2359808     ['block5_conv1[0][0]']           \n",
            "                                                                                                  \n",
            " block5_conv3 (Conv2D)          (None, 3, 9, 512)    2359808     ['block5_conv2[0][0]']           \n",
            "                                                                                                  \n",
            " block5_pool (MaxPooling2D)     (None, 1, 4, 512)    0           ['block5_conv3[0][0]']           \n",
            "                                                                                                  \n",
            " flatten (Flatten)              (None, 2048)         0           ['block5_pool[0][0]']            \n",
            "                                                                                                  \n",
            " dense (Dense)                  (None, 256)          524544      ['flatten[0][0]']                \n",
            "                                                                                                  \n",
            " batch_normalization (BatchNorm  (None, 256)         1024        ['dense[0][0]']                  \n",
            " alization)                                                                                       \n",
            "                                                                                                  \n",
            " dropout (Dropout)              (None, 256)          0           ['batch_normalization[0][0]']    \n",
            "                                                                                                  \n",
            " dense_1 (Dense)                (None, 128)          32896       ['dropout[0][0]']                \n",
            "                                                                                                  \n",
            " dense_2 (Dense)                (None, 128)          32896       ['dropout[0][0]']                \n",
            "                                                                                                  \n",
            " dense_3 (Dense)                (None, 128)          32896       ['dropout[0][0]']                \n",
            "                                                                                                  \n",
            " dense_4 (Dense)                (None, 128)          32896       ['dropout[0][0]']                \n",
            "                                                                                                  \n",
            " batch_normalization_1 (BatchNo  (None, 128)         512         ['dense_1[0][0]']                \n",
            " rmalization)                                                                                     \n",
            "                                                                                                  \n",
            " batch_normalization_2 (BatchNo  (None, 128)         512         ['dense_2[0][0]']                \n",
            " rmalization)                                                                                     \n",
            "                                                                                                  \n",
            " batch_normalization_3 (BatchNo  (None, 128)         512         ['dense_3[0][0]']                \n",
            " rmalization)                                                                                     \n",
            "                                                                                                  \n",
            " batch_normalization_4 (BatchNo  (None, 128)         512         ['dense_4[0][0]']                \n",
            " rmalization)                                                                                     \n",
            "                                                                                                  \n",
            " out1 (Dense)                   (None, 32)           4128        ['batch_normalization_1[0][0]']  \n",
            "                                                                                                  \n",
            " out2 (Dense)                   (None, 32)           4128        ['batch_normalization_2[0][0]']  \n",
            "                                                                                                  \n",
            " out3 (Dense)                   (None, 32)           4128        ['batch_normalization_3[0][0]']  \n",
            "                                                                                                  \n",
            " out4 (Dense)                   (None, 32)           4128        ['batch_normalization_4[0][0]']  \n",
            "                                                                                                  \n",
            "==================================================================================================\n",
            "Total params: 15,390,400\n",
            "Trainable params: 674,176\n",
            "Non-trainable params: 14,716,224\n",
            "__________________________________________________________________________________________________\n"
          ]
        }
      ],
      "source": [
        "model2.summary()\n"
      ]
    },
    {
      "cell_type": "code",
      "execution_count": 7,
      "id": "3815bf66",
      "metadata": {
        "colab": {
          "base_uri": "https://localhost:8080/"
        },
        "id": "3815bf66",
        "outputId": "20dc4770-c9d0-446e-d335-b92ec6ad14b4"
      },
      "outputs": [],
      "source": [
        "with open('encoder.bin','rb')as f:\n",
        "    encoder = pickle.load(f)"
      ]
    },
    {
      "cell_type": "code",
      "execution_count": 8,
      "id": "a2dfb49f",
      "metadata": {
        "colab": {
          "base_uri": "https://localhost:8080/"
        },
        "id": "a2dfb49f",
        "outputId": "3c4fb952-9ec6-4d08-f4b0-addaa7e360a3"
      },
      "outputs": [
        {
          "data": {
            "text/plain": [
              "array(['2', '3', '4', '5', '6', '7', '8', '9', 'A', 'B', 'C', 'D', 'E',\n",
              "       'F', 'G', 'H', 'J', 'K', 'L', 'M', 'N', 'P', 'Q', 'R', 'S', 'T',\n",
              "       'U', 'V', 'W', 'X', 'Y', 'Z'], dtype='<U1')"
            ]
          },
          "execution_count": 8,
          "metadata": {},
          "output_type": "execute_result"
        }
      ],
      "source": [
        "encoder.classes_"
      ]
    },
    {
      "cell_type": "code",
      "execution_count": 9,
      "id": "2e5472b9",
      "metadata": {
        "id": "2e5472b9"
      },
      "outputs": [],
      "source": [
        "# def datagenerator(path, batch_size=100):\n",
        "#     pattern= os.path.join(path,'*.png')\n",
        "#     fills= glob(pattern)\n",
        "#     while True:\n",
        "#         offset=0\n",
        "#         while offset<len(fills):\n",
        "#             items = fills[offset:offset+batch_size]\n",
        "#             offset+=batch_size\n",
        "#             x = []\n",
        "#             y1 = []\n",
        "#             y2 = []\n",
        "#             y3 = []\n",
        "#             y4 = []\n",
        "#             for f in items:\n",
        "#                 char = list(os.path.splitext(os.path.basename(f))[0])\n",
        "#                 if len(char)!=4:\n",
        "#                     continue\n",
        "#                 im = cv2.imread(f)\n",
        "#                 im = cv2.cvtColor(im,cv2.COLOR_BGR2RGB)\n",
        "#                 im = cv2.resize(im,(144,48)).astype(np.float32)\n",
        "#                 im = imagenet_utils.preprocess_input(im)\n",
        "#                 x.append(im)\n",
        "#                 char = [to_categorical(encoder.transform([i]),num_classes=len(encoder.classes_)).reshape(-1) for i in char]\n",
        "#                 y1.append(char[0])\n",
        "#                 y2.append(char[1])\n",
        "#                 y3.append(char[2])\n",
        "#                 y4.append(char[3])\n",
        "#             X = np.array(x,ndmin=4)\n",
        "#             Y1 = np.array(y1)\n",
        "#             Y2 = np.array(y2)\n",
        "#             Y3 = np.array(y3)\n",
        "#             Y4 = np.array(y4)\n",
        "#             yield X,(Y1,Y2,Y3,Y4)"
      ]
    },
    {
      "cell_type": "code",
      "execution_count": 10,
      "id": "3079cee7",
      "metadata": {
        "id": "3079cee7"
      },
      "outputs": [],
      "source": [
        "# data = datagenerator('train')\n",
        "# for x,y in data:\n",
        "#     print(len(x),len(y))\n",
        "#     # print(x.shape,y.shape)"
      ]
    },
    {
      "cell_type": "code",
      "execution_count": 11,
      "id": "JBBZbVBQZjzm",
      "metadata": {
        "id": "JBBZbVBQZjzm"
      },
      "outputs": [],
      "source": [
        "# # تعریف output_signature برای ۴ خروجی\n",
        "# num_classes = len(encoder.classes_)\n",
        "# output_signature = (\n",
        "#     tf.TensorSpec(shape=(None, 48, 144, 3), dtype=tf.float32),  # ورودی تصویر\n",
        "#     (\n",
        "#         tf.TensorSpec(shape=(None, num_classes), dtype=tf.float32),  # Y1\n",
        "#         tf.TensorSpec(shape=(None, num_classes), dtype=tf.float32),  # Y2\n",
        "#         tf.TensorSpec(shape=(None, num_classes), dtype=tf.float32),  # Y3\n",
        "#         tf.TensorSpec(shape=(None, num_classes), dtype=tf.float32)   # Y4\n",
        "#     )\n",
        "# )\n",
        "\n",
        "\n",
        "# def create_dataset(path, batch_size=100):\n",
        "#     def gen():\n",
        "#         return datagenerator(path, batch_size)\n",
        "\n",
        "#     dataset = tf.data.Dataset.from_generator(\n",
        "#         gen,\n",
        "#         output_signature=output_signature\n",
        "#     )\n",
        "#     return dataset\n",
        "\n"
      ]
    },
    {
      "cell_type": "code",
      "execution_count": 12,
      "id": "e18786e8",
      "metadata": {
        "colab": {
          "base_uri": "https://localhost:8080/"
        },
        "id": "e18786e8",
        "outputId": "a4b41b3f-a7cf-490c-fcea-29d233f2b05b"
      },
      "outputs": [],
      "source": [
        "# train_dir = 'train'\n",
        "# val_dir   = 'test'\n",
        "\n",
        "# batch_size = 100\n",
        "# steps_per_epoch  = max(1, len(glob(train_dir+'/*.png')) // batch_size)\n",
        "# val_steps        = max(1, len(glob(val_dir  +'/*.png')) // batch_size)\n",
        "\n",
        "# # h = model2.fit(\n",
        "# #     datagenerator(train_dir, batch_size=batch_size),\n",
        "# #     steps_per_epoch=steps_per_epoch,\n",
        "# #     epochs=40\n",
        "# # )\n",
        "\n",
        "\n",
        "\n",
        "# train_dataset = create_dataset(train_dir, batch_size)\n",
        "# val_dataset = create_dataset(val_dir, batch_size)\n",
        "\n",
        "# h = model2.fit(\n",
        "#     train_dataset,\n",
        "#     steps_per_epoch=steps_per_epoch,\n",
        "#     epochs=50,\n",
        "#     validation_data=val_dataset,\n",
        "#     validation_steps=val_steps\n",
        "# )"
      ]
    },
    {
      "cell_type": "code",
      "execution_count": null,
      "id": "05d833d1",
      "metadata": {},
      "outputs": [],
      "source": [
        "def load_data(p):\n",
        "    pattern = os.path.join(p,'*.png')\n",
        "    files = glob(pattern)\n",
        "    x = []\n",
        "    y1 = []\n",
        "    y2 = []\n",
        "    y3 = []\n",
        "    y4 = []\n",
        "    for f in files:\n",
        "        char = list(os.path.splitext(os.path.basename(f))[0])\n",
        "        if len(char)!=4:\n",
        "            continue\n",
        "        im = cv2.imread(f)\n",
        "        # im = img_to_array(im)\n",
        "        im = cv2.resize(im,(144,48))\n",
        "        im = imagenet_utils.preprocess_input(im)\n",
        "        \n",
        "        x.append(im)\n",
        "        char = [to_categorical(encoder.transform([i])[0], num_classes=len(encoder.classes_)) for i in char]\n",
        "\n",
        "        y1.append(char[0])\n",
        "        y2.append(char[1])\n",
        "        y3.append(char[2])\n",
        "        y4.append(char[3])\n",
        "    X = np.array(x,ndmin=4)\n",
        "    Y1 = np.array(y1)\n",
        "    Y2 = np.array(y2)\n",
        "    Y3 = np.array(y3)\n",
        "    Y4 = np.array(y4)\n",
        "    return X,Y1,Y2,Y3,Y4\n",
        "\n",
        "x_train,Y1,Y2,Y3,Y4 = load_data('../2_1_Convolutional/train/')\n",
        "h = model2.fit(x_train, {\"out1\": Y1, \"out2\": Y2, \"out3\": Y3, \"out4\": Y4}, epochs=20)\n",
        "\n"
      ]
    },
    {
      "cell_type": "code",
      "execution_count": 15,
      "id": "7288eaaa",
      "metadata": {
        "colab": {
          "base_uri": "https://localhost:8080/",
          "height": 266
        },
        "id": "7288eaaa",
        "outputId": "6f8e3bc2-40e3-42f2-811d-332ddf17bfa0"
      },
      "outputs": [
        {
          "name": "stderr",
          "output_type": "stream",
          "text": [
            "Clipping input data to the valid range for imshow with RGB data ([0..1] for floats or [0..255] for integers).\n"
          ]
        },
        {
          "data": {
            "text/plain": [
              "<matplotlib.image.AxesImage at 0x1f13fb406d0>"
            ]
          },
          "execution_count": 15,
          "metadata": {},
          "output_type": "execute_result"
        },
        {
          "data": {
            "image/png": "[encoded data removed]",
            "text/plain": [
              "<Figure size 640x480 with 1 Axes>"
            ]
          },
          "metadata": {},
          "output_type": "display_data"
        }
      ],
      "source": [
        "f = ('../2_1_Convolutional/test/UMEL.png')\n",
        "im = cv2.imread(f)\n",
        "im = cv2.cvtColor(im,cv2.COLOR_BGR2RGB)\n",
        "im = cv2.resize(im,(144,48))\n",
        "f = imagenet_utils.preprocess_input(im)\n",
        "# f = cv2.resize(f,(144,48))\n",
        "# f.shape\n",
        "plt.imshow(f)\n"
      ]
    },
    {
      "cell_type": "code",
      "execution_count": 16,
      "id": "db598832",
      "metadata": {
        "colab": {
          "base_uri": "https://localhost:8080/"
        },
        "id": "db598832",
        "outputId": "f22239ac-7f15-4ff8-d785-4d546cca1cf1"
      },
      "outputs": [
        {
          "name": "stdout",
          "output_type": "stream",
          "text": [
            "1/1 [==============================] - 1s 1s/step\n"
          ]
        }
      ],
      "source": [
        "p = model2.predict(f.reshape(1,48,144,3))\n"
      ]
    },
    {
      "cell_type": "code",
      "execution_count": 17,
      "id": "9527eadb",
      "metadata": {
        "colab": {
          "base_uri": "https://localhost:8080/"
        },
        "id": "9527eadb",
        "outputId": "91df26d8-9236-4990-c019-d2361f644a2c"
      },
      "outputs": [
        {
          "name": "stdout",
          "output_type": "stream",
          "text": [
            "['U']\n",
            "['M']\n",
            "['H']\n",
            "['L']\n"
          ]
        }
      ],
      "source": [
        "for i in p:\n",
        "    # print(np.argmax(i))\n",
        "    print(encoder.inverse_transform([np.argmax(i)]))"
      ]
    },
    {
      "cell_type": "code",
      "execution_count": null,
      "id": "AD_Fm17fd9gW",
      "metadata": {
        "id": "AD_Fm17fd9gW"
      },
      "outputs": [],
      "source": [
        "model2.save('model2.keras')"
      ]
    },
    {
      "cell_type": "code",
      "execution_count": null,
      "id": "5NTthbvJfIJc",
      "metadata": {
        "id": "5NTthbvJfIJc"
      },
      "outputs": [],
      "source": []
    }
  ],
  "metadata": {
    "accelerator": "GPU",
    "colab": {
      "gpuType": "T4",
      "provenance": []
    },
    "kernelspec": {
      "display_name": "tf-gpu-env",
      "language": "python",
      "name": "python3"
    },
    "language_info": {
      "codemirror_mode": {
        "name": "ipython",
        "version": 3
      },
      "file_extension": ".py",
      "mimetype": "text/x-python",
      "name": "python",
      "nbconvert_exporter": "python",
      "pygments_lexer": "ipython3",
      "version": "3.8.20"
    }
  },
  "nbformat": 4,
  "nbformat_minor": 5
}
