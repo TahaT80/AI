{
  "cells": [
    {
      "cell_type": "code",
      "execution_count": 1,
      "id": "c698c3df",
      "metadata": {
        "id": "c698c3df"
      },
      "outputs": [],
      "source": [
        "from keras.applications import VGG16\n",
        "from keras.applications import imagenet_utils\n",
        "# from keras.preprocessing.image import img_to_array\n",
        "# from keras.preprocessing.image import load_img\n",
        "from keras.layers import Flatten\n",
        "from keras.layers import Dense\n",
        "from keras.models import Model\n",
        "import numpy as np\n",
        "from keras.layers import Dropout\n",
        "import matplotlib.pyplot as plt\n",
        "import tensorflow as tf\n",
        "from glob import glob\n",
        "import os\n",
        "import cv2\n",
        "import pickle\n",
        "from keras.utils import to_categorical\n",
        "from sklearn.preprocessing import LabelEncoder"
      ]
    },
    {
      "cell_type": "code",
      "execution_count": 2,
      "id": "377276d9",
      "metadata": {
        "id": "377276d9"
      },
      "outputs": [],
      "source": [
        "model = VGG16(include_top=False,input_shape=(48,144,3),pooling=None)"
      ]
    },
    {
      "cell_type": "code",
      "execution_count": 3,
      "id": "3d2b738f",
      "metadata": {
        "colab": {
          "base_uri": "https://localhost:8080/",
          "height": 767
        },
        "id": "3d2b738f",
        "outputId": "657d8333-99fc-4511-c77b-42857a10c1f3"
      },
      "outputs": [
        {
          "name": "stdout",
          "output_type": "stream",
          "text": [
            "Model: \"vgg16\"\n",
            "_________________________________________________________________\n",
            " Layer (type)                Output Shape              Param #   \n",
            "=================================================================\n",
            " input_1 (InputLayer)        [(None, 48, 144, 3)]      0         \n",
            "                                                                 \n",
            " block1_conv1 (Conv2D)       (None, 48, 144, 64)       1792      \n",
            "                                                                 \n",
            " block1_conv2 (Conv2D)       (None, 48, 144, 64)       36928     \n",
            "                                                                 \n",
            " block1_pool (MaxPooling2D)  (None, 24, 72, 64)        0         \n",
            "                                                                 \n",
            " block2_conv1 (Conv2D)       (None, 24, 72, 128)       73856     \n",
            "                                                                 \n",
            " block2_conv2 (Conv2D)       (None, 24, 72, 128)       147584    \n",
            "                                                                 \n",
            " block2_pool (MaxPooling2D)  (None, 12, 36, 128)       0         \n",
            "                                                                 \n",
            " block3_conv1 (Conv2D)       (None, 12, 36, 256)       295168    \n",
            "                                                                 \n",
            " block3_conv2 (Conv2D)       (None, 12, 36, 256)       590080    \n",
            "                                                                 \n",
            " block3_conv3 (Conv2D)       (None, 12, 36, 256)       590080    \n",
            "                                                                 \n",
            " block3_pool (MaxPooling2D)  (None, 6, 18, 256)        0         \n",
            "                                                                 \n",
            " block4_conv1 (Conv2D)       (None, 6, 18, 512)        1180160   \n",
            "                                                                 \n",
            " block4_conv2 (Conv2D)       (None, 6, 18, 512)        2359808   \n",
            "                                                                 \n",
            " block4_conv3 (Conv2D)       (None, 6, 18, 512)        2359808   \n",
            "                                                                 \n",
            " block4_pool (MaxPooling2D)  (None, 3, 9, 512)         0         \n",
            "                                                                 \n",
            " block5_conv1 (Conv2D)       (None, 3, 9, 512)         2359808   \n",
            "                                                                 \n",
            " block5_conv2 (Conv2D)       (None, 3, 9, 512)         2359808   \n",
            "                                                                 \n",
            " block5_conv3 (Conv2D)       (None, 3, 9, 512)         2359808   \n",
            "                                                                 \n",
            " block5_pool (MaxPooling2D)  (None, 1, 4, 512)         0         \n",
            "                                                                 \n",
            "=================================================================\n",
            "Total params: 14,714,688\n",
            "Trainable params: 14,714,688\n",
            "Non-trainable params: 0\n",
            "_________________________________________________________________\n"
          ]
        }
      ],
      "source": [
        "model.summary()"
      ]
    },
    {
      "cell_type": "code",
      "execution_count": 4,
      "id": "b72fa7cb",
      "metadata": {
        "id": "b72fa7cb"
      },
      "outputs": [],
      "source": [
        "for l in model.layers:\n",
        "    l.trainable=False"
      ]
    },
    {
      "cell_type": "code",
      "execution_count": 5,
      "id": "3b8a5b61",
      "metadata": {
        "id": "3b8a5b61"
      },
      "outputs": [],
      "source": [
        "a = Flatten()(model.output)\n",
        "a = Dense(256, activation='relu')(a)\n",
        "a = Dropout(0.5)(a)\n",
        "a = Dense(128, activation='relu')(a)\n",
        "\n",
        "\n",
        "out1 = Dense(32, activation=\"softmax\", name=\"out1\")(a)\n",
        "out2 = Dense(32, activation=\"softmax\", name=\"out2\")(a)\n",
        "out3 = Dense(32, activation=\"softmax\", name=\"out3\")(a)\n",
        "out4 = Dense(32, activation=\"softmax\", name=\"out4\")(a)\n",
        "\n",
        "\n",
        "model2 = Model(model.input,outputs=[out1, out2, out3, out4])\n",
        "model2.compile(\n",
        "    optimizer='adam',\n",
        "    loss={\n",
        "        \"out1\": \"categorical_crossentropy\",\n",
        "        \"out2\": \"categorical_crossentropy\",\n",
        "        \"out3\": \"categorical_crossentropy\",\n",
        "        \"out4\": \"categorical_crossentropy\"\n",
        "    },\n",
        "    metrics={\n",
        "        \"out1\": [\"accuracy\"],\n",
        "        \"out2\": [\"accuracy\"],\n",
        "        \"out3\": [\"accuracy\"],\n",
        "        \"out4\": [\"accuracy\"]\n",
        "    }\n",
        ")\n",
        "\n",
        "\n"
      ]
    },
    {
      "cell_type": "code",
      "execution_count": 6,
      "id": "08dfffb2",
      "metadata": {
        "colab": {
          "base_uri": "https://localhost:8080/",
          "height": 1000
        },
        "id": "08dfffb2",
        "outputId": "13907e86-e172-4ecc-9235-7c32eb0b620f"
      },
      "outputs": [
        {
          "name": "stdout",
          "output_type": "stream",
          "text": [
            "Model: \"model\"\n",
            "__________________________________________________________________________________________________\n",
            " Layer (type)                   Output Shape         Param #     Connected to                     \n",
            "==================================================================================================\n",
            " input_1 (InputLayer)           [(None, 48, 144, 3)  0           []                               \n",
            "                                ]                                                                 \n",
            "                                                                                                  \n",
            " block1_conv1 (Conv2D)          (None, 48, 144, 64)  1792        ['input_1[0][0]']                \n",
            "                                                                                                  \n",
            " block1_conv2 (Conv2D)          (None, 48, 144, 64)  36928       ['block1_conv1[0][0]']           \n",
            "                                                                                                  \n",
            " block1_pool (MaxPooling2D)     (None, 24, 72, 64)   0           ['block1_conv2[0][0]']           \n",
            "                                                                                                  \n",
            " block2_conv1 (Conv2D)          (None, 24, 72, 128)  73856       ['block1_pool[0][0]']            \n",
            "                                                                                                  \n",
            " block2_conv2 (Conv2D)          (None, 24, 72, 128)  147584      ['block2_conv1[0][0]']           \n",
            "                                                                                                  \n",
            " block2_pool (MaxPooling2D)     (None, 12, 36, 128)  0           ['block2_conv2[0][0]']           \n",
            "                                                                                                  \n",
            " block3_conv1 (Conv2D)          (None, 12, 36, 256)  295168      ['block2_pool[0][0]']            \n",
            "                                                                                                  \n",
            " block3_conv2 (Conv2D)          (None, 12, 36, 256)  590080      ['block3_conv1[0][0]']           \n",
            "                                                                                                  \n",
            " block3_conv3 (Conv2D)          (None, 12, 36, 256)  590080      ['block3_conv2[0][0]']           \n",
            "                                                                                                  \n",
            " block3_pool (MaxPooling2D)     (None, 6, 18, 256)   0           ['block3_conv3[0][0]']           \n",
            "                                                                                                  \n",
            " block4_conv1 (Conv2D)          (None, 6, 18, 512)   1180160     ['block3_pool[0][0]']            \n",
            "                                                                                                  \n",
            " block4_conv2 (Conv2D)          (None, 6, 18, 512)   2359808     ['block4_conv1[0][0]']           \n",
            "                                                                                                  \n",
            " block4_conv3 (Conv2D)          (None, 6, 18, 512)   2359808     ['block4_conv2[0][0]']           \n",
            "                                                                                                  \n",
            " block4_pool (MaxPooling2D)     (None, 3, 9, 512)    0           ['block4_conv3[0][0]']           \n",
            "                                                                                                  \n",
            " block5_conv1 (Conv2D)          (None, 3, 9, 512)    2359808     ['block4_pool[0][0]']            \n",
            "                                                                                                  \n",
            " block5_conv2 (Conv2D)          (None, 3, 9, 512)    2359808     ['block5_conv1[0][0]']           \n",
            "                                                                                                  \n",
            " block5_conv3 (Conv2D)          (None, 3, 9, 512)    2359808     ['block5_conv2[0][0]']           \n",
            "                                                                                                  \n",
            " block5_pool (MaxPooling2D)     (None, 1, 4, 512)    0           ['block5_conv3[0][0]']           \n",
            "                                                                                                  \n",
            " flatten (Flatten)              (None, 2048)         0           ['block5_pool[0][0]']            \n",
            "                                                                                                  \n",
            " dense (Dense)                  (None, 256)          524544      ['flatten[0][0]']                \n",
            "                                                                                                  \n",
            " dropout (Dropout)              (None, 256)          0           ['dense[0][0]']                  \n",
            "                                                                                                  \n",
            " dense_1 (Dense)                (None, 128)          32896       ['dropout[0][0]']                \n",
            "                                                                                                  \n",
            " out1 (Dense)                   (None, 32)           4128        ['dense_1[0][0]']                \n",
            "                                                                                                  \n",
            " out2 (Dense)                   (None, 32)           4128        ['dense_1[0][0]']                \n",
            "                                                                                                  \n",
            " out3 (Dense)                   (None, 32)           4128        ['dense_1[0][0]']                \n",
            "                                                                                                  \n",
            " out4 (Dense)                   (None, 32)           4128        ['dense_1[0][0]']                \n",
            "                                                                                                  \n",
            "==================================================================================================\n",
            "Total params: 15,288,640\n",
            "Trainable params: 573,952\n",
            "Non-trainable params: 14,714,688\n",
            "__________________________________________________________________________________________________\n"
          ]
        }
      ],
      "source": [
        "model2.summary()\n"
      ]
    },
    {
      "cell_type": "code",
      "execution_count": 7,
      "id": "3815bf66",
      "metadata": {
        "colab": {
          "base_uri": "https://localhost:8080/"
        },
        "id": "3815bf66",
        "outputId": "20dc4770-c9d0-446e-d335-b92ec6ad14b4"
      },
      "outputs": [],
      "source": [
        "with open('encoder.bin','rb')as f:\n",
        "    encoder = pickle.load(f)"
      ]
    },
    {
      "cell_type": "code",
      "execution_count": 8,
      "id": "a2dfb49f",
      "metadata": {
        "colab": {
          "base_uri": "https://localhost:8080/"
        },
        "id": "a2dfb49f",
        "outputId": "3c4fb952-9ec6-4d08-f4b0-addaa7e360a3"
      },
      "outputs": [
        {
          "data": {
            "text/plain": [
              "array(['2', '3', '4', '5', '6', '7', '8', '9', 'A', 'B', 'C', 'D', 'E',\n",
              "       'F', 'G', 'H', 'J', 'K', 'L', 'M', 'N', 'P', 'Q', 'R', 'S', 'T',\n",
              "       'U', 'V', 'W', 'X', 'Y', 'Z'], dtype='<U1')"
            ]
          },
          "execution_count": 8,
          "metadata": {},
          "output_type": "execute_result"
        }
      ],
      "source": [
        "encoder.classes_"
      ]
    },
    {
      "cell_type": "code",
      "execution_count": 9,
      "id": "2e5472b9",
      "metadata": {
        "id": "2e5472b9"
      },
      "outputs": [],
      "source": [
        "# def datagenerator(path, batch_size=100):\n",
        "#     pattern= os.path.join(path,'*.png')\n",
        "#     fills= glob(pattern)\n",
        "#     while True:\n",
        "#         offset=0\n",
        "#         while offset<len(fills):\n",
        "#             items = fills[offset:offset+batch_size]\n",
        "#             offset+=batch_size\n",
        "#             x = []\n",
        "#             y1 = []\n",
        "#             y2 = []\n",
        "#             y3 = []\n",
        "#             y4 = []\n",
        "#             for f in items:\n",
        "#                 char = list(os.path.splitext(os.path.basename(f))[0])\n",
        "#                 if len(char)!=4:\n",
        "#                     continue\n",
        "#                 im = cv2.imread(f)\n",
        "#                 im = cv2.cvtColor(im,cv2.COLOR_BGR2RGB)\n",
        "#                 im = cv2.resize(im,(144,48)).astype(np.float32)\n",
        "#                 im = imagenet_utils.preprocess_input(im)\n",
        "#                 x.append(im)\n",
        "#                 char = [to_categorical(encoder.transform([i]),num_classes=len(encoder.classes_)).reshape(-1) for i in char]\n",
        "#                 y1.append(char[0])\n",
        "#                 y2.append(char[1])\n",
        "#                 y3.append(char[2])\n",
        "#                 y4.append(char[3])\n",
        "#             X = np.array(x,ndmin=4)\n",
        "#             Y1 = np.array(y1)\n",
        "#             Y2 = np.array(y2)\n",
        "#             Y3 = np.array(y3)\n",
        "#             Y4 = np.array(y4)\n",
        "#             yield X,(Y1,Y2,Y3,Y4)"
      ]
    },
    {
      "cell_type": "code",
      "execution_count": 10,
      "id": "3079cee7",
      "metadata": {
        "id": "3079cee7"
      },
      "outputs": [],
      "source": [
        "# data = datagenerator('train')\n",
        "# for x,y in data:\n",
        "#     print(len(x),len(y))\n",
        "#     # print(x.shape,y.shape)"
      ]
    },
    {
      "cell_type": "code",
      "execution_count": 11,
      "id": "JBBZbVBQZjzm",
      "metadata": {
        "id": "JBBZbVBQZjzm"
      },
      "outputs": [],
      "source": [
        "# # تعریف output_signature برای ۴ خروجی\n",
        "# num_classes = len(encoder.classes_)\n",
        "# output_signature = (\n",
        "#     tf.TensorSpec(shape=(None, 48, 144, 3), dtype=tf.float32),  # ورودی تصویر\n",
        "#     (\n",
        "#         tf.TensorSpec(shape=(None, num_classes), dtype=tf.float32),  # Y1\n",
        "#         tf.TensorSpec(shape=(None, num_classes), dtype=tf.float32),  # Y2\n",
        "#         tf.TensorSpec(shape=(None, num_classes), dtype=tf.float32),  # Y3\n",
        "#         tf.TensorSpec(shape=(None, num_classes), dtype=tf.float32)   # Y4\n",
        "#     )\n",
        "# )\n",
        "\n",
        "\n",
        "# def create_dataset(path, batch_size=100):\n",
        "#     def gen():\n",
        "#         return datagenerator(path, batch_size)\n",
        "\n",
        "#     dataset = tf.data.Dataset.from_generator(\n",
        "#         gen,\n",
        "#         output_signature=output_signature\n",
        "#     )\n",
        "#     return dataset\n",
        "\n"
      ]
    },
    {
      "cell_type": "code",
      "execution_count": 12,
      "id": "e18786e8",
      "metadata": {
        "colab": {
          "base_uri": "https://localhost:8080/"
        },
        "id": "e18786e8",
        "outputId": "a4b41b3f-a7cf-490c-fcea-29d233f2b05b"
      },
      "outputs": [],
      "source": [
        "# train_dir = 'train'\n",
        "# val_dir   = 'test'\n",
        "\n",
        "# batch_size = 100\n",
        "# steps_per_epoch  = max(1, len(glob(train_dir+'/*.png')) // batch_size)\n",
        "# val_steps        = max(1, len(glob(val_dir  +'/*.png')) // batch_size)\n",
        "\n",
        "# # h = model2.fit(\n",
        "# #     datagenerator(train_dir, batch_size=batch_size),\n",
        "# #     steps_per_epoch=steps_per_epoch,\n",
        "# #     epochs=40\n",
        "# # )\n",
        "\n",
        "\n",
        "\n",
        "# train_dataset = create_dataset(train_dir, batch_size)\n",
        "# val_dataset = create_dataset(val_dir, batch_size)\n",
        "\n",
        "# h = model2.fit(\n",
        "#     train_dataset,\n",
        "#     steps_per_epoch=steps_per_epoch,\n",
        "#     epochs=50,\n",
        "#     validation_data=val_dataset,\n",
        "#     validation_steps=val_steps\n",
        "# )"
      ]
    },
    {
      "cell_type": "code",
      "execution_count": 13,
      "id": "05d833d1",
      "metadata": {},
      "outputs": [
        {
          "name": "stdout",
          "output_type": "stream",
          "text": [
            "Epoch 1/20\n",
            "308/308 [==============================] - 41s 112ms/step - loss: 13.6867 - out1_loss: 3.1859 - out2_loss: 3.5498 - out3_loss: 3.5356 - out4_loss: 3.4154 - out1_accuracy: 0.1558 - out2_accuracy: 0.0594 - out3_accuracy: 0.0664 - out4_accuracy: 0.0952\n",
            "Epoch 2/20\n",
            "308/308 [==============================] - 29s 93ms/step - loss: 11.2046 - out1_loss: 2.0770 - out2_loss: 3.2391 - out3_loss: 3.1453 - out4_loss: 2.7433 - out1_accuracy: 0.3843 - out2_accuracy: 0.1106 - out3_accuracy: 0.1288 - out4_accuracy: 0.2281\n",
            "Epoch 3/20\n",
            "308/308 [==============================] - 31s 100ms/step - loss: 9.8327 - out1_loss: 1.6278 - out2_loss: 2.9990 - out3_loss: 2.9066 - out4_loss: 2.2993 - out1_accuracy: 0.4806 - out2_accuracy: 0.1591 - out3_accuracy: 0.1855 - out4_accuracy: 0.3177\n",
            "Epoch 4/20\n",
            "308/308 [==============================] - 28s 91ms/step - loss: 9.0431 - out1_loss: 1.4104 - out2_loss: 2.8222 - out3_loss: 2.7401 - out4_loss: 2.0704 - out1_accuracy: 0.5424 - out2_accuracy: 0.1888 - out3_accuracy: 0.2143 - out4_accuracy: 0.3734\n",
            "Epoch 5/20\n",
            "308/308 [==============================] - 27s 88ms/step - loss: 8.5257 - out1_loss: 1.2700 - out2_loss: 2.6877 - out3_loss: 2.6186 - out4_loss: 1.9494 - out1_accuracy: 0.5820 - out2_accuracy: 0.2108 - out3_accuracy: 0.2370 - out4_accuracy: 0.4021\n",
            "Epoch 6/20\n",
            "308/308 [==============================] - 28s 90ms/step - loss: 8.0749 - out1_loss: 1.1755 - out2_loss: 2.5651 - out3_loss: 2.5326 - out4_loss: 1.8016 - out1_accuracy: 0.6166 - out2_accuracy: 0.2378 - out3_accuracy: 0.2514 - out4_accuracy: 0.4368\n",
            "Epoch 7/20\n",
            "308/308 [==============================] - 28s 91ms/step - loss: 7.7587 - out1_loss: 1.1060 - out2_loss: 2.4830 - out3_loss: 2.4530 - out4_loss: 1.7167 - out1_accuracy: 0.6334 - out2_accuracy: 0.2534 - out3_accuracy: 0.2717 - out4_accuracy: 0.4634\n",
            "Epoch 8/20\n",
            "308/308 [==============================] - 28s 92ms/step - loss: 7.5457 - out1_loss: 1.0514 - out2_loss: 2.4003 - out3_loss: 2.4222 - out4_loss: 1.6718 - out1_accuracy: 0.6464 - out2_accuracy: 0.2784 - out3_accuracy: 0.2830 - out4_accuracy: 0.4652\n",
            "Epoch 9/20\n",
            "308/308 [==============================] - 28s 90ms/step - loss: 7.3323 - out1_loss: 1.0137 - out2_loss: 2.3568 - out3_loss: 2.3427 - out4_loss: 1.6191 - out1_accuracy: 0.6578 - out2_accuracy: 0.2855 - out3_accuracy: 0.2944 - out4_accuracy: 0.4880\n",
            "Epoch 10/20\n",
            "308/308 [==============================] - 27s 87ms/step - loss: 7.1679 - out1_loss: 0.9696 - out2_loss: 2.3126 - out3_loss: 2.3234 - out4_loss: 1.5623 - out1_accuracy: 0.6737 - out2_accuracy: 0.2958 - out3_accuracy: 0.3035 - out4_accuracy: 0.4968\n",
            "Epoch 11/20\n",
            "308/308 [==============================] - 27s 87ms/step - loss: 6.9805 - out1_loss: 0.9448 - out2_loss: 2.2685 - out3_loss: 2.2562 - out4_loss: 1.5111 - out1_accuracy: 0.6852 - out2_accuracy: 0.3039 - out3_accuracy: 0.3230 - out4_accuracy: 0.5176\n",
            "Epoch 12/20\n",
            "308/308 [==============================] - 28s 92ms/step - loss: 6.8597 - out1_loss: 0.9042 - out2_loss: 2.2442 - out3_loss: 2.2399 - out4_loss: 1.4714 - out1_accuracy: 0.6991 - out2_accuracy: 0.3137 - out3_accuracy: 0.3210 - out4_accuracy: 0.5250\n",
            "Epoch 13/20\n",
            "308/308 [==============================] - 32s 103ms/step - loss: 6.7568 - out1_loss: 0.8883 - out2_loss: 2.2165 - out3_loss: 2.2034 - out4_loss: 1.4486 - out1_accuracy: 0.7033 - out2_accuracy: 0.3206 - out3_accuracy: 0.3276 - out4_accuracy: 0.5291\n",
            "Epoch 14/20\n",
            "308/308 [==============================] - 31s 100ms/step - loss: 6.5914 - out1_loss: 0.8516 - out2_loss: 2.1672 - out3_loss: 2.1656 - out4_loss: 1.4070 - out1_accuracy: 0.7178 - out2_accuracy: 0.3380 - out3_accuracy: 0.3369 - out4_accuracy: 0.5469\n",
            "Epoch 15/20\n",
            "308/308 [==============================] - 30s 98ms/step - loss: 6.4951 - out1_loss: 0.8409 - out2_loss: 2.1342 - out3_loss: 2.1319 - out4_loss: 1.3881 - out1_accuracy: 0.7159 - out2_accuracy: 0.3429 - out3_accuracy: 0.3438 - out4_accuracy: 0.5508\n",
            "Epoch 16/20\n",
            "308/308 [==============================] - 28s 89ms/step - loss: 6.4563 - out1_loss: 0.8394 - out2_loss: 2.1057 - out3_loss: 2.1345 - out4_loss: 1.3768 - out1_accuracy: 0.7169 - out2_accuracy: 0.3455 - out3_accuracy: 0.3492 - out4_accuracy: 0.5547\n",
            "Epoch 17/20\n",
            "308/308 [==============================] - 28s 92ms/step - loss: 6.3629 - out1_loss: 0.8186 - out2_loss: 2.0843 - out3_loss: 2.0981 - out4_loss: 1.3618 - out1_accuracy: 0.7214 - out2_accuracy: 0.3521 - out3_accuracy: 0.3525 - out4_accuracy: 0.5608\n",
            "Epoch 18/20\n",
            "308/308 [==============================] - 29s 93ms/step - loss: 6.2832 - out1_loss: 0.8077 - out2_loss: 2.0762 - out3_loss: 2.0737 - out4_loss: 1.3255 - out1_accuracy: 0.7259 - out2_accuracy: 0.3553 - out3_accuracy: 0.3617 - out4_accuracy: 0.5722\n",
            "Epoch 19/20\n",
            "308/308 [==============================] - 29s 94ms/step - loss: 6.1995 - out1_loss: 0.7912 - out2_loss: 2.0522 - out3_loss: 2.0474 - out4_loss: 1.3087 - out1_accuracy: 0.7320 - out2_accuracy: 0.3657 - out3_accuracy: 0.3616 - out4_accuracy: 0.5762\n",
            "Epoch 20/20\n",
            "308/308 [==============================] - 28s 91ms/step - loss: 6.1368 - out1_loss: 0.7784 - out2_loss: 2.0269 - out3_loss: 2.0417 - out4_loss: 1.2898 - out1_accuracy: 0.7371 - out2_accuracy: 0.3636 - out3_accuracy: 0.3709 - out4_accuracy: 0.5800\n"
          ]
        }
      ],
      "source": [
        "def load_data(p):\n",
        "    pattern = os.path.join(p,'*.png')\n",
        "    files = glob(pattern)\n",
        "    x = []\n",
        "    y1 = []\n",
        "    y2 = []\n",
        "    y3 = []\n",
        "    y4 = []\n",
        "    for f in files:\n",
        "        char = list(os.path.splitext(os.path.basename(f))[0])\n",
        "        if len(char)!=4:\n",
        "            continue\n",
        "        im = cv2.imread(f)\n",
        "        # im = img_to_array(im)\n",
        "        im = cv2.resize(im,(144,48))\n",
        "        im = imagenet_utils.preprocess_input(im)\n",
        "        \n",
        "        x.append(im)\n",
        "        char = [to_categorical(encoder.transform([i])[0], num_classes=len(encoder.classes_)) for i in char]\n",
        "\n",
        "        y1.append(char[0])\n",
        "        y2.append(char[1])\n",
        "        y3.append(char[2])\n",
        "        y4.append(char[3])\n",
        "    X = np.array(x,ndmin=4)\n",
        "    Y1 = np.array(y1)\n",
        "    Y2 = np.array(y2)\n",
        "    Y3 = np.array(y3)\n",
        "    Y4 = np.array(y4)\n",
        "    return X,Y1,Y2,Y3,Y4\n",
        "\n",
        "x_train,Y1,Y2,Y3,Y4 = load_data('../2_1_Convolutional/train/')\n",
        "h = model2.fit(x_train, {\"out1\": Y1, \"out2\": Y2, \"out3\": Y3, \"out4\": Y4}, epochs=20)\n",
        "\n"
      ]
    },
    {
      "cell_type": "code",
      "execution_count": 21,
      "id": "7288eaaa",
      "metadata": {
        "colab": {
          "base_uri": "https://localhost:8080/",
          "height": 266
        },
        "id": "7288eaaa",
        "outputId": "6f8e3bc2-40e3-42f2-811d-332ddf17bfa0"
      },
      "outputs": [
        {
          "name": "stderr",
          "output_type": "stream",
          "text": [
            "Clipping input data to the valid range for imshow with RGB data ([0..1] for floats or [0..255] for integers).\n"
          ]
        },
        {
          "data": {
            "text/plain": [
              "<matplotlib.image.AxesImage at 0x17e441bfbe0>"
            ]
          },
          "execution_count": 21,
          "metadata": {},
          "output_type": "execute_result"
        },
        {
          "data": {
            "image/png": "[encoded data removed]",
            "text/plain": [
              "<Figure size 640x480 with 1 Axes>"
            ]
          },
          "metadata": {},
          "output_type": "display_data"
        }
      ],
      "source": [
        "f = ('../2_1_Convolutional/test/UMEL.png')\n",
        "im = cv2.imread(f)\n",
        "im = cv2.cvtColor(im,cv2.COLOR_BGR2RGB)\n",
        "im = cv2.resize(im,(144,48))\n",
        "f = imagenet_utils.preprocess_input(im)\n",
        "# f = cv2.resize(f,(144,48))\n",
        "# f.shape\n",
        "plt.imshow(f)\n"
      ]
    },
    {
      "cell_type": "code",
      "execution_count": 22,
      "id": "db598832",
      "metadata": {
        "colab": {
          "base_uri": "https://localhost:8080/"
        },
        "id": "db598832",
        "outputId": "f22239ac-7f15-4ff8-d785-4d546cca1cf1"
      },
      "outputs": [
        {
          "name": "stdout",
          "output_type": "stream",
          "text": [
            "1/1 [==============================] - 0s 106ms/step\n"
          ]
        }
      ],
      "source": [
        "p = model2.predict(f.reshape(1,48,144,3))\n"
      ]
    },
    {
      "cell_type": "code",
      "execution_count": 23,
      "id": "9527eadb",
      "metadata": {
        "colab": {
          "base_uri": "https://localhost:8080/"
        },
        "id": "9527eadb",
        "outputId": "91df26d8-9236-4990-c019-d2361f644a2c"
      },
      "outputs": [
        {
          "name": "stdout",
          "output_type": "stream",
          "text": [
            "['U']\n",
            "['M']\n",
            "['H']\n",
            "['L']\n"
          ]
        }
      ],
      "source": [
        "for i in p:\n",
        "    # print(np.argmax(i))\n",
        "    print(encoder.inverse_transform([np.argmax(i)]))"
      ]
    },
    {
      "cell_type": "code",
      "execution_count": 17,
      "id": "AD_Fm17fd9gW",
      "metadata": {
        "id": "AD_Fm17fd9gW"
      },
      "outputs": [],
      "source": [
        "model2.save('model2.keras')"
      ]
    },
    {
      "cell_type": "code",
      "execution_count": null,
      "id": "5NTthbvJfIJc",
      "metadata": {
        "id": "5NTthbvJfIJc"
      },
      "outputs": [],
      "source": []
    }
  ],
  "metadata": {
    "accelerator": "GPU",
    "colab": {
      "gpuType": "T4",
      "provenance": []
    },
    "kernelspec": {
      "display_name": "tf-gpu-env",
      "language": "python",
      "name": "python3"
    },
    "language_info": {
      "codemirror_mode": {
        "name": "ipython",
        "version": 3
      },
      "file_extension": ".py",
      "mimetype": "text/x-python",
      "name": "python",
      "nbconvert_exporter": "python",
      "pygments_lexer": "ipython3",
      "version": "3.8.20"
    }
  },
  "nbformat": 4,
  "nbformat_minor": 5
}
