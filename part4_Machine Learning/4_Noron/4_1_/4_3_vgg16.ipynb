{
 "cells": [
  {
   "cell_type": "code",
   "execution_count": 1,
   "id": "c698c3df",
   "metadata": {},
   "outputs": [],
   "source": [
    "from keras.applications import VGG16\n",
    "from keras.applications import imagenet_utils\n",
    "\n",
    "from keras.layers import Flatten\n",
    "from keras.layers import Dense\n",
    "from keras.models import Model\n",
    "import numpy as np\n",
    "import pandas as pd\n",
    "import matplotlib.pyplot as plt\n",
    "\n",
    "from glob import glob\n",
    "import os\n",
    "import cv2\n",
    "import pickle\n",
    "from keras.utils import to_categorical\n",
    "from sklearn.preprocessing import LabelEncoder"
   ]
  },
  {
   "cell_type": "code",
   "execution_count": 2,
   "id": "377276d9",
   "metadata": {},
   "outputs": [],
   "source": [
    "model = VGG16(include_top=False,input_shape=(48,144,3))"
   ]
  },
  {
   "cell_type": "code",
   "execution_count": 3,
   "id": "3d2b738f",
   "metadata": {},
   "outputs": [
    {
     "name": "stdout",
     "output_type": "stream",
     "text": [
      "Model: \"vgg16\"\n",
      "_________________________________________________________________\n",
      " Layer (type)                Output Shape              Param #   \n",
      "=================================================================\n",
      " input_1 (InputLayer)        [(None, 48, 144, 3)]      0         \n",
      "                                                                 \n",
      " block1_conv1 (Conv2D)       (None, 48, 144, 64)       1792      \n",
      "                                                                 \n",
      " block1_conv2 (Conv2D)       (None, 48, 144, 64)       36928     \n",
      "                                                                 \n",
      " block1_pool (MaxPooling2D)  (None, 24, 72, 64)        0         \n",
      "                                                                 \n",
      " block2_conv1 (Conv2D)       (None, 24, 72, 128)       73856     \n",
      "                                                                 \n",
      " block2_conv2 (Conv2D)       (None, 24, 72, 128)       147584    \n",
      "                                                                 \n",
      " block2_pool (MaxPooling2D)  (None, 12, 36, 128)       0         \n",
      "                                                                 \n",
      " block3_conv1 (Conv2D)       (None, 12, 36, 256)       295168    \n",
      "                                                                 \n",
      " block3_conv2 (Conv2D)       (None, 12, 36, 256)       590080    \n",
      "                                                                 \n",
      " block3_conv3 (Conv2D)       (None, 12, 36, 256)       590080    \n",
      "                                                                 \n",
      " block3_pool (MaxPooling2D)  (None, 6, 18, 256)        0         \n",
      "                                                                 \n",
      " block4_conv1 (Conv2D)       (None, 6, 18, 512)        1180160   \n",
      "                                                                 \n",
      " block4_conv2 (Conv2D)       (None, 6, 18, 512)        2359808   \n",
      "                                                                 \n",
      " block4_conv3 (Conv2D)       (None, 6, 18, 512)        2359808   \n",
      "                                                                 \n",
      " block4_pool (MaxPooling2D)  (None, 3, 9, 512)         0         \n",
      "                                                                 \n",
      " block5_conv1 (Conv2D)       (None, 3, 9, 512)         2359808   \n",
      "                                                                 \n",
      " block5_conv2 (Conv2D)       (None, 3, 9, 512)         2359808   \n",
      "                                                                 \n",
      " block5_conv3 (Conv2D)       (None, 3, 9, 512)         2359808   \n",
      "                                                                 \n",
      " block5_pool (MaxPooling2D)  (None, 1, 4, 512)         0         \n",
      "                                                                 \n",
      "=================================================================\n",
      "Total params: 14,714,688\n",
      "Trainable params: 14,714,688\n",
      "Non-trainable params: 0\n",
      "_________________________________________________________________\n"
     ]
    }
   ],
   "source": [
    "model.summary()"
   ]
  },
  {
   "cell_type": "code",
   "execution_count": 4,
   "id": "b72fa7cb",
   "metadata": {},
   "outputs": [],
   "source": [
    "for l in model.layers:\n",
    "    l.trainable=False"
   ]
  },
  {
   "cell_type": "code",
   "execution_count": 5,
   "id": "3b8a5b61",
   "metadata": {},
   "outputs": [],
   "source": [
    "a = Flatten()(model.output)\n",
    "a = Dense(64,activation='relu')(a)\n",
    "a = Dense(32,activation='softmax')(a)\n",
    "model2 = Model(model.input,a)\n",
    "model2.compile('adam','categorical_crossentropy',metrics=['accuracy'])\n"
   ]
  },
  {
   "cell_type": "code",
   "execution_count": 6,
   "id": "08dfffb2",
   "metadata": {},
   "outputs": [
    {
     "name": "stdout",
     "output_type": "stream",
     "text": [
      "Model: \"model\"\n",
      "_________________________________________________________________\n",
      " Layer (type)                Output Shape              Param #   \n",
      "=================================================================\n",
      " input_1 (InputLayer)        [(None, 48, 144, 3)]      0         \n",
      "                                                                 \n",
      " block1_conv1 (Conv2D)       (None, 48, 144, 64)       1792      \n",
      "                                                                 \n",
      " block1_conv2 (Conv2D)       (None, 48, 144, 64)       36928     \n",
      "                                                                 \n",
      " block1_pool (MaxPooling2D)  (None, 24, 72, 64)        0         \n",
      "                                                                 \n",
      " block2_conv1 (Conv2D)       (None, 24, 72, 128)       73856     \n",
      "                                                                 \n",
      " block2_conv2 (Conv2D)       (None, 24, 72, 128)       147584    \n",
      "                                                                 \n",
      " block2_pool (MaxPooling2D)  (None, 12, 36, 128)       0         \n",
      "                                                                 \n",
      " block3_conv1 (Conv2D)       (None, 12, 36, 256)       295168    \n",
      "                                                                 \n",
      " block3_conv2 (Conv2D)       (None, 12, 36, 256)       590080    \n",
      "                                                                 \n",
      " block3_conv3 (Conv2D)       (None, 12, 36, 256)       590080    \n",
      "                                                                 \n",
      " block3_pool (MaxPooling2D)  (None, 6, 18, 256)        0         \n",
      "                                                                 \n",
      " block4_conv1 (Conv2D)       (None, 6, 18, 512)        1180160   \n",
      "                                                                 \n",
      " block4_conv2 (Conv2D)       (None, 6, 18, 512)        2359808   \n",
      "                                                                 \n",
      " block4_conv3 (Conv2D)       (None, 6, 18, 512)        2359808   \n",
      "                                                                 \n",
      " block4_pool (MaxPooling2D)  (None, 3, 9, 512)         0         \n",
      "                                                                 \n",
      " block5_conv1 (Conv2D)       (None, 3, 9, 512)         2359808   \n",
      "                                                                 \n",
      " block5_conv2 (Conv2D)       (None, 3, 9, 512)         2359808   \n",
      "                                                                 \n",
      " block5_conv3 (Conv2D)       (None, 3, 9, 512)         2359808   \n",
      "                                                                 \n",
      " block5_pool (MaxPooling2D)  (None, 1, 4, 512)         0         \n",
      "                                                                 \n",
      " flatten (Flatten)           (None, 2048)              0         \n",
      "                                                                 \n",
      " dense (Dense)               (None, 64)                131136    \n",
      "                                                                 \n",
      " dense_1 (Dense)             (None, 32)                2080      \n",
      "                                                                 \n",
      "=================================================================\n",
      "Total params: 14,847,904\n",
      "Trainable params: 133,216\n",
      "Non-trainable params: 14,714,688\n",
      "_________________________________________________________________\n"
     ]
    }
   ],
   "source": [
    "model2.summary()\n"
   ]
  },
  {
   "cell_type": "code",
   "execution_count": 7,
   "id": "3815bf66",
   "metadata": {},
   "outputs": [],
   "source": [
    "with open('encoder.bin','rb')as f:\n",
    "    encoder = pickle.load(f)"
   ]
  },
  {
   "cell_type": "code",
   "execution_count": 8,
   "id": "a2dfb49f",
   "metadata": {},
   "outputs": [
    {
     "data": {
      "text/plain": [
       "array(['2', '3', '4', '5', '6', '7', '8', '9', 'A', 'B', 'C', 'D', 'E',\n",
       "       'F', 'G', 'H', 'J', 'K', 'L', 'M', 'N', 'P', 'Q', 'R', 'S', 'T',\n",
       "       'U', 'V', 'W', 'X', 'Y', 'Z'], dtype='<U1')"
      ]
     },
     "execution_count": 8,
     "metadata": {},
     "output_type": "execute_result"
    }
   ],
   "source": [
    "encoder.classes_"
   ]
  },
  {
   "cell_type": "code",
   "execution_count": 9,
   "id": "2e5472b9",
   "metadata": {},
   "outputs": [],
   "source": [
    "def datagenerator(path, batch_size=100,c=0):\n",
    "    pattern= os.path.join(path,'*.png')\n",
    "    fills= glob(pattern)\n",
    "    offset=0\n",
    "    while True:\n",
    "        offset = 0\n",
    "        while offset<len(fills):\n",
    "            items = fills[offset:offset+batch_size]\n",
    "            offset+=batch_size\n",
    "            x = []\n",
    "            y = []\n",
    "            for f in items:\n",
    "                char = list(os.path.splitext(os.path.basename(f))[0])[c]\n",
    "                im = cv2.imread(f)\n",
    "                # im = img_to_array(im)\n",
    "                im = cv2.resize(im,(144,48))\n",
    "                im = imagenet_utils.preprocess_input(im)\n",
    "                \n",
    "                x.append(im)\n",
    "                y.append(to_categorical(encoder.transform([char]),num_classes=len(encoder.classes_)).reshape(-1))\n",
    "            X = np.array(x,ndmin=4)\n",
    "            Y = np.array(y,ndmin=2)\n",
    "            yield X,Y"
   ]
  },
  {
   "cell_type": "code",
   "execution_count": 10,
   "id": "3079cee7",
   "metadata": {},
   "outputs": [
    {
     "name": "stdout",
     "output_type": "stream",
     "text": [
      "100 100\n",
      "(100, 48, 144, 3) (100, 32)\n"
     ]
    }
   ],
   "source": [
    "data = datagenerator('../2_1_Convolutional/train/')\n",
    "x, y = next(data)\n",
    "print(len(x), len(y))\n",
    "print(x.shape, y.shape)\n"
   ]
  },
  {
   "cell_type": "code",
   "execution_count": null,
   "id": "e18786e8",
   "metadata": {},
   "outputs": [
    {
     "name": "stdout",
     "output_type": "stream",
     "text": [
      "Epoch 1/10\n",
      "98/98 [==============================] - 37s 239ms/step - loss: 4.6725 - accuracy: 0.0085\n",
      "Epoch 2/10\n",
      "98/98 [==============================] - 28s 239ms/step - loss: 3.4029 - accuracy: 0.0317\n",
      "Epoch 3/10\n",
      "98/98 [==============================] - 23s 238ms/step - loss: 3.4023 - accuracy: 0.0763\n",
      "Epoch 4/10\n",
      "98/98 [==============================] - 23s 238ms/step - loss: 3.1282 - accuracy: 0.0837\n",
      "Epoch 5/10\n",
      "98/98 [==============================] - 23s 239ms/step - loss: 3.0521 - accuracy: 0.1177\n",
      "Epoch 6/10\n",
      "98/98 [==============================] - 24s 242ms/step - loss: 2.9222 - accuracy: 0.1850\n",
      "Epoch 7/10\n",
      "98/98 [==============================] - 32s 323ms/step - loss: 2.7956 - accuracy: 0.1914\n",
      "Epoch 8/10\n",
      "98/98 [==============================] - 23s 239ms/step - loss: 2.6573 - accuracy: 0.2256\n",
      "Epoch 9/10\n",
      "98/98 [==============================] - 24s 246ms/step - loss: 2.4488 - accuracy: 0.2601\n",
      "Epoch 10/10\n",
      "98/98 [==============================] - 23s 239ms/step - loss: 2.3664 - accuracy: 0.2931\n"
     ]
    }
   ],
   "source": [
    "train_path = '../2_1_Convolutional/train/'\n",
    "train_files = glob(os.path.join(train_path, '*.png'))\n",
    "batch_size = 100\n",
    "\n",
    "steps_per_epoch = len(train_files) // batch_size\n",
    "h = model2.fit(datagenerator('../2_1_Convolutional/train/'),epochs=20  ,  steps_per_epoch=steps_per_epoch,)\n"
   ]
  },
  {
   "cell_type": "code",
   "execution_count": 12,
   "id": "483eeb08",
   "metadata": {},
   "outputs": [],
   "source": [
    "# def load_data(p):\n",
    "#     pattern = os.path.join(p,'*.png')\n",
    "#     files = glob(pattern)\n",
    "#     x = []\n",
    "#     y = []\n",
    "#     for f in files:\n",
    "#         char = list(os.path.splitext(os.path.basename(f))[0])[0]\n",
    "#         im = cv2.imread(f)\n",
    "#         # im = img_to_array(im)\n",
    "#         im = cv2.resize(im,(144,48))\n",
    "#         im = imagenet_utils.preprocess_input(im)\n",
    "        \n",
    "#         x.append(im)\n",
    "#         y.append(to_categorical(encoder.transform([char]),num_classes=len(encoder.classes_)).reshape(-1))\n",
    "#     X = np.array(x,ndmin=4)\n",
    "#     Y = np.array(y,ndmin=2)\n",
    "#     return X,Y\n",
    "\n",
    "# x_train,y_train = load_data('../2_1_Convolutional/train/')\n",
    "# h = model2.fit(x_train,y_train,epochs=10 )\n"
   ]
  },
  {
   "cell_type": "code",
   "execution_count": 16,
   "id": "7288eaaa",
   "metadata": {},
   "outputs": [
    {
     "name": "stderr",
     "output_type": "stream",
     "text": [
      "Clipping input data to the valid range for imshow with RGB data ([0..1] for floats or [0..255] for integers).\n"
     ]
    },
    {
     "data": {
      "text/plain": [
       "<matplotlib.image.AxesImage at 0x22e184a8a00>"
      ]
     },
     "execution_count": 16,
     "metadata": {},
     "output_type": "execute_result"
    },
    {
     "data": {
      "image/png": "[encoded data removed]",
      "text/plain": [
       "<Figure size 640x480 with 1 Axes>"
      ]
     },
     "metadata": {},
     "output_type": "display_data"
    }
   ],
   "source": [
    "f = ('../2_1_Convolutional/test/H4DW.png')\n",
    "im = cv2.imread(f)\n",
    "im = cv2.cvtColor(im,cv2.COLOR_BGR2RGB)\n",
    "im = cv2.resize(im,(144,48))\n",
    "im = np.array(im)\n",
    "im = imagenet_utils.preprocess_input(im)\n",
    "plt.imshow(im)\n"
   ]
  },
  {
   "cell_type": "code",
   "execution_count": 17,
   "id": "db598832",
   "metadata": {},
   "outputs": [
    {
     "name": "stdout",
     "output_type": "stream",
     "text": [
      "1/1 [==============================] - 0s 171ms/step\n"
     ]
    }
   ],
   "source": [
    "p = model2.predict(im.reshape(1,48,144,3))"
   ]
  },
  {
   "cell_type": "code",
   "execution_count": 18,
   "id": "d740a524",
   "metadata": {},
   "outputs": [
    {
     "data": {
      "text/plain": [
       "array(['U'], dtype='<U1')"
      ]
     },
     "execution_count": 18,
     "metadata": {},
     "output_type": "execute_result"
    }
   ],
   "source": [
    "encoder.inverse_transform((p[0].argmax(),))"
   ]
  },
  {
   "cell_type": "code",
   "execution_count": null,
   "id": "4dde06d4",
   "metadata": {},
   "outputs": [],
   "source": []
  }
 ],
 "metadata": {
  "kernelspec": {
   "display_name": "tf-gpu-env",
   "language": "python",
   "name": "python3"
  },
  "language_info": {
   "codemirror_mode": {
    "name": "ipython",
    "version": 3
   },
   "file_extension": ".py",
   "mimetype": "text/x-python",
   "name": "python",
   "nbconvert_exporter": "python",
   "pygments_lexer": "ipython3",
   "version": "3.8.20"
  }
 },
 "nbformat": 4,
 "nbformat_minor": 5
}
